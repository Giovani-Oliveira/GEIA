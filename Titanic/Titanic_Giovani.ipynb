{
  "nbformat": 4,
  "nbformat_minor": 0,
  "metadata": {
    "colab": {
      "provenance": []
    },
    "kernelspec": {
      "name": "python3",
      "display_name": "Python 3"
    },
    "language_info": {
      "name": "python"
    },
    "widgets": {
      "application/vnd.jupyter.widget-state+json": {
        "442edbff022b429f8ef8b26b0b2de964": {
          "model_module": "@jupyter-widgets/controls",
          "model_name": "HBoxModel",
          "model_module_version": "1.5.0",
          "state": {
            "_dom_classes": [],
            "_model_module": "@jupyter-widgets/controls",
            "_model_module_version": "1.5.0",
            "_model_name": "HBoxModel",
            "_view_count": null,
            "_view_module": "@jupyter-widgets/controls",
            "_view_module_version": "1.5.0",
            "_view_name": "HBoxView",
            "box_style": "",
            "children": [
              "IPY_MODEL_ae98fa6b25ff40a4abc3fa16ce81655d",
              "IPY_MODEL_1cd83530df1140c0850e85c52b5f1ec8",
              "IPY_MODEL_bb36bce52b6b4b6a97f29988a1b5c847"
            ],
            "layout": "IPY_MODEL_6294a55666234f9681a40a3fc56fc60f"
          }
        },
        "ae98fa6b25ff40a4abc3fa16ce81655d": {
          "model_module": "@jupyter-widgets/controls",
          "model_name": "HTMLModel",
          "model_module_version": "1.5.0",
          "state": {
            "_dom_classes": [],
            "_model_module": "@jupyter-widgets/controls",
            "_model_module_version": "1.5.0",
            "_model_name": "HTMLModel",
            "_view_count": null,
            "_view_module": "@jupyter-widgets/controls",
            "_view_module_version": "1.5.0",
            "_view_name": "HTMLView",
            "description": "",
            "description_tooltip": null,
            "layout": "IPY_MODEL_fbf15b94299b44faa23eda7f5e8bdc62",
            "placeholder": "​",
            "style": "IPY_MODEL_8547c9e580614d9c862636969ff24565",
            "value": "Processing: 100%"
          }
        },
        "1cd83530df1140c0850e85c52b5f1ec8": {
          "model_module": "@jupyter-widgets/controls",
          "model_name": "FloatProgressModel",
          "model_module_version": "1.5.0",
          "state": {
            "_dom_classes": [],
            "_model_module": "@jupyter-widgets/controls",
            "_model_module_version": "1.5.0",
            "_model_name": "FloatProgressModel",
            "_view_count": null,
            "_view_module": "@jupyter-widgets/controls",
            "_view_module_version": "1.5.0",
            "_view_name": "ProgressView",
            "bar_style": "",
            "description": "",
            "description_tooltip": null,
            "layout": "IPY_MODEL_1ae81d71e5d74159a31413fc17437fa1",
            "max": 61,
            "min": 0,
            "orientation": "horizontal",
            "style": "IPY_MODEL_d0222c84f59e48c8be2ce66ce8604a7d",
            "value": 61
          }
        },
        "bb36bce52b6b4b6a97f29988a1b5c847": {
          "model_module": "@jupyter-widgets/controls",
          "model_name": "HTMLModel",
          "model_module_version": "1.5.0",
          "state": {
            "_dom_classes": [],
            "_model_module": "@jupyter-widgets/controls",
            "_model_module_version": "1.5.0",
            "_model_name": "HTMLModel",
            "_view_count": null,
            "_view_module": "@jupyter-widgets/controls",
            "_view_module_version": "1.5.0",
            "_view_name": "HTMLView",
            "description": "",
            "description_tooltip": null,
            "layout": "IPY_MODEL_d285434c9bb943fc86fc2d7a25a325bf",
            "placeholder": "​",
            "style": "IPY_MODEL_88b1357893c0459482b4870db01d40f2",
            "value": " 61/61 [00:49&lt;00:00,  2.56it/s]"
          }
        },
        "6294a55666234f9681a40a3fc56fc60f": {
          "model_module": "@jupyter-widgets/base",
          "model_name": "LayoutModel",
          "model_module_version": "1.2.0",
          "state": {
            "_model_module": "@jupyter-widgets/base",
            "_model_module_version": "1.2.0",
            "_model_name": "LayoutModel",
            "_view_count": null,
            "_view_module": "@jupyter-widgets/base",
            "_view_module_version": "1.2.0",
            "_view_name": "LayoutView",
            "align_content": null,
            "align_items": null,
            "align_self": null,
            "border": null,
            "bottom": null,
            "display": null,
            "flex": null,
            "flex_flow": null,
            "grid_area": null,
            "grid_auto_columns": null,
            "grid_auto_flow": null,
            "grid_auto_rows": null,
            "grid_column": null,
            "grid_gap": null,
            "grid_row": null,
            "grid_template_areas": null,
            "grid_template_columns": null,
            "grid_template_rows": null,
            "height": null,
            "justify_content": null,
            "justify_items": null,
            "left": null,
            "margin": null,
            "max_height": null,
            "max_width": null,
            "min_height": null,
            "min_width": null,
            "object_fit": null,
            "object_position": null,
            "order": null,
            "overflow": null,
            "overflow_x": null,
            "overflow_y": null,
            "padding": null,
            "right": null,
            "top": null,
            "visibility": "hidden",
            "width": null
          }
        },
        "fbf15b94299b44faa23eda7f5e8bdc62": {
          "model_module": "@jupyter-widgets/base",
          "model_name": "LayoutModel",
          "model_module_version": "1.2.0",
          "state": {
            "_model_module": "@jupyter-widgets/base",
            "_model_module_version": "1.2.0",
            "_model_name": "LayoutModel",
            "_view_count": null,
            "_view_module": "@jupyter-widgets/base",
            "_view_module_version": "1.2.0",
            "_view_name": "LayoutView",
            "align_content": null,
            "align_items": null,
            "align_self": null,
            "border": null,
            "bottom": null,
            "display": null,
            "flex": null,
            "flex_flow": null,
            "grid_area": null,
            "grid_auto_columns": null,
            "grid_auto_flow": null,
            "grid_auto_rows": null,
            "grid_column": null,
            "grid_gap": null,
            "grid_row": null,
            "grid_template_areas": null,
            "grid_template_columns": null,
            "grid_template_rows": null,
            "height": null,
            "justify_content": null,
            "justify_items": null,
            "left": null,
            "margin": null,
            "max_height": null,
            "max_width": null,
            "min_height": null,
            "min_width": null,
            "object_fit": null,
            "object_position": null,
            "order": null,
            "overflow": null,
            "overflow_x": null,
            "overflow_y": null,
            "padding": null,
            "right": null,
            "top": null,
            "visibility": null,
            "width": null
          }
        },
        "8547c9e580614d9c862636969ff24565": {
          "model_module": "@jupyter-widgets/controls",
          "model_name": "DescriptionStyleModel",
          "model_module_version": "1.5.0",
          "state": {
            "_model_module": "@jupyter-widgets/controls",
            "_model_module_version": "1.5.0",
            "_model_name": "DescriptionStyleModel",
            "_view_count": null,
            "_view_module": "@jupyter-widgets/base",
            "_view_module_version": "1.2.0",
            "_view_name": "StyleView",
            "description_width": ""
          }
        },
        "1ae81d71e5d74159a31413fc17437fa1": {
          "model_module": "@jupyter-widgets/base",
          "model_name": "LayoutModel",
          "model_module_version": "1.2.0",
          "state": {
            "_model_module": "@jupyter-widgets/base",
            "_model_module_version": "1.2.0",
            "_model_name": "LayoutModel",
            "_view_count": null,
            "_view_module": "@jupyter-widgets/base",
            "_view_module_version": "1.2.0",
            "_view_name": "LayoutView",
            "align_content": null,
            "align_items": null,
            "align_self": null,
            "border": null,
            "bottom": null,
            "display": null,
            "flex": null,
            "flex_flow": null,
            "grid_area": null,
            "grid_auto_columns": null,
            "grid_auto_flow": null,
            "grid_auto_rows": null,
            "grid_column": null,
            "grid_gap": null,
            "grid_row": null,
            "grid_template_areas": null,
            "grid_template_columns": null,
            "grid_template_rows": null,
            "height": null,
            "justify_content": null,
            "justify_items": null,
            "left": null,
            "margin": null,
            "max_height": null,
            "max_width": null,
            "min_height": null,
            "min_width": null,
            "object_fit": null,
            "object_position": null,
            "order": null,
            "overflow": null,
            "overflow_x": null,
            "overflow_y": null,
            "padding": null,
            "right": null,
            "top": null,
            "visibility": null,
            "width": null
          }
        },
        "d0222c84f59e48c8be2ce66ce8604a7d": {
          "model_module": "@jupyter-widgets/controls",
          "model_name": "ProgressStyleModel",
          "model_module_version": "1.5.0",
          "state": {
            "_model_module": "@jupyter-widgets/controls",
            "_model_module_version": "1.5.0",
            "_model_name": "ProgressStyleModel",
            "_view_count": null,
            "_view_module": "@jupyter-widgets/base",
            "_view_module_version": "1.2.0",
            "_view_name": "StyleView",
            "bar_color": null,
            "description_width": ""
          }
        },
        "d285434c9bb943fc86fc2d7a25a325bf": {
          "model_module": "@jupyter-widgets/base",
          "model_name": "LayoutModel",
          "model_module_version": "1.2.0",
          "state": {
            "_model_module": "@jupyter-widgets/base",
            "_model_module_version": "1.2.0",
            "_model_name": "LayoutModel",
            "_view_count": null,
            "_view_module": "@jupyter-widgets/base",
            "_view_module_version": "1.2.0",
            "_view_name": "LayoutView",
            "align_content": null,
            "align_items": null,
            "align_self": null,
            "border": null,
            "bottom": null,
            "display": null,
            "flex": null,
            "flex_flow": null,
            "grid_area": null,
            "grid_auto_columns": null,
            "grid_auto_flow": null,
            "grid_auto_rows": null,
            "grid_column": null,
            "grid_gap": null,
            "grid_row": null,
            "grid_template_areas": null,
            "grid_template_columns": null,
            "grid_template_rows": null,
            "height": null,
            "justify_content": null,
            "justify_items": null,
            "left": null,
            "margin": null,
            "max_height": null,
            "max_width": null,
            "min_height": null,
            "min_width": null,
            "object_fit": null,
            "object_position": null,
            "order": null,
            "overflow": null,
            "overflow_x": null,
            "overflow_y": null,
            "padding": null,
            "right": null,
            "top": null,
            "visibility": null,
            "width": null
          }
        },
        "88b1357893c0459482b4870db01d40f2": {
          "model_module": "@jupyter-widgets/controls",
          "model_name": "DescriptionStyleModel",
          "model_module_version": "1.5.0",
          "state": {
            "_model_module": "@jupyter-widgets/controls",
            "_model_module_version": "1.5.0",
            "_model_name": "DescriptionStyleModel",
            "_view_count": null,
            "_view_module": "@jupyter-widgets/base",
            "_view_module_version": "1.2.0",
            "_view_name": "StyleView",
            "description_width": ""
          }
        },
        "7f536c259cd441798a840f3f07386355": {
          "model_module": "@jupyter-widgets/controls",
          "model_name": "HBoxModel",
          "model_module_version": "1.5.0",
          "state": {
            "_dom_classes": [],
            "_model_module": "@jupyter-widgets/controls",
            "_model_module_version": "1.5.0",
            "_model_name": "HBoxModel",
            "_view_count": null,
            "_view_module": "@jupyter-widgets/controls",
            "_view_module_version": "1.5.0",
            "_view_name": "HBoxView",
            "box_style": "",
            "children": [
              "IPY_MODEL_d37a2d84a50f46b39a716e806ea28bd4",
              "IPY_MODEL_030db80b3e0a4004a34d268257117427",
              "IPY_MODEL_f9a05c6487ce46529089451cb00e1700"
            ],
            "layout": "IPY_MODEL_80e96ae267cb454e95a9860c4bb46fb9"
          }
        },
        "d37a2d84a50f46b39a716e806ea28bd4": {
          "model_module": "@jupyter-widgets/controls",
          "model_name": "HTMLModel",
          "model_module_version": "1.5.0",
          "state": {
            "_dom_classes": [],
            "_model_module": "@jupyter-widgets/controls",
            "_model_module_version": "1.5.0",
            "_model_name": "HTMLModel",
            "_view_count": null,
            "_view_module": "@jupyter-widgets/controls",
            "_view_module_version": "1.5.0",
            "_view_name": "HTMLView",
            "description": "",
            "description_tooltip": null,
            "layout": "IPY_MODEL_6926c2c3598e4baa85fe7744dca65a05",
            "placeholder": "​",
            "style": "IPY_MODEL_50722847c8074e9a9ea573f07e946069",
            "value": "Processing: 100%"
          }
        },
        "030db80b3e0a4004a34d268257117427": {
          "model_module": "@jupyter-widgets/controls",
          "model_name": "FloatProgressModel",
          "model_module_version": "1.5.0",
          "state": {
            "_dom_classes": [],
            "_model_module": "@jupyter-widgets/controls",
            "_model_module_version": "1.5.0",
            "_model_name": "FloatProgressModel",
            "_view_count": null,
            "_view_module": "@jupyter-widgets/controls",
            "_view_module_version": "1.5.0",
            "_view_name": "ProgressView",
            "bar_style": "",
            "description": "",
            "description_tooltip": null,
            "layout": "IPY_MODEL_a05027a57c5d435bb7983c545667513d",
            "max": 4,
            "min": 0,
            "orientation": "horizontal",
            "style": "IPY_MODEL_1f3b8d5fc3714103bd54600704a3994d",
            "value": 4
          }
        },
        "f9a05c6487ce46529089451cb00e1700": {
          "model_module": "@jupyter-widgets/controls",
          "model_name": "HTMLModel",
          "model_module_version": "1.5.0",
          "state": {
            "_dom_classes": [],
            "_model_module": "@jupyter-widgets/controls",
            "_model_module_version": "1.5.0",
            "_model_name": "HTMLModel",
            "_view_count": null,
            "_view_module": "@jupyter-widgets/controls",
            "_view_module_version": "1.5.0",
            "_view_name": "HTMLView",
            "description": "",
            "description_tooltip": null,
            "layout": "IPY_MODEL_472f3bb694914629b5072ac3c04ebb7c",
            "placeholder": "​",
            "style": "IPY_MODEL_946d146aec514e0a9cd5a7fe6fd9e7ae",
            "value": " 4/4 [00:02&lt;00:00,  1.65it/s]"
          }
        },
        "80e96ae267cb454e95a9860c4bb46fb9": {
          "model_module": "@jupyter-widgets/base",
          "model_name": "LayoutModel",
          "model_module_version": "1.2.0",
          "state": {
            "_model_module": "@jupyter-widgets/base",
            "_model_module_version": "1.2.0",
            "_model_name": "LayoutModel",
            "_view_count": null,
            "_view_module": "@jupyter-widgets/base",
            "_view_module_version": "1.2.0",
            "_view_name": "LayoutView",
            "align_content": null,
            "align_items": null,
            "align_self": null,
            "border": null,
            "bottom": null,
            "display": null,
            "flex": null,
            "flex_flow": null,
            "grid_area": null,
            "grid_auto_columns": null,
            "grid_auto_flow": null,
            "grid_auto_rows": null,
            "grid_column": null,
            "grid_gap": null,
            "grid_row": null,
            "grid_template_areas": null,
            "grid_template_columns": null,
            "grid_template_rows": null,
            "height": null,
            "justify_content": null,
            "justify_items": null,
            "left": null,
            "margin": null,
            "max_height": null,
            "max_width": null,
            "min_height": null,
            "min_width": null,
            "object_fit": null,
            "object_position": null,
            "order": null,
            "overflow": null,
            "overflow_x": null,
            "overflow_y": null,
            "padding": null,
            "right": null,
            "top": null,
            "visibility": "hidden",
            "width": null
          }
        },
        "6926c2c3598e4baa85fe7744dca65a05": {
          "model_module": "@jupyter-widgets/base",
          "model_name": "LayoutModel",
          "model_module_version": "1.2.0",
          "state": {
            "_model_module": "@jupyter-widgets/base",
            "_model_module_version": "1.2.0",
            "_model_name": "LayoutModel",
            "_view_count": null,
            "_view_module": "@jupyter-widgets/base",
            "_view_module_version": "1.2.0",
            "_view_name": "LayoutView",
            "align_content": null,
            "align_items": null,
            "align_self": null,
            "border": null,
            "bottom": null,
            "display": null,
            "flex": null,
            "flex_flow": null,
            "grid_area": null,
            "grid_auto_columns": null,
            "grid_auto_flow": null,
            "grid_auto_rows": null,
            "grid_column": null,
            "grid_gap": null,
            "grid_row": null,
            "grid_template_areas": null,
            "grid_template_columns": null,
            "grid_template_rows": null,
            "height": null,
            "justify_content": null,
            "justify_items": null,
            "left": null,
            "margin": null,
            "max_height": null,
            "max_width": null,
            "min_height": null,
            "min_width": null,
            "object_fit": null,
            "object_position": null,
            "order": null,
            "overflow": null,
            "overflow_x": null,
            "overflow_y": null,
            "padding": null,
            "right": null,
            "top": null,
            "visibility": null,
            "width": null
          }
        },
        "50722847c8074e9a9ea573f07e946069": {
          "model_module": "@jupyter-widgets/controls",
          "model_name": "DescriptionStyleModel",
          "model_module_version": "1.5.0",
          "state": {
            "_model_module": "@jupyter-widgets/controls",
            "_model_module_version": "1.5.0",
            "_model_name": "DescriptionStyleModel",
            "_view_count": null,
            "_view_module": "@jupyter-widgets/base",
            "_view_module_version": "1.2.0",
            "_view_name": "StyleView",
            "description_width": ""
          }
        },
        "a05027a57c5d435bb7983c545667513d": {
          "model_module": "@jupyter-widgets/base",
          "model_name": "LayoutModel",
          "model_module_version": "1.2.0",
          "state": {
            "_model_module": "@jupyter-widgets/base",
            "_model_module_version": "1.2.0",
            "_model_name": "LayoutModel",
            "_view_count": null,
            "_view_module": "@jupyter-widgets/base",
            "_view_module_version": "1.2.0",
            "_view_name": "LayoutView",
            "align_content": null,
            "align_items": null,
            "align_self": null,
            "border": null,
            "bottom": null,
            "display": null,
            "flex": null,
            "flex_flow": null,
            "grid_area": null,
            "grid_auto_columns": null,
            "grid_auto_flow": null,
            "grid_auto_rows": null,
            "grid_column": null,
            "grid_gap": null,
            "grid_row": null,
            "grid_template_areas": null,
            "grid_template_columns": null,
            "grid_template_rows": null,
            "height": null,
            "justify_content": null,
            "justify_items": null,
            "left": null,
            "margin": null,
            "max_height": null,
            "max_width": null,
            "min_height": null,
            "min_width": null,
            "object_fit": null,
            "object_position": null,
            "order": null,
            "overflow": null,
            "overflow_x": null,
            "overflow_y": null,
            "padding": null,
            "right": null,
            "top": null,
            "visibility": null,
            "width": null
          }
        },
        "1f3b8d5fc3714103bd54600704a3994d": {
          "model_module": "@jupyter-widgets/controls",
          "model_name": "ProgressStyleModel",
          "model_module_version": "1.5.0",
          "state": {
            "_model_module": "@jupyter-widgets/controls",
            "_model_module_version": "1.5.0",
            "_model_name": "ProgressStyleModel",
            "_view_count": null,
            "_view_module": "@jupyter-widgets/base",
            "_view_module_version": "1.2.0",
            "_view_name": "StyleView",
            "bar_color": null,
            "description_width": ""
          }
        },
        "472f3bb694914629b5072ac3c04ebb7c": {
          "model_module": "@jupyter-widgets/base",
          "model_name": "LayoutModel",
          "model_module_version": "1.2.0",
          "state": {
            "_model_module": "@jupyter-widgets/base",
            "_model_module_version": "1.2.0",
            "_model_name": "LayoutModel",
            "_view_count": null,
            "_view_module": "@jupyter-widgets/base",
            "_view_module_version": "1.2.0",
            "_view_name": "LayoutView",
            "align_content": null,
            "align_items": null,
            "align_self": null,
            "border": null,
            "bottom": null,
            "display": null,
            "flex": null,
            "flex_flow": null,
            "grid_area": null,
            "grid_auto_columns": null,
            "grid_auto_flow": null,
            "grid_auto_rows": null,
            "grid_column": null,
            "grid_gap": null,
            "grid_row": null,
            "grid_template_areas": null,
            "grid_template_columns": null,
            "grid_template_rows": null,
            "height": null,
            "justify_content": null,
            "justify_items": null,
            "left": null,
            "margin": null,
            "max_height": null,
            "max_width": null,
            "min_height": null,
            "min_width": null,
            "object_fit": null,
            "object_position": null,
            "order": null,
            "overflow": null,
            "overflow_x": null,
            "overflow_y": null,
            "padding": null,
            "right": null,
            "top": null,
            "visibility": null,
            "width": null
          }
        },
        "946d146aec514e0a9cd5a7fe6fd9e7ae": {
          "model_module": "@jupyter-widgets/controls",
          "model_name": "DescriptionStyleModel",
          "model_module_version": "1.5.0",
          "state": {
            "_model_module": "@jupyter-widgets/controls",
            "_model_module_version": "1.5.0",
            "_model_name": "DescriptionStyleModel",
            "_view_count": null,
            "_view_module": "@jupyter-widgets/base",
            "_view_module_version": "1.2.0",
            "_view_name": "StyleView",
            "description_width": ""
          }
        },
        "a7c455582f2e4b36b27c8e50647b1641": {
          "model_module": "@jupyter-widgets/controls",
          "model_name": "HBoxModel",
          "model_module_version": "1.5.0",
          "state": {
            "_dom_classes": [],
            "_model_module": "@jupyter-widgets/controls",
            "_model_module_version": "1.5.0",
            "_model_name": "HBoxModel",
            "_view_count": null,
            "_view_module": "@jupyter-widgets/controls",
            "_view_module_version": "1.5.0",
            "_view_name": "HBoxView",
            "box_style": "",
            "children": [
              "IPY_MODEL_6fb8d3a2976b479cb6b0fd93122b6275",
              "IPY_MODEL_e3ac304991d84ce785101b2df0ecbe19",
              "IPY_MODEL_90ea5ce96e18482ba893f60d8bf91c97"
            ],
            "layout": "IPY_MODEL_26aa56c9a38845248719e31d42c4c7db"
          }
        },
        "6fb8d3a2976b479cb6b0fd93122b6275": {
          "model_module": "@jupyter-widgets/controls",
          "model_name": "HTMLModel",
          "model_module_version": "1.5.0",
          "state": {
            "_dom_classes": [],
            "_model_module": "@jupyter-widgets/controls",
            "_model_module_version": "1.5.0",
            "_model_name": "HTMLModel",
            "_view_count": null,
            "_view_module": "@jupyter-widgets/controls",
            "_view_module_version": "1.5.0",
            "_view_name": "HTMLView",
            "description": "",
            "description_tooltip": null,
            "layout": "IPY_MODEL_58c559a841a64e4eb7d55540f8e6dc47",
            "placeholder": "​",
            "style": "IPY_MODEL_794305067e154e46839d9fdf57a4cfe6",
            "value": "Processing: 100%"
          }
        },
        "e3ac304991d84ce785101b2df0ecbe19": {
          "model_module": "@jupyter-widgets/controls",
          "model_name": "FloatProgressModel",
          "model_module_version": "1.5.0",
          "state": {
            "_dom_classes": [],
            "_model_module": "@jupyter-widgets/controls",
            "_model_module_version": "1.5.0",
            "_model_name": "FloatProgressModel",
            "_view_count": null,
            "_view_module": "@jupyter-widgets/controls",
            "_view_module_version": "1.5.0",
            "_view_name": "ProgressView",
            "bar_style": "",
            "description": "",
            "description_tooltip": null,
            "layout": "IPY_MODEL_cc383f2cffd942679e80bf5402910baf",
            "max": 7,
            "min": 0,
            "orientation": "horizontal",
            "style": "IPY_MODEL_86a1726128a14359b0f4f4824b475c5b",
            "value": 7
          }
        },
        "90ea5ce96e18482ba893f60d8bf91c97": {
          "model_module": "@jupyter-widgets/controls",
          "model_name": "HTMLModel",
          "model_module_version": "1.5.0",
          "state": {
            "_dom_classes": [],
            "_model_module": "@jupyter-widgets/controls",
            "_model_module_version": "1.5.0",
            "_model_name": "HTMLModel",
            "_view_count": null,
            "_view_module": "@jupyter-widgets/controls",
            "_view_module_version": "1.5.0",
            "_view_name": "HTMLView",
            "description": "",
            "description_tooltip": null,
            "layout": "IPY_MODEL_0e121efe9b5e40a387c842005b3bf27e",
            "placeholder": "​",
            "style": "IPY_MODEL_87a7caeffcf54240a1bbf71bf2417290",
            "value": " 7/7 [00:32&lt;00:00,  3.73s/it]"
          }
        },
        "26aa56c9a38845248719e31d42c4c7db": {
          "model_module": "@jupyter-widgets/base",
          "model_name": "LayoutModel",
          "model_module_version": "1.2.0",
          "state": {
            "_model_module": "@jupyter-widgets/base",
            "_model_module_version": "1.2.0",
            "_model_name": "LayoutModel",
            "_view_count": null,
            "_view_module": "@jupyter-widgets/base",
            "_view_module_version": "1.2.0",
            "_view_name": "LayoutView",
            "align_content": null,
            "align_items": null,
            "align_self": null,
            "border": null,
            "bottom": null,
            "display": null,
            "flex": null,
            "flex_flow": null,
            "grid_area": null,
            "grid_auto_columns": null,
            "grid_auto_flow": null,
            "grid_auto_rows": null,
            "grid_column": null,
            "grid_gap": null,
            "grid_row": null,
            "grid_template_areas": null,
            "grid_template_columns": null,
            "grid_template_rows": null,
            "height": null,
            "justify_content": null,
            "justify_items": null,
            "left": null,
            "margin": null,
            "max_height": null,
            "max_width": null,
            "min_height": null,
            "min_width": null,
            "object_fit": null,
            "object_position": null,
            "order": null,
            "overflow": null,
            "overflow_x": null,
            "overflow_y": null,
            "padding": null,
            "right": null,
            "top": null,
            "visibility": "hidden",
            "width": null
          }
        },
        "58c559a841a64e4eb7d55540f8e6dc47": {
          "model_module": "@jupyter-widgets/base",
          "model_name": "LayoutModel",
          "model_module_version": "1.2.0",
          "state": {
            "_model_module": "@jupyter-widgets/base",
            "_model_module_version": "1.2.0",
            "_model_name": "LayoutModel",
            "_view_count": null,
            "_view_module": "@jupyter-widgets/base",
            "_view_module_version": "1.2.0",
            "_view_name": "LayoutView",
            "align_content": null,
            "align_items": null,
            "align_self": null,
            "border": null,
            "bottom": null,
            "display": null,
            "flex": null,
            "flex_flow": null,
            "grid_area": null,
            "grid_auto_columns": null,
            "grid_auto_flow": null,
            "grid_auto_rows": null,
            "grid_column": null,
            "grid_gap": null,
            "grid_row": null,
            "grid_template_areas": null,
            "grid_template_columns": null,
            "grid_template_rows": null,
            "height": null,
            "justify_content": null,
            "justify_items": null,
            "left": null,
            "margin": null,
            "max_height": null,
            "max_width": null,
            "min_height": null,
            "min_width": null,
            "object_fit": null,
            "object_position": null,
            "order": null,
            "overflow": null,
            "overflow_x": null,
            "overflow_y": null,
            "padding": null,
            "right": null,
            "top": null,
            "visibility": null,
            "width": null
          }
        },
        "794305067e154e46839d9fdf57a4cfe6": {
          "model_module": "@jupyter-widgets/controls",
          "model_name": "DescriptionStyleModel",
          "model_module_version": "1.5.0",
          "state": {
            "_model_module": "@jupyter-widgets/controls",
            "_model_module_version": "1.5.0",
            "_model_name": "DescriptionStyleModel",
            "_view_count": null,
            "_view_module": "@jupyter-widgets/base",
            "_view_module_version": "1.2.0",
            "_view_name": "StyleView",
            "description_width": ""
          }
        },
        "cc383f2cffd942679e80bf5402910baf": {
          "model_module": "@jupyter-widgets/base",
          "model_name": "LayoutModel",
          "model_module_version": "1.2.0",
          "state": {
            "_model_module": "@jupyter-widgets/base",
            "_model_module_version": "1.2.0",
            "_model_name": "LayoutModel",
            "_view_count": null,
            "_view_module": "@jupyter-widgets/base",
            "_view_module_version": "1.2.0",
            "_view_name": "LayoutView",
            "align_content": null,
            "align_items": null,
            "align_self": null,
            "border": null,
            "bottom": null,
            "display": null,
            "flex": null,
            "flex_flow": null,
            "grid_area": null,
            "grid_auto_columns": null,
            "grid_auto_flow": null,
            "grid_auto_rows": null,
            "grid_column": null,
            "grid_gap": null,
            "grid_row": null,
            "grid_template_areas": null,
            "grid_template_columns": null,
            "grid_template_rows": null,
            "height": null,
            "justify_content": null,
            "justify_items": null,
            "left": null,
            "margin": null,
            "max_height": null,
            "max_width": null,
            "min_height": null,
            "min_width": null,
            "object_fit": null,
            "object_position": null,
            "order": null,
            "overflow": null,
            "overflow_x": null,
            "overflow_y": null,
            "padding": null,
            "right": null,
            "top": null,
            "visibility": null,
            "width": null
          }
        },
        "86a1726128a14359b0f4f4824b475c5b": {
          "model_module": "@jupyter-widgets/controls",
          "model_name": "ProgressStyleModel",
          "model_module_version": "1.5.0",
          "state": {
            "_model_module": "@jupyter-widgets/controls",
            "_model_module_version": "1.5.0",
            "_model_name": "ProgressStyleModel",
            "_view_count": null,
            "_view_module": "@jupyter-widgets/base",
            "_view_module_version": "1.2.0",
            "_view_name": "StyleView",
            "bar_color": null,
            "description_width": ""
          }
        },
        "0e121efe9b5e40a387c842005b3bf27e": {
          "model_module": "@jupyter-widgets/base",
          "model_name": "LayoutModel",
          "model_module_version": "1.2.0",
          "state": {
            "_model_module": "@jupyter-widgets/base",
            "_model_module_version": "1.2.0",
            "_model_name": "LayoutModel",
            "_view_count": null,
            "_view_module": "@jupyter-widgets/base",
            "_view_module_version": "1.2.0",
            "_view_name": "LayoutView",
            "align_content": null,
            "align_items": null,
            "align_self": null,
            "border": null,
            "bottom": null,
            "display": null,
            "flex": null,
            "flex_flow": null,
            "grid_area": null,
            "grid_auto_columns": null,
            "grid_auto_flow": null,
            "grid_auto_rows": null,
            "grid_column": null,
            "grid_gap": null,
            "grid_row": null,
            "grid_template_areas": null,
            "grid_template_columns": null,
            "grid_template_rows": null,
            "height": null,
            "justify_content": null,
            "justify_items": null,
            "left": null,
            "margin": null,
            "max_height": null,
            "max_width": null,
            "min_height": null,
            "min_width": null,
            "object_fit": null,
            "object_position": null,
            "order": null,
            "overflow": null,
            "overflow_x": null,
            "overflow_y": null,
            "padding": null,
            "right": null,
            "top": null,
            "visibility": null,
            "width": null
          }
        },
        "87a7caeffcf54240a1bbf71bf2417290": {
          "model_module": "@jupyter-widgets/controls",
          "model_name": "DescriptionStyleModel",
          "model_module_version": "1.5.0",
          "state": {
            "_model_module": "@jupyter-widgets/controls",
            "_model_module_version": "1.5.0",
            "_model_name": "DescriptionStyleModel",
            "_view_count": null,
            "_view_module": "@jupyter-widgets/base",
            "_view_module_version": "1.2.0",
            "_view_name": "StyleView",
            "description_width": ""
          }
        }
      }
    }
  },
  "cells": [
    {
      "cell_type": "markdown",
      "source": [
        "# Análise de dados da base Titanic"
      ],
      "metadata": {
        "id": "8mDNu9PCkHdf"
      }
    },
    {
      "cell_type": "markdown",
      "source": [
        "Pré requisitos para importar o dataset do Kaggle:"
      ],
      "metadata": {
        "id": "yQHBcKYxkr3e"
      }
    },
    {
      "cell_type": "code",
      "execution_count": null,
      "metadata": {
        "id": "y9nk2y-6hN0C"
      },
      "outputs": [],
      "source": [
        "! pip install kaggle"
      ]
    },
    {
      "cell_type": "code",
      "source": [
        "! mkdir ~/.kaggle"
      ],
      "metadata": {
        "id": "m2TSkNMmj841"
      },
      "execution_count": null,
      "outputs": []
    },
    {
      "cell_type": "code",
      "source": [
        "! cp kaggle.json ~/.kaggle/"
      ],
      "metadata": {
        "id": "-CN1lzSHkCwl"
      },
      "execution_count": null,
      "outputs": []
    },
    {
      "cell_type": "code",
      "source": [
        "! chmod 600 ~/.kaggle/kaggle.json"
      ],
      "metadata": {
        "id": "MQiu0N21kDVt"
      },
      "execution_count": null,
      "outputs": []
    },
    {
      "cell_type": "markdown",
      "source": [
        "Download do dataset:"
      ],
      "metadata": {
        "id": "tq4Htu-GlPcd"
      }
    },
    {
      "cell_type": "code",
      "source": [
        "! kaggle competitions download titanic"
      ],
      "metadata": {
        "id": "YG46ASOlkGCV"
      },
      "execution_count": null,
      "outputs": []
    },
    {
      "cell_type": "code",
      "source": [
        "! unzip titanic"
      ],
      "metadata": {
        "id": "UXx5FmuYlRwN"
      },
      "execution_count": null,
      "outputs": []
    },
    {
      "cell_type": "markdown",
      "source": [
        "# Bibliotecas utilizadas:"
      ],
      "metadata": {
        "id": "bNrFVO5ZpEwm"
      }
    },
    {
      "cell_type": "code",
      "source": [
        "! pip install --pre pycaret"
      ],
      "metadata": {
        "id": "LUS0MqilVxXC"
      },
      "execution_count": null,
      "outputs": []
    },
    {
      "cell_type": "code",
      "source": [
        "import pandas as pd\n",
        "import matplotlib.pyplot as plt\n",
        "import seaborn as sns\n",
        "\n",
        "from pycaret.classification import *"
      ],
      "metadata": {
        "id": "twYigx0-pINU"
      },
      "execution_count": 8,
      "outputs": []
    },
    {
      "cell_type": "markdown",
      "source": [
        "# Análise:"
      ],
      "metadata": {
        "id": "1zfymN1YnFVW"
      }
    },
    {
      "cell_type": "markdown",
      "source": [
        "Vamos analisar no geral o que possuimos nas tabelas de dados:"
      ],
      "metadata": {
        "id": "i2wvVoP1o1n1"
      }
    },
    {
      "cell_type": "code",
      "source": [
        "df_train = pd.read_csv('train.csv')\n",
        "df_test = pd.read_csv('test.csv')\n",
        "df_gs = pd.read_csv('gender_submission.csv')"
      ],
      "metadata": {
        "id": "5AlE15s4lshM"
      },
      "execution_count": 9,
      "outputs": []
    },
    {
      "cell_type": "code",
      "source": [
        "df_train.head(2)"
      ],
      "metadata": {
        "colab": {
          "base_uri": "https://localhost:8080/",
          "height": 112
        },
        "id": "OcF4qmPBpCUs",
        "outputId": "f543bd2b-a3ec-455e-833f-c146ae121eed"
      },
      "execution_count": 10,
      "outputs": [
        {
          "output_type": "execute_result",
          "data": {
            "text/plain": [
              "   PassengerId  Survived  Pclass  \\\n",
              "0            1         0       3   \n",
              "1            2         1       1   \n",
              "\n",
              "                                                Name     Sex   Age  SibSp  \\\n",
              "0                            Braund, Mr. Owen Harris    male  22.0      1   \n",
              "1  Cumings, Mrs. John Bradley (Florence Briggs Th...  female  38.0      1   \n",
              "\n",
              "   Parch     Ticket     Fare Cabin Embarked  \n",
              "0      0  A/5 21171   7.2500   NaN        S  \n",
              "1      0   PC 17599  71.2833   C85        C  "
            ],
            "text/html": [
              "\n",
              "  <div id=\"df-c3e0a657-96d1-460b-9fa1-52b2e0101434\">\n",
              "    <div class=\"colab-df-container\">\n",
              "      <div>\n",
              "<style scoped>\n",
              "    .dataframe tbody tr th:only-of-type {\n",
              "        vertical-align: middle;\n",
              "    }\n",
              "\n",
              "    .dataframe tbody tr th {\n",
              "        vertical-align: top;\n",
              "    }\n",
              "\n",
              "    .dataframe thead th {\n",
              "        text-align: right;\n",
              "    }\n",
              "</style>\n",
              "<table border=\"1\" class=\"dataframe\">\n",
              "  <thead>\n",
              "    <tr style=\"text-align: right;\">\n",
              "      <th></th>\n",
              "      <th>PassengerId</th>\n",
              "      <th>Survived</th>\n",
              "      <th>Pclass</th>\n",
              "      <th>Name</th>\n",
              "      <th>Sex</th>\n",
              "      <th>Age</th>\n",
              "      <th>SibSp</th>\n",
              "      <th>Parch</th>\n",
              "      <th>Ticket</th>\n",
              "      <th>Fare</th>\n",
              "      <th>Cabin</th>\n",
              "      <th>Embarked</th>\n",
              "    </tr>\n",
              "  </thead>\n",
              "  <tbody>\n",
              "    <tr>\n",
              "      <th>0</th>\n",
              "      <td>1</td>\n",
              "      <td>0</td>\n",
              "      <td>3</td>\n",
              "      <td>Braund, Mr. Owen Harris</td>\n",
              "      <td>male</td>\n",
              "      <td>22.0</td>\n",
              "      <td>1</td>\n",
              "      <td>0</td>\n",
              "      <td>A/5 21171</td>\n",
              "      <td>7.2500</td>\n",
              "      <td>NaN</td>\n",
              "      <td>S</td>\n",
              "    </tr>\n",
              "    <tr>\n",
              "      <th>1</th>\n",
              "      <td>2</td>\n",
              "      <td>1</td>\n",
              "      <td>1</td>\n",
              "      <td>Cumings, Mrs. John Bradley (Florence Briggs Th...</td>\n",
              "      <td>female</td>\n",
              "      <td>38.0</td>\n",
              "      <td>1</td>\n",
              "      <td>0</td>\n",
              "      <td>PC 17599</td>\n",
              "      <td>71.2833</td>\n",
              "      <td>C85</td>\n",
              "      <td>C</td>\n",
              "    </tr>\n",
              "  </tbody>\n",
              "</table>\n",
              "</div>\n",
              "      <button class=\"colab-df-convert\" onclick=\"convertToInteractive('df-c3e0a657-96d1-460b-9fa1-52b2e0101434')\"\n",
              "              title=\"Convert this dataframe to an interactive table.\"\n",
              "              style=\"display:none;\">\n",
              "        \n",
              "  <svg xmlns=\"http://www.w3.org/2000/svg\" height=\"24px\"viewBox=\"0 0 24 24\"\n",
              "       width=\"24px\">\n",
              "    <path d=\"M0 0h24v24H0V0z\" fill=\"none\"/>\n",
              "    <path d=\"M18.56 5.44l.94 2.06.94-2.06 2.06-.94-2.06-.94-.94-2.06-.94 2.06-2.06.94zm-11 1L8.5 8.5l.94-2.06 2.06-.94-2.06-.94L8.5 2.5l-.94 2.06-2.06.94zm10 10l.94 2.06.94-2.06 2.06-.94-2.06-.94-.94-2.06-.94 2.06-2.06.94z\"/><path d=\"M17.41 7.96l-1.37-1.37c-.4-.4-.92-.59-1.43-.59-.52 0-1.04.2-1.43.59L10.3 9.45l-7.72 7.72c-.78.78-.78 2.05 0 2.83L4 21.41c.39.39.9.59 1.41.59.51 0 1.02-.2 1.41-.59l7.78-7.78 2.81-2.81c.8-.78.8-2.07 0-2.86zM5.41 20L4 18.59l7.72-7.72 1.47 1.35L5.41 20z\"/>\n",
              "  </svg>\n",
              "      </button>\n",
              "      \n",
              "  <style>\n",
              "    .colab-df-container {\n",
              "      display:flex;\n",
              "      flex-wrap:wrap;\n",
              "      gap: 12px;\n",
              "    }\n",
              "\n",
              "    .colab-df-convert {\n",
              "      background-color: #E8F0FE;\n",
              "      border: none;\n",
              "      border-radius: 50%;\n",
              "      cursor: pointer;\n",
              "      display: none;\n",
              "      fill: #1967D2;\n",
              "      height: 32px;\n",
              "      padding: 0 0 0 0;\n",
              "      width: 32px;\n",
              "    }\n",
              "\n",
              "    .colab-df-convert:hover {\n",
              "      background-color: #E2EBFA;\n",
              "      box-shadow: 0px 1px 2px rgba(60, 64, 67, 0.3), 0px 1px 3px 1px rgba(60, 64, 67, 0.15);\n",
              "      fill: #174EA6;\n",
              "    }\n",
              "\n",
              "    [theme=dark] .colab-df-convert {\n",
              "      background-color: #3B4455;\n",
              "      fill: #D2E3FC;\n",
              "    }\n",
              "\n",
              "    [theme=dark] .colab-df-convert:hover {\n",
              "      background-color: #434B5C;\n",
              "      box-shadow: 0px 1px 3px 1px rgba(0, 0, 0, 0.15);\n",
              "      filter: drop-shadow(0px 1px 2px rgba(0, 0, 0, 0.3));\n",
              "      fill: #FFFFFF;\n",
              "    }\n",
              "  </style>\n",
              "\n",
              "      <script>\n",
              "        const buttonEl =\n",
              "          document.querySelector('#df-c3e0a657-96d1-460b-9fa1-52b2e0101434 button.colab-df-convert');\n",
              "        buttonEl.style.display =\n",
              "          google.colab.kernel.accessAllowed ? 'block' : 'none';\n",
              "\n",
              "        async function convertToInteractive(key) {\n",
              "          const element = document.querySelector('#df-c3e0a657-96d1-460b-9fa1-52b2e0101434');\n",
              "          const dataTable =\n",
              "            await google.colab.kernel.invokeFunction('convertToInteractive',\n",
              "                                                     [key], {});\n",
              "          if (!dataTable) return;\n",
              "\n",
              "          const docLinkHtml = 'Like what you see? Visit the ' +\n",
              "            '<a target=\"_blank\" href=https://colab.research.google.com/notebooks/data_table.ipynb>data table notebook</a>'\n",
              "            + ' to learn more about interactive tables.';\n",
              "          element.innerHTML = '';\n",
              "          dataTable['output_type'] = 'display_data';\n",
              "          await google.colab.output.renderOutput(dataTable, element);\n",
              "          const docLink = document.createElement('div');\n",
              "          docLink.innerHTML = docLinkHtml;\n",
              "          element.appendChild(docLink);\n",
              "        }\n",
              "      </script>\n",
              "    </div>\n",
              "  </div>\n",
              "  "
            ]
          },
          "metadata": {},
          "execution_count": 10
        }
      ]
    },
    {
      "cell_type": "code",
      "source": [
        "df_train.info()"
      ],
      "metadata": {
        "colab": {
          "base_uri": "https://localhost:8080/"
        },
        "id": "WL67y6ORpOpr",
        "outputId": "eb769651-ee88-4272-d892-f48b0aa84281"
      },
      "execution_count": 11,
      "outputs": [
        {
          "output_type": "stream",
          "name": "stdout",
          "text": [
            "<class 'pandas.core.frame.DataFrame'>\n",
            "RangeIndex: 891 entries, 0 to 890\n",
            "Data columns (total 12 columns):\n",
            " #   Column       Non-Null Count  Dtype  \n",
            "---  ------       --------------  -----  \n",
            " 0   PassengerId  891 non-null    int64  \n",
            " 1   Survived     891 non-null    int64  \n",
            " 2   Pclass       891 non-null    int64  \n",
            " 3   Name         891 non-null    object \n",
            " 4   Sex          891 non-null    object \n",
            " 5   Age          714 non-null    float64\n",
            " 6   SibSp        891 non-null    int64  \n",
            " 7   Parch        891 non-null    int64  \n",
            " 8   Ticket       891 non-null    object \n",
            " 9   Fare         891 non-null    float64\n",
            " 10  Cabin        204 non-null    object \n",
            " 11  Embarked     889 non-null    object \n",
            "dtypes: float64(2), int64(5), object(5)\n",
            "memory usage: 83.7+ KB\n"
          ]
        }
      ]
    },
    {
      "cell_type": "code",
      "source": [
        "df_train.duplicated().value_counts()"
      ],
      "metadata": {
        "colab": {
          "base_uri": "https://localhost:8080/"
        },
        "id": "5kSFgYy_szrP",
        "outputId": "44c1265c-1229-49f8-ae63-3e136ff29679"
      },
      "execution_count": 12,
      "outputs": [
        {
          "output_type": "execute_result",
          "data": {
            "text/plain": [
              "False    891\n",
              "dtype: int64"
            ]
          },
          "metadata": {},
          "execution_count": 12
        }
      ]
    },
    {
      "cell_type": "code",
      "source": [
        "df_train.nunique()"
      ],
      "metadata": {
        "colab": {
          "base_uri": "https://localhost:8080/"
        },
        "id": "pO5uKLVRtBfM",
        "outputId": "28748407-380a-4289-c34d-9128cc5b9daf"
      },
      "execution_count": 13,
      "outputs": [
        {
          "output_type": "execute_result",
          "data": {
            "text/plain": [
              "PassengerId    891\n",
              "Survived         2\n",
              "Pclass           3\n",
              "Name           891\n",
              "Sex              2\n",
              "Age             88\n",
              "SibSp            7\n",
              "Parch            7\n",
              "Ticket         681\n",
              "Fare           248\n",
              "Cabin          147\n",
              "Embarked         3\n",
              "dtype: int64"
            ]
          },
          "metadata": {},
          "execution_count": 13
        }
      ]
    },
    {
      "cell_type": "markdown",
      "source": [
        "**Comentário:** Já observamos que a coluna *Age* possui alguns valores missing, devemos escolher como tratar esses dados. (Excluir dados missing? Substituir pela média?). A coluna *Cabin* possui poucos valores preenchidos, provavelmente será descartada da análise. Talvez também poderemos excluir colunas como: *PassengerId*, *Name* e *Ticket* de uma futura modelagem."
      ],
      "metadata": {
        "id": "kjvsV-IIq-g1"
      }
    },
    {
      "cell_type": "markdown",
      "source": [
        "**Descrição do que as variáveis representam:** <br>\n",
        "*Survived*: Indica se o passageiro sobreviveu. (0 = Não, 1 = Sim) <br>\n",
        "*Pclass*: Classe do passageiro. (1 = Primeira, 2 = Segunda, 3 = Terceira) <br>\n",
        "*Sex*: Sexo do passageiro. <br>\n",
        "*Age*: Idade em anos. <br>\n",
        "*SibSp*: Número de irmãos/cônjuges a bordo do Titanic. <br>\n",
        "*Parch*: Número de pais/filhos a bordo do Titanic. <br>\n",
        "*Ticket*: Número do bilhete. <br>\n",
        "*Fare*: Tarifa de passageiro. <br>\n",
        "*Cabin*: Número da cabine. <br>\n",
        "*Embarked*: Porto de embarcação. (C = Cherbourg, Q = Queenstown, S = Southampton)\n"
      ],
      "metadata": {
        "id": "1kAjRUa_x6St"
      }
    },
    {
      "cell_type": "code",
      "source": [
        "df_test.head(2)"
      ],
      "metadata": {
        "colab": {
          "base_uri": "https://localhost:8080/",
          "height": 112
        },
        "id": "Q8dH7kmlqPG8",
        "outputId": "5336a95f-0444-491e-8f28-bc20f5f83175"
      },
      "execution_count": 14,
      "outputs": [
        {
          "output_type": "execute_result",
          "data": {
            "text/plain": [
              "   PassengerId  Pclass                              Name     Sex   Age  SibSp  \\\n",
              "0          892       3                  Kelly, Mr. James    male  34.5      0   \n",
              "1          893       3  Wilkes, Mrs. James (Ellen Needs)  female  47.0      1   \n",
              "\n",
              "   Parch  Ticket    Fare Cabin Embarked  \n",
              "0      0  330911  7.8292   NaN        Q  \n",
              "1      0  363272  7.0000   NaN        S  "
            ],
            "text/html": [
              "\n",
              "  <div id=\"df-57f725c3-7206-45bc-97b7-3fffff8c88a4\">\n",
              "    <div class=\"colab-df-container\">\n",
              "      <div>\n",
              "<style scoped>\n",
              "    .dataframe tbody tr th:only-of-type {\n",
              "        vertical-align: middle;\n",
              "    }\n",
              "\n",
              "    .dataframe tbody tr th {\n",
              "        vertical-align: top;\n",
              "    }\n",
              "\n",
              "    .dataframe thead th {\n",
              "        text-align: right;\n",
              "    }\n",
              "</style>\n",
              "<table border=\"1\" class=\"dataframe\">\n",
              "  <thead>\n",
              "    <tr style=\"text-align: right;\">\n",
              "      <th></th>\n",
              "      <th>PassengerId</th>\n",
              "      <th>Pclass</th>\n",
              "      <th>Name</th>\n",
              "      <th>Sex</th>\n",
              "      <th>Age</th>\n",
              "      <th>SibSp</th>\n",
              "      <th>Parch</th>\n",
              "      <th>Ticket</th>\n",
              "      <th>Fare</th>\n",
              "      <th>Cabin</th>\n",
              "      <th>Embarked</th>\n",
              "    </tr>\n",
              "  </thead>\n",
              "  <tbody>\n",
              "    <tr>\n",
              "      <th>0</th>\n",
              "      <td>892</td>\n",
              "      <td>3</td>\n",
              "      <td>Kelly, Mr. James</td>\n",
              "      <td>male</td>\n",
              "      <td>34.5</td>\n",
              "      <td>0</td>\n",
              "      <td>0</td>\n",
              "      <td>330911</td>\n",
              "      <td>7.8292</td>\n",
              "      <td>NaN</td>\n",
              "      <td>Q</td>\n",
              "    </tr>\n",
              "    <tr>\n",
              "      <th>1</th>\n",
              "      <td>893</td>\n",
              "      <td>3</td>\n",
              "      <td>Wilkes, Mrs. James (Ellen Needs)</td>\n",
              "      <td>female</td>\n",
              "      <td>47.0</td>\n",
              "      <td>1</td>\n",
              "      <td>0</td>\n",
              "      <td>363272</td>\n",
              "      <td>7.0000</td>\n",
              "      <td>NaN</td>\n",
              "      <td>S</td>\n",
              "    </tr>\n",
              "  </tbody>\n",
              "</table>\n",
              "</div>\n",
              "      <button class=\"colab-df-convert\" onclick=\"convertToInteractive('df-57f725c3-7206-45bc-97b7-3fffff8c88a4')\"\n",
              "              title=\"Convert this dataframe to an interactive table.\"\n",
              "              style=\"display:none;\">\n",
              "        \n",
              "  <svg xmlns=\"http://www.w3.org/2000/svg\" height=\"24px\"viewBox=\"0 0 24 24\"\n",
              "       width=\"24px\">\n",
              "    <path d=\"M0 0h24v24H0V0z\" fill=\"none\"/>\n",
              "    <path d=\"M18.56 5.44l.94 2.06.94-2.06 2.06-.94-2.06-.94-.94-2.06-.94 2.06-2.06.94zm-11 1L8.5 8.5l.94-2.06 2.06-.94-2.06-.94L8.5 2.5l-.94 2.06-2.06.94zm10 10l.94 2.06.94-2.06 2.06-.94-2.06-.94-.94-2.06-.94 2.06-2.06.94z\"/><path d=\"M17.41 7.96l-1.37-1.37c-.4-.4-.92-.59-1.43-.59-.52 0-1.04.2-1.43.59L10.3 9.45l-7.72 7.72c-.78.78-.78 2.05 0 2.83L4 21.41c.39.39.9.59 1.41.59.51 0 1.02-.2 1.41-.59l7.78-7.78 2.81-2.81c.8-.78.8-2.07 0-2.86zM5.41 20L4 18.59l7.72-7.72 1.47 1.35L5.41 20z\"/>\n",
              "  </svg>\n",
              "      </button>\n",
              "      \n",
              "  <style>\n",
              "    .colab-df-container {\n",
              "      display:flex;\n",
              "      flex-wrap:wrap;\n",
              "      gap: 12px;\n",
              "    }\n",
              "\n",
              "    .colab-df-convert {\n",
              "      background-color: #E8F0FE;\n",
              "      border: none;\n",
              "      border-radius: 50%;\n",
              "      cursor: pointer;\n",
              "      display: none;\n",
              "      fill: #1967D2;\n",
              "      height: 32px;\n",
              "      padding: 0 0 0 0;\n",
              "      width: 32px;\n",
              "    }\n",
              "\n",
              "    .colab-df-convert:hover {\n",
              "      background-color: #E2EBFA;\n",
              "      box-shadow: 0px 1px 2px rgba(60, 64, 67, 0.3), 0px 1px 3px 1px rgba(60, 64, 67, 0.15);\n",
              "      fill: #174EA6;\n",
              "    }\n",
              "\n",
              "    [theme=dark] .colab-df-convert {\n",
              "      background-color: #3B4455;\n",
              "      fill: #D2E3FC;\n",
              "    }\n",
              "\n",
              "    [theme=dark] .colab-df-convert:hover {\n",
              "      background-color: #434B5C;\n",
              "      box-shadow: 0px 1px 3px 1px rgba(0, 0, 0, 0.15);\n",
              "      filter: drop-shadow(0px 1px 2px rgba(0, 0, 0, 0.3));\n",
              "      fill: #FFFFFF;\n",
              "    }\n",
              "  </style>\n",
              "\n",
              "      <script>\n",
              "        const buttonEl =\n",
              "          document.querySelector('#df-57f725c3-7206-45bc-97b7-3fffff8c88a4 button.colab-df-convert');\n",
              "        buttonEl.style.display =\n",
              "          google.colab.kernel.accessAllowed ? 'block' : 'none';\n",
              "\n",
              "        async function convertToInteractive(key) {\n",
              "          const element = document.querySelector('#df-57f725c3-7206-45bc-97b7-3fffff8c88a4');\n",
              "          const dataTable =\n",
              "            await google.colab.kernel.invokeFunction('convertToInteractive',\n",
              "                                                     [key], {});\n",
              "          if (!dataTable) return;\n",
              "\n",
              "          const docLinkHtml = 'Like what you see? Visit the ' +\n",
              "            '<a target=\"_blank\" href=https://colab.research.google.com/notebooks/data_table.ipynb>data table notebook</a>'\n",
              "            + ' to learn more about interactive tables.';\n",
              "          element.innerHTML = '';\n",
              "          dataTable['output_type'] = 'display_data';\n",
              "          await google.colab.output.renderOutput(dataTable, element);\n",
              "          const docLink = document.createElement('div');\n",
              "          docLink.innerHTML = docLinkHtml;\n",
              "          element.appendChild(docLink);\n",
              "        }\n",
              "      </script>\n",
              "    </div>\n",
              "  </div>\n",
              "  "
            ]
          },
          "metadata": {},
          "execution_count": 14
        }
      ]
    },
    {
      "cell_type": "code",
      "source": [
        "df_test.info()"
      ],
      "metadata": {
        "colab": {
          "base_uri": "https://localhost:8080/"
        },
        "id": "-_NRSnxNqPPU",
        "outputId": "190d1d7c-a809-410b-e523-bf5cd1cc2b95"
      },
      "execution_count": 15,
      "outputs": [
        {
          "output_type": "stream",
          "name": "stdout",
          "text": [
            "<class 'pandas.core.frame.DataFrame'>\n",
            "RangeIndex: 418 entries, 0 to 417\n",
            "Data columns (total 11 columns):\n",
            " #   Column       Non-Null Count  Dtype  \n",
            "---  ------       --------------  -----  \n",
            " 0   PassengerId  418 non-null    int64  \n",
            " 1   Pclass       418 non-null    int64  \n",
            " 2   Name         418 non-null    object \n",
            " 3   Sex          418 non-null    object \n",
            " 4   Age          332 non-null    float64\n",
            " 5   SibSp        418 non-null    int64  \n",
            " 6   Parch        418 non-null    int64  \n",
            " 7   Ticket       418 non-null    object \n",
            " 8   Fare         417 non-null    float64\n",
            " 9   Cabin        91 non-null     object \n",
            " 10  Embarked     418 non-null    object \n",
            "dtypes: float64(2), int64(4), object(5)\n",
            "memory usage: 36.0+ KB\n"
          ]
        }
      ]
    },
    {
      "cell_type": "code",
      "source": [
        "df_gs.info()"
      ],
      "metadata": {
        "colab": {
          "base_uri": "https://localhost:8080/"
        },
        "id": "r_OzF8SDp_N8",
        "outputId": "76a0482c-c9ce-47a7-be54-0438e4ee73be"
      },
      "execution_count": 16,
      "outputs": [
        {
          "output_type": "stream",
          "name": "stdout",
          "text": [
            "<class 'pandas.core.frame.DataFrame'>\n",
            "RangeIndex: 418 entries, 0 to 417\n",
            "Data columns (total 2 columns):\n",
            " #   Column       Non-Null Count  Dtype\n",
            "---  ------       --------------  -----\n",
            " 0   PassengerId  418 non-null    int64\n",
            " 1   Survived     418 non-null    int64\n",
            "dtypes: int64(2)\n",
            "memory usage: 6.7 KB\n"
          ]
        }
      ]
    },
    {
      "cell_type": "code",
      "source": [
        "df_gs.head(2)"
      ],
      "metadata": {
        "colab": {
          "base_uri": "https://localhost:8080/",
          "height": 112
        },
        "id": "gHGnsfXpcFv4",
        "outputId": "1f5e5caf-bb00-40fd-9749-27fd1c421ceb"
      },
      "execution_count": 17,
      "outputs": [
        {
          "output_type": "execute_result",
          "data": {
            "text/plain": [
              "   PassengerId  Survived\n",
              "0          892         0\n",
              "1          893         1"
            ],
            "text/html": [
              "\n",
              "  <div id=\"df-1bf227cf-efc0-41c8-8c6a-e55c531b3bd8\">\n",
              "    <div class=\"colab-df-container\">\n",
              "      <div>\n",
              "<style scoped>\n",
              "    .dataframe tbody tr th:only-of-type {\n",
              "        vertical-align: middle;\n",
              "    }\n",
              "\n",
              "    .dataframe tbody tr th {\n",
              "        vertical-align: top;\n",
              "    }\n",
              "\n",
              "    .dataframe thead th {\n",
              "        text-align: right;\n",
              "    }\n",
              "</style>\n",
              "<table border=\"1\" class=\"dataframe\">\n",
              "  <thead>\n",
              "    <tr style=\"text-align: right;\">\n",
              "      <th></th>\n",
              "      <th>PassengerId</th>\n",
              "      <th>Survived</th>\n",
              "    </tr>\n",
              "  </thead>\n",
              "  <tbody>\n",
              "    <tr>\n",
              "      <th>0</th>\n",
              "      <td>892</td>\n",
              "      <td>0</td>\n",
              "    </tr>\n",
              "    <tr>\n",
              "      <th>1</th>\n",
              "      <td>893</td>\n",
              "      <td>1</td>\n",
              "    </tr>\n",
              "  </tbody>\n",
              "</table>\n",
              "</div>\n",
              "      <button class=\"colab-df-convert\" onclick=\"convertToInteractive('df-1bf227cf-efc0-41c8-8c6a-e55c531b3bd8')\"\n",
              "              title=\"Convert this dataframe to an interactive table.\"\n",
              "              style=\"display:none;\">\n",
              "        \n",
              "  <svg xmlns=\"http://www.w3.org/2000/svg\" height=\"24px\"viewBox=\"0 0 24 24\"\n",
              "       width=\"24px\">\n",
              "    <path d=\"M0 0h24v24H0V0z\" fill=\"none\"/>\n",
              "    <path d=\"M18.56 5.44l.94 2.06.94-2.06 2.06-.94-2.06-.94-.94-2.06-.94 2.06-2.06.94zm-11 1L8.5 8.5l.94-2.06 2.06-.94-2.06-.94L8.5 2.5l-.94 2.06-2.06.94zm10 10l.94 2.06.94-2.06 2.06-.94-2.06-.94-.94-2.06-.94 2.06-2.06.94z\"/><path d=\"M17.41 7.96l-1.37-1.37c-.4-.4-.92-.59-1.43-.59-.52 0-1.04.2-1.43.59L10.3 9.45l-7.72 7.72c-.78.78-.78 2.05 0 2.83L4 21.41c.39.39.9.59 1.41.59.51 0 1.02-.2 1.41-.59l7.78-7.78 2.81-2.81c.8-.78.8-2.07 0-2.86zM5.41 20L4 18.59l7.72-7.72 1.47 1.35L5.41 20z\"/>\n",
              "  </svg>\n",
              "      </button>\n",
              "      \n",
              "  <style>\n",
              "    .colab-df-container {\n",
              "      display:flex;\n",
              "      flex-wrap:wrap;\n",
              "      gap: 12px;\n",
              "    }\n",
              "\n",
              "    .colab-df-convert {\n",
              "      background-color: #E8F0FE;\n",
              "      border: none;\n",
              "      border-radius: 50%;\n",
              "      cursor: pointer;\n",
              "      display: none;\n",
              "      fill: #1967D2;\n",
              "      height: 32px;\n",
              "      padding: 0 0 0 0;\n",
              "      width: 32px;\n",
              "    }\n",
              "\n",
              "    .colab-df-convert:hover {\n",
              "      background-color: #E2EBFA;\n",
              "      box-shadow: 0px 1px 2px rgba(60, 64, 67, 0.3), 0px 1px 3px 1px rgba(60, 64, 67, 0.15);\n",
              "      fill: #174EA6;\n",
              "    }\n",
              "\n",
              "    [theme=dark] .colab-df-convert {\n",
              "      background-color: #3B4455;\n",
              "      fill: #D2E3FC;\n",
              "    }\n",
              "\n",
              "    [theme=dark] .colab-df-convert:hover {\n",
              "      background-color: #434B5C;\n",
              "      box-shadow: 0px 1px 3px 1px rgba(0, 0, 0, 0.15);\n",
              "      filter: drop-shadow(0px 1px 2px rgba(0, 0, 0, 0.3));\n",
              "      fill: #FFFFFF;\n",
              "    }\n",
              "  </style>\n",
              "\n",
              "      <script>\n",
              "        const buttonEl =\n",
              "          document.querySelector('#df-1bf227cf-efc0-41c8-8c6a-e55c531b3bd8 button.colab-df-convert');\n",
              "        buttonEl.style.display =\n",
              "          google.colab.kernel.accessAllowed ? 'block' : 'none';\n",
              "\n",
              "        async function convertToInteractive(key) {\n",
              "          const element = document.querySelector('#df-1bf227cf-efc0-41c8-8c6a-e55c531b3bd8');\n",
              "          const dataTable =\n",
              "            await google.colab.kernel.invokeFunction('convertToInteractive',\n",
              "                                                     [key], {});\n",
              "          if (!dataTable) return;\n",
              "\n",
              "          const docLinkHtml = 'Like what you see? Visit the ' +\n",
              "            '<a target=\"_blank\" href=https://colab.research.google.com/notebooks/data_table.ipynb>data table notebook</a>'\n",
              "            + ' to learn more about interactive tables.';\n",
              "          element.innerHTML = '';\n",
              "          dataTable['output_type'] = 'display_data';\n",
              "          await google.colab.output.renderOutput(dataTable, element);\n",
              "          const docLink = document.createElement('div');\n",
              "          docLink.innerHTML = docLinkHtml;\n",
              "          element.appendChild(docLink);\n",
              "        }\n",
              "      </script>\n",
              "    </div>\n",
              "  </div>\n",
              "  "
            ]
          },
          "metadata": {},
          "execution_count": 17
        }
      ]
    },
    {
      "cell_type": "code",
      "source": [
        "data_unseen = df_test.merge(df_gs)"
      ],
      "metadata": {
        "id": "0PC6C_00bysj"
      },
      "execution_count": 18,
      "outputs": []
    },
    {
      "cell_type": "code",
      "source": [
        "data_unseen.head()"
      ],
      "metadata": {
        "colab": {
          "base_uri": "https://localhost:8080/",
          "height": 206
        },
        "id": "SwFLj9Ueb_ba",
        "outputId": "6a553719-4ebe-489f-f116-601db435114f"
      },
      "execution_count": 19,
      "outputs": [
        {
          "output_type": "execute_result",
          "data": {
            "text/plain": [
              "   PassengerId  Pclass                                          Name     Sex  \\\n",
              "0          892       3                              Kelly, Mr. James    male   \n",
              "1          893       3              Wilkes, Mrs. James (Ellen Needs)  female   \n",
              "2          894       2                     Myles, Mr. Thomas Francis    male   \n",
              "3          895       3                              Wirz, Mr. Albert    male   \n",
              "4          896       3  Hirvonen, Mrs. Alexander (Helga E Lindqvist)  female   \n",
              "\n",
              "    Age  SibSp  Parch   Ticket     Fare Cabin Embarked  Survived  \n",
              "0  34.5      0      0   330911   7.8292   NaN        Q         0  \n",
              "1  47.0      1      0   363272   7.0000   NaN        S         1  \n",
              "2  62.0      0      0   240276   9.6875   NaN        Q         0  \n",
              "3  27.0      0      0   315154   8.6625   NaN        S         0  \n",
              "4  22.0      1      1  3101298  12.2875   NaN        S         1  "
            ],
            "text/html": [
              "\n",
              "  <div id=\"df-1d734ecb-220a-4708-bf4f-ea1279c36be0\">\n",
              "    <div class=\"colab-df-container\">\n",
              "      <div>\n",
              "<style scoped>\n",
              "    .dataframe tbody tr th:only-of-type {\n",
              "        vertical-align: middle;\n",
              "    }\n",
              "\n",
              "    .dataframe tbody tr th {\n",
              "        vertical-align: top;\n",
              "    }\n",
              "\n",
              "    .dataframe thead th {\n",
              "        text-align: right;\n",
              "    }\n",
              "</style>\n",
              "<table border=\"1\" class=\"dataframe\">\n",
              "  <thead>\n",
              "    <tr style=\"text-align: right;\">\n",
              "      <th></th>\n",
              "      <th>PassengerId</th>\n",
              "      <th>Pclass</th>\n",
              "      <th>Name</th>\n",
              "      <th>Sex</th>\n",
              "      <th>Age</th>\n",
              "      <th>SibSp</th>\n",
              "      <th>Parch</th>\n",
              "      <th>Ticket</th>\n",
              "      <th>Fare</th>\n",
              "      <th>Cabin</th>\n",
              "      <th>Embarked</th>\n",
              "      <th>Survived</th>\n",
              "    </tr>\n",
              "  </thead>\n",
              "  <tbody>\n",
              "    <tr>\n",
              "      <th>0</th>\n",
              "      <td>892</td>\n",
              "      <td>3</td>\n",
              "      <td>Kelly, Mr. James</td>\n",
              "      <td>male</td>\n",
              "      <td>34.5</td>\n",
              "      <td>0</td>\n",
              "      <td>0</td>\n",
              "      <td>330911</td>\n",
              "      <td>7.8292</td>\n",
              "      <td>NaN</td>\n",
              "      <td>Q</td>\n",
              "      <td>0</td>\n",
              "    </tr>\n",
              "    <tr>\n",
              "      <th>1</th>\n",
              "      <td>893</td>\n",
              "      <td>3</td>\n",
              "      <td>Wilkes, Mrs. James (Ellen Needs)</td>\n",
              "      <td>female</td>\n",
              "      <td>47.0</td>\n",
              "      <td>1</td>\n",
              "      <td>0</td>\n",
              "      <td>363272</td>\n",
              "      <td>7.0000</td>\n",
              "      <td>NaN</td>\n",
              "      <td>S</td>\n",
              "      <td>1</td>\n",
              "    </tr>\n",
              "    <tr>\n",
              "      <th>2</th>\n",
              "      <td>894</td>\n",
              "      <td>2</td>\n",
              "      <td>Myles, Mr. Thomas Francis</td>\n",
              "      <td>male</td>\n",
              "      <td>62.0</td>\n",
              "      <td>0</td>\n",
              "      <td>0</td>\n",
              "      <td>240276</td>\n",
              "      <td>9.6875</td>\n",
              "      <td>NaN</td>\n",
              "      <td>Q</td>\n",
              "      <td>0</td>\n",
              "    </tr>\n",
              "    <tr>\n",
              "      <th>3</th>\n",
              "      <td>895</td>\n",
              "      <td>3</td>\n",
              "      <td>Wirz, Mr. Albert</td>\n",
              "      <td>male</td>\n",
              "      <td>27.0</td>\n",
              "      <td>0</td>\n",
              "      <td>0</td>\n",
              "      <td>315154</td>\n",
              "      <td>8.6625</td>\n",
              "      <td>NaN</td>\n",
              "      <td>S</td>\n",
              "      <td>0</td>\n",
              "    </tr>\n",
              "    <tr>\n",
              "      <th>4</th>\n",
              "      <td>896</td>\n",
              "      <td>3</td>\n",
              "      <td>Hirvonen, Mrs. Alexander (Helga E Lindqvist)</td>\n",
              "      <td>female</td>\n",
              "      <td>22.0</td>\n",
              "      <td>1</td>\n",
              "      <td>1</td>\n",
              "      <td>3101298</td>\n",
              "      <td>12.2875</td>\n",
              "      <td>NaN</td>\n",
              "      <td>S</td>\n",
              "      <td>1</td>\n",
              "    </tr>\n",
              "  </tbody>\n",
              "</table>\n",
              "</div>\n",
              "      <button class=\"colab-df-convert\" onclick=\"convertToInteractive('df-1d734ecb-220a-4708-bf4f-ea1279c36be0')\"\n",
              "              title=\"Convert this dataframe to an interactive table.\"\n",
              "              style=\"display:none;\">\n",
              "        \n",
              "  <svg xmlns=\"http://www.w3.org/2000/svg\" height=\"24px\"viewBox=\"0 0 24 24\"\n",
              "       width=\"24px\">\n",
              "    <path d=\"M0 0h24v24H0V0z\" fill=\"none\"/>\n",
              "    <path d=\"M18.56 5.44l.94 2.06.94-2.06 2.06-.94-2.06-.94-.94-2.06-.94 2.06-2.06.94zm-11 1L8.5 8.5l.94-2.06 2.06-.94-2.06-.94L8.5 2.5l-.94 2.06-2.06.94zm10 10l.94 2.06.94-2.06 2.06-.94-2.06-.94-.94-2.06-.94 2.06-2.06.94z\"/><path d=\"M17.41 7.96l-1.37-1.37c-.4-.4-.92-.59-1.43-.59-.52 0-1.04.2-1.43.59L10.3 9.45l-7.72 7.72c-.78.78-.78 2.05 0 2.83L4 21.41c.39.39.9.59 1.41.59.51 0 1.02-.2 1.41-.59l7.78-7.78 2.81-2.81c.8-.78.8-2.07 0-2.86zM5.41 20L4 18.59l7.72-7.72 1.47 1.35L5.41 20z\"/>\n",
              "  </svg>\n",
              "      </button>\n",
              "      \n",
              "  <style>\n",
              "    .colab-df-container {\n",
              "      display:flex;\n",
              "      flex-wrap:wrap;\n",
              "      gap: 12px;\n",
              "    }\n",
              "\n",
              "    .colab-df-convert {\n",
              "      background-color: #E8F0FE;\n",
              "      border: none;\n",
              "      border-radius: 50%;\n",
              "      cursor: pointer;\n",
              "      display: none;\n",
              "      fill: #1967D2;\n",
              "      height: 32px;\n",
              "      padding: 0 0 0 0;\n",
              "      width: 32px;\n",
              "    }\n",
              "\n",
              "    .colab-df-convert:hover {\n",
              "      background-color: #E2EBFA;\n",
              "      box-shadow: 0px 1px 2px rgba(60, 64, 67, 0.3), 0px 1px 3px 1px rgba(60, 64, 67, 0.15);\n",
              "      fill: #174EA6;\n",
              "    }\n",
              "\n",
              "    [theme=dark] .colab-df-convert {\n",
              "      background-color: #3B4455;\n",
              "      fill: #D2E3FC;\n",
              "    }\n",
              "\n",
              "    [theme=dark] .colab-df-convert:hover {\n",
              "      background-color: #434B5C;\n",
              "      box-shadow: 0px 1px 3px 1px rgba(0, 0, 0, 0.15);\n",
              "      filter: drop-shadow(0px 1px 2px rgba(0, 0, 0, 0.3));\n",
              "      fill: #FFFFFF;\n",
              "    }\n",
              "  </style>\n",
              "\n",
              "      <script>\n",
              "        const buttonEl =\n",
              "          document.querySelector('#df-1d734ecb-220a-4708-bf4f-ea1279c36be0 button.colab-df-convert');\n",
              "        buttonEl.style.display =\n",
              "          google.colab.kernel.accessAllowed ? 'block' : 'none';\n",
              "\n",
              "        async function convertToInteractive(key) {\n",
              "          const element = document.querySelector('#df-1d734ecb-220a-4708-bf4f-ea1279c36be0');\n",
              "          const dataTable =\n",
              "            await google.colab.kernel.invokeFunction('convertToInteractive',\n",
              "                                                     [key], {});\n",
              "          if (!dataTable) return;\n",
              "\n",
              "          const docLinkHtml = 'Like what you see? Visit the ' +\n",
              "            '<a target=\"_blank\" href=https://colab.research.google.com/notebooks/data_table.ipynb>data table notebook</a>'\n",
              "            + ' to learn more about interactive tables.';\n",
              "          element.innerHTML = '';\n",
              "          dataTable['output_type'] = 'display_data';\n",
              "          await google.colab.output.renderOutput(dataTable, element);\n",
              "          const docLink = document.createElement('div');\n",
              "          docLink.innerHTML = docLinkHtml;\n",
              "          element.appendChild(docLink);\n",
              "        }\n",
              "      </script>\n",
              "    </div>\n",
              "  </div>\n",
              "  "
            ]
          },
          "metadata": {},
          "execution_count": 19
        }
      ]
    },
    {
      "cell_type": "markdown",
      "source": [
        "# Descritiva Básica Univariada:"
      ],
      "metadata": {
        "id": "qftfrwOir4DG"
      }
    },
    {
      "cell_type": "code",
      "source": [
        "fig, ax = plt.subplots(nrows=3, ncols=2, figsize=(17,20))\n",
        "\n",
        "sns.countplot(data=df_train, x='Survived', palette='mako', ax=ax[0,0])\n",
        "ax[0,0].set_title('Quantidade de passageiros que sobreviveram e não sobreviveram')\n",
        "\n",
        "sns.countplot(data=df_train, x='Pclass', palette='mako', ax=ax[0,1])\n",
        "ax[0,1].set_title('Quantidade de passageiros em cada Classe')\n",
        "\n",
        "sns.countplot(data=df_train, x='Sex', palette='mako', ax=ax[1,0])\n",
        "ax[1,0].set_title('Quantidade de passageiros do sexo feminino e masculino')\n",
        "\n",
        "sns.countplot(data=df_train, x='SibSp', palette='mako', ax=ax[1,1])\n",
        "ax[1,1].set_title('Quantidade de passageiros com irmãos/cônjuges a bordo')\n",
        "\n",
        "sns.countplot(data=df_train, x='Parch', palette='mako', ax=ax[2,0])\n",
        "ax[2,0].set_title('Quantidade de passageiros com pais/filhos a bordo')\n",
        "\n",
        "sns.countplot(data=df_train, x='Embarked', palette='mako', ax=ax[2,1])\n",
        "ax[2,1].set_title('Quantidade de passageiros embarcados em cada porto de embarcação')"
      ],
      "metadata": {
        "colab": {
          "base_uri": "https://localhost:8080/",
          "height": 1000
        },
        "id": "OGPY4WCU0jyV",
        "outputId": "78ebf3ce-99df-47a7-d9b7-4146edc313b5"
      },
      "execution_count": 20,
      "outputs": [
        {
          "output_type": "execute_result",
          "data": {
            "text/plain": [
              "Text(0.5, 1.0, 'Quantidade de passageiros embarcados em cada porto de embarcação')"
            ]
          },
          "metadata": {},
          "execution_count": 20
        },
        {
          "output_type": "display_data",
          "data": {
            "text/plain": [
              "<Figure size 1224x1440 with 6 Axes>"
            ],
            "image/png": "[encoded data removed]"
          },
          "metadata": {
            "needs_background": "light"
          }
        }
      ]
    },
    {
      "cell_type": "markdown",
      "source": [
        "**Comentário:** Já obtemos algumas informações, a maioria dos passageiros não sobreviveu, passageiros da terceira classe eram maioria, muito mais homens do que mulheres a bordo, a grande maioria dos passageiros não possuiam irmãos/cônjuges a bordo e/ou pais/filhos a bordo e a maioria dos passageiros embarcaram no porto de Southampton."
      ],
      "metadata": {
        "id": "jhNc2501QX11"
      }
    },
    {
      "cell_type": "code",
      "source": [
        "fig, ax = plt.subplots(nrows=3, ncols=1, figsize=(17,25))\n",
        "\n",
        "sns.histplot(data=df_train, x='Age', palette='mako', bins=50, ax=ax[0])\n",
        "ax[0].set_title('Quantidade de passageiros por idade')\n",
        "\n",
        "sns.histplot(data=df_train, x='Fare', palette='dark', bins=100, ax=ax[1])\n",
        "ax[1].set_title('Quantidade de passageiros por valor da passagem')\n",
        "\n",
        "sns.histplot(data=df_train[df_train.Fare<50], x='Fare', palette='dark', bins=100, ax=ax[2])\n",
        "ax[2].set_title('Quantidade de passageiros por valor da passagem menores que 50')"
      ],
      "metadata": {
        "colab": {
          "base_uri": "https://localhost:8080/",
          "height": 1000
        },
        "id": "fLivmg5UxkoE",
        "outputId": "b001cf8f-8acb-4235-8cf7-9be15cc1f66e"
      },
      "execution_count": 21,
      "outputs": [
        {
          "output_type": "execute_result",
          "data": {
            "text/plain": [
              "Text(0.5, 1.0, 'Quantidade de passageiros por valor da passagem menores que 50')"
            ]
          },
          "metadata": {},
          "execution_count": 21
        },
        {
          "output_type": "display_data",
          "data": {
            "text/plain": [
              "<Figure size 1224x1800 with 3 Axes>"
            ],
            "image/png": "[encoded data removed]"
          },
          "metadata": {
            "needs_background": "light"
          }
        }
      ]
    },
    {
      "cell_type": "markdown",
      "source": [
        "**Comentário:** Maior densidade de passageiros entre 15 a 40 anos e a grande maioria das passagens estão na faixa de valor abaixo de 10."
      ],
      "metadata": {
        "id": "QDUP3FBxRY9C"
      }
    },
    {
      "cell_type": "markdown",
      "source": [
        "# Descritiva Bivariada:"
      ],
      "metadata": {
        "id": "Hp91VMOeMjyy"
      }
    },
    {
      "cell_type": "code",
      "source": [
        "fig, ax = plt.subplots(nrows=3, ncols=2, figsize=(17,20))\n",
        "\n",
        "sns.lineplot(data=df_train, x='Pclass', y='Survived', palette='mako', ax=ax[0,0], marker='o')\n",
        "ax[0,0].set_title('Proporção de sobreviventes para cada Classe')\n",
        "ax[0,0].set_ylabel(\"Proporção de sobreviventes\")\n",
        "\n",
        "sns.lineplot(data=df_train, x='Sex', y='Survived', palette='mako', ax=ax[0,1], marker='o')\n",
        "ax[0,1].set_title('Proporção de sobreviventes para cada sexo')\n",
        "ax[0,1].set_ylabel(\"Proporção de sobreviventes\")\n",
        "\n",
        "sns.lineplot(data=df_train, x='SibSp', y='Survived', palette='mako', ax=ax[1,0], marker='o')\n",
        "ax[1,0].set_title('Proporção de sobreviventes para passageiros com irmãos/cônjuges a bordo')\n",
        "ax[1,0].set_ylabel(\"Proporção de sobreviventes\")\n",
        "\n",
        "sns.lineplot(data=df_train, x='Parch', y='Survived', palette='mako', ax=ax[1,1], marker='o')\n",
        "ax[1,1].set_title('Proporção de sobreviventes por passageiros com pais/filhos a bordo')\n",
        "ax[1,1].set_ylabel(\"Proporção de sobreviventes\")\n",
        "\n",
        "sns.lineplot(data=df_train, x='Embarked', y='Survived', palette='mako', ax=ax[2,0], marker='o')\n",
        "ax[2,0].set_title('Proporção de sobreviventes por cada porto de embarcação')\n",
        "ax[2,0].set_ylabel(\"Proporção de sobreviventes\")\n",
        "\n",
        "ax[2,1].axis('off')"
      ],
      "metadata": {
        "colab": {
          "base_uri": "https://localhost:8080/",
          "height": 1000
        },
        "id": "3LQXKhEi201j",
        "outputId": "d73d282d-f3ba-4d8a-f600-859f8eb99ca1"
      },
      "execution_count": 22,
      "outputs": [
        {
          "output_type": "execute_result",
          "data": {
            "text/plain": [
              "(0.0, 1.0, 0.0, 1.0)"
            ]
          },
          "metadata": {},
          "execution_count": 22
        },
        {
          "output_type": "display_data",
          "data": {
            "text/plain": [
              "<Figure size 1224x1440 with 6 Axes>"
            ],
            "image/png": "[encoded data removed]"
          },
          "metadata": {
            "needs_background": "light"
          }
        }
      ]
    },
    {
      "cell_type": "markdown",
      "source": [
        "**Comentário:** *Pclass* e *Sex* são variáveis que parecem ter valor estatístico para indentificar diferentes entre sobreviventes e não sobreviventes, as demais não parecem apresentar uma tendência a informar mais precisamente sobre sobreviventes."
      ],
      "metadata": {
        "id": "9GQDO8JGSmdp"
      }
    },
    {
      "cell_type": "code",
      "source": [
        "fig, ax = plt.subplots(figsize=(13,7))\n",
        "\n",
        "cat_1, bins = pd.qcut(df_train['Age'], 30, retbins=True)\n",
        "df_1 = df_train.groupby(cat_1)\n",
        "biv = df_1['Survived'].mean()\n",
        "\n",
        "ax = biv.plot.line(marker='o')\n",
        "ax.set_ylabel(\"Proporção de sobreviventes\")\n",
        "ticks = plt.xticks(range(len(biv.index.values)), biv.index.values, rotation = 90)\n",
        "ax.set_title('Proporção de sobreviventes para intervalos de idade')"
      ],
      "metadata": {
        "colab": {
          "base_uri": "https://localhost:8080/",
          "height": 526
        },
        "id": "9e69c1U5Naux",
        "outputId": "bd862df1-faf0-4148-d488-dc34c86e9ccd"
      },
      "execution_count": 23,
      "outputs": [
        {
          "output_type": "execute_result",
          "data": {
            "text/plain": [
              "Text(0.5, 1.0, 'Proporção de sobreviventes para intervalos de idade')"
            ]
          },
          "metadata": {},
          "execution_count": 23
        },
        {
          "output_type": "display_data",
          "data": {
            "text/plain": [
              "<Figure size 936x504 with 1 Axes>"
            ],
            "image/png": "[encoded data removed]"
          },
          "metadata": {
            "needs_background": "light"
          }
        }
      ]
    },
    {
      "cell_type": "markdown",
      "source": [
        "**Comentário:** A variável *Age* não parece fornecer uma correlação boa com a variável *Survived*."
      ],
      "metadata": {
        "id": "oXUY4UxXTN5q"
      }
    },
    {
      "cell_type": "code",
      "source": [
        "fig, ax = plt.subplots(figsize=(13,7))\n",
        "\n",
        "cat_1, bins = pd.qcut(df_train['Fare'], 30, retbins=True)\n",
        "df_1 = df_train.groupby(cat_1)\n",
        "biv = df_1['Survived'].mean()\n",
        "\n",
        "ax = biv.plot.line(marker='o')\n",
        "ax.set_ylabel(\"Proporção de inadimplentes\")\n",
        "ticks = plt.xticks(range(len(biv.index.values)), biv.index.values, rotation = 90)\n",
        "ax.set_title('Proporção de sobreviventes para intervalos de valor da passagem')"
      ],
      "metadata": {
        "colab": {
          "base_uri": "https://localhost:8080/",
          "height": 549
        },
        "id": "2bVg8_o1PPi6",
        "outputId": "fb0e83cd-86b2-4770-d515-9f73ec8f3be8"
      },
      "execution_count": 24,
      "outputs": [
        {
          "output_type": "execute_result",
          "data": {
            "text/plain": [
              "Text(0.5, 1.0, 'Proporção de sobreviventes para intervalos de valor da passagem')"
            ]
          },
          "metadata": {},
          "execution_count": 24
        },
        {
          "output_type": "display_data",
          "data": {
            "text/plain": [
              "<Figure size 936x504 with 1 Axes>"
            ],
            "image/png": "[encoded data removed]"
          },
          "metadata": {
            "needs_background": "light"
          }
        }
      ]
    },
    {
      "cell_type": "markdown",
      "source": [
        "**Comentário:** A variável *Fare* não parece fornecer uma correlação boa com a variável *Survived*."
      ],
      "metadata": {
        "id": "gs_0KfBXTcyZ"
      }
    },
    {
      "cell_type": "markdown",
      "source": [
        "# Desenvolvimento do Modelo"
      ],
      "metadata": {
        "id": "IOnMJ1JRThog"
      }
    },
    {
      "cell_type": "markdown",
      "source": [
        "Retirando colunas do Dataframe que não são interessantes para uma modelagem:"
      ],
      "metadata": {
        "id": "KpRrSklUUvPS"
      }
    },
    {
      "cell_type": "code",
      "source": [
        "data = df_train.drop(columns = ['PassengerId', 'Name', 'Ticket', 'Cabin'], axis=1)"
      ],
      "metadata": {
        "id": "ZojAxk7fTe4Z"
      },
      "execution_count": 25,
      "outputs": []
    },
    {
      "cell_type": "code",
      "source": [
        "data.head(2)"
      ],
      "metadata": {
        "colab": {
          "base_uri": "https://localhost:8080/",
          "height": 112
        },
        "id": "J6YiDj6WVcHR",
        "outputId": "1fa10b1b-d15e-4596-b0e3-ed0fa7008293"
      },
      "execution_count": 26,
      "outputs": [
        {
          "output_type": "execute_result",
          "data": {
            "text/plain": [
              "   Survived  Pclass     Sex   Age  SibSp  Parch     Fare Embarked\n",
              "0         0       3    male  22.0      1      0   7.2500        S\n",
              "1         1       1  female  38.0      1      0  71.2833        C"
            ],
            "text/html": [
              "\n",
              "  <div id=\"df-2eee96cc-8272-4333-88a6-e9d42e4ac51a\">\n",
              "    <div class=\"colab-df-container\">\n",
              "      <div>\n",
              "<style scoped>\n",
              "    .dataframe tbody tr th:only-of-type {\n",
              "        vertical-align: middle;\n",
              "    }\n",
              "\n",
              "    .dataframe tbody tr th {\n",
              "        vertical-align: top;\n",
              "    }\n",
              "\n",
              "    .dataframe thead th {\n",
              "        text-align: right;\n",
              "    }\n",
              "</style>\n",
              "<table border=\"1\" class=\"dataframe\">\n",
              "  <thead>\n",
              "    <tr style=\"text-align: right;\">\n",
              "      <th></th>\n",
              "      <th>Survived</th>\n",
              "      <th>Pclass</th>\n",
              "      <th>Sex</th>\n",
              "      <th>Age</th>\n",
              "      <th>SibSp</th>\n",
              "      <th>Parch</th>\n",
              "      <th>Fare</th>\n",
              "      <th>Embarked</th>\n",
              "    </tr>\n",
              "  </thead>\n",
              "  <tbody>\n",
              "    <tr>\n",
              "      <th>0</th>\n",
              "      <td>0</td>\n",
              "      <td>3</td>\n",
              "      <td>male</td>\n",
              "      <td>22.0</td>\n",
              "      <td>1</td>\n",
              "      <td>0</td>\n",
              "      <td>7.2500</td>\n",
              "      <td>S</td>\n",
              "    </tr>\n",
              "    <tr>\n",
              "      <th>1</th>\n",
              "      <td>1</td>\n",
              "      <td>1</td>\n",
              "      <td>female</td>\n",
              "      <td>38.0</td>\n",
              "      <td>1</td>\n",
              "      <td>0</td>\n",
              "      <td>71.2833</td>\n",
              "      <td>C</td>\n",
              "    </tr>\n",
              "  </tbody>\n",
              "</table>\n",
              "</div>\n",
              "      <button class=\"colab-df-convert\" onclick=\"convertToInteractive('df-2eee96cc-8272-4333-88a6-e9d42e4ac51a')\"\n",
              "              title=\"Convert this dataframe to an interactive table.\"\n",
              "              style=\"display:none;\">\n",
              "        \n",
              "  <svg xmlns=\"http://www.w3.org/2000/svg\" height=\"24px\"viewBox=\"0 0 24 24\"\n",
              "       width=\"24px\">\n",
              "    <path d=\"M0 0h24v24H0V0z\" fill=\"none\"/>\n",
              "    <path d=\"M18.56 5.44l.94 2.06.94-2.06 2.06-.94-2.06-.94-.94-2.06-.94 2.06-2.06.94zm-11 1L8.5 8.5l.94-2.06 2.06-.94-2.06-.94L8.5 2.5l-.94 2.06-2.06.94zm10 10l.94 2.06.94-2.06 2.06-.94-2.06-.94-.94-2.06-.94 2.06-2.06.94z\"/><path d=\"M17.41 7.96l-1.37-1.37c-.4-.4-.92-.59-1.43-.59-.52 0-1.04.2-1.43.59L10.3 9.45l-7.72 7.72c-.78.78-.78 2.05 0 2.83L4 21.41c.39.39.9.59 1.41.59.51 0 1.02-.2 1.41-.59l7.78-7.78 2.81-2.81c.8-.78.8-2.07 0-2.86zM5.41 20L4 18.59l7.72-7.72 1.47 1.35L5.41 20z\"/>\n",
              "  </svg>\n",
              "      </button>\n",
              "      \n",
              "  <style>\n",
              "    .colab-df-container {\n",
              "      display:flex;\n",
              "      flex-wrap:wrap;\n",
              "      gap: 12px;\n",
              "    }\n",
              "\n",
              "    .colab-df-convert {\n",
              "      background-color: #E8F0FE;\n",
              "      border: none;\n",
              "      border-radius: 50%;\n",
              "      cursor: pointer;\n",
              "      display: none;\n",
              "      fill: #1967D2;\n",
              "      height: 32px;\n",
              "      padding: 0 0 0 0;\n",
              "      width: 32px;\n",
              "    }\n",
              "\n",
              "    .colab-df-convert:hover {\n",
              "      background-color: #E2EBFA;\n",
              "      box-shadow: 0px 1px 2px rgba(60, 64, 67, 0.3), 0px 1px 3px 1px rgba(60, 64, 67, 0.15);\n",
              "      fill: #174EA6;\n",
              "    }\n",
              "\n",
              "    [theme=dark] .colab-df-convert {\n",
              "      background-color: #3B4455;\n",
              "      fill: #D2E3FC;\n",
              "    }\n",
              "\n",
              "    [theme=dark] .colab-df-convert:hover {\n",
              "      background-color: #434B5C;\n",
              "      box-shadow: 0px 1px 3px 1px rgba(0, 0, 0, 0.15);\n",
              "      filter: drop-shadow(0px 1px 2px rgba(0, 0, 0, 0.3));\n",
              "      fill: #FFFFFF;\n",
              "    }\n",
              "  </style>\n",
              "\n",
              "      <script>\n",
              "        const buttonEl =\n",
              "          document.querySelector('#df-2eee96cc-8272-4333-88a6-e9d42e4ac51a button.colab-df-convert');\n",
              "        buttonEl.style.display =\n",
              "          google.colab.kernel.accessAllowed ? 'block' : 'none';\n",
              "\n",
              "        async function convertToInteractive(key) {\n",
              "          const element = document.querySelector('#df-2eee96cc-8272-4333-88a6-e9d42e4ac51a');\n",
              "          const dataTable =\n",
              "            await google.colab.kernel.invokeFunction('convertToInteractive',\n",
              "                                                     [key], {});\n",
              "          if (!dataTable) return;\n",
              "\n",
              "          const docLinkHtml = 'Like what you see? Visit the ' +\n",
              "            '<a target=\"_blank\" href=https://colab.research.google.com/notebooks/data_table.ipynb>data table notebook</a>'\n",
              "            + ' to learn more about interactive tables.';\n",
              "          element.innerHTML = '';\n",
              "          dataTable['output_type'] = 'display_data';\n",
              "          await google.colab.output.renderOutput(dataTable, element);\n",
              "          const docLink = document.createElement('div');\n",
              "          docLink.innerHTML = docLinkHtml;\n",
              "          element.appendChild(docLink);\n",
              "        }\n",
              "      </script>\n",
              "    </div>\n",
              "  </div>\n",
              "  "
            ]
          },
          "metadata": {},
          "execution_count": 26
        }
      ]
    },
    {
      "cell_type": "markdown",
      "source": [
        "Preparação do Ambiente para o Pycaret:"
      ],
      "metadata": {
        "id": "Y9lOYcMQc6f6"
      }
    },
    {
      "cell_type": "code",
      "source": [
        "%%time\n",
        "\n",
        "exp_clf = setup(data=data, \n",
        "                target = 'Survived', \n",
        "                session_id=123, \n",
        "                numeric_imputation = True,\n",
        "                categorical_imputation = 'mode',\n",
        "                fix_imbalance = True,\n",
        "                remove_outliers = True,\n",
        "                outliers_threshold = 0.02) "
      ],
      "metadata": {
        "colab": {
          "base_uri": "https://localhost:8080/",
          "height": 993
        },
        "id": "PI79w-dBVeJw",
        "outputId": "0d9575f2-d153-409d-c965-c383d6048849"
      },
      "execution_count": 27,
      "outputs": [
        {
          "output_type": "display_data",
          "data": {
            "text/plain": [
              "<pandas.io.formats.style.Styler at 0x7f93c9198310>"
            ],
            "text/html": [
              "<style type=\"text/css\">\n",
              "#T_a39f1_row11_col1, #T_a39f1_row13_col1, #T_a39f1_row18_col1, #T_a39f1_row20_col1 {\n",
              "  background-color: lightgreen;\n",
              "}\n",
              "</style>\n",
              "<table id=\"T_a39f1_\" class=\"dataframe\">\n",
              "  <thead>\n",
              "    <tr>\n",
              "      <th class=\"blank level0\" >&nbsp;</th>\n",
              "      <th class=\"col_heading level0 col0\" >Description</th>\n",
              "      <th class=\"col_heading level0 col1\" >Value</th>\n",
              "    </tr>\n",
              "  </thead>\n",
              "  <tbody>\n",
              "    <tr>\n",
              "      <th id=\"T_a39f1_level0_row0\" class=\"row_heading level0 row0\" >0</th>\n",
              "      <td id=\"T_a39f1_row0_col0\" class=\"data row0 col0\" >Session id</td>\n",
              "      <td id=\"T_a39f1_row0_col1\" class=\"data row0 col1\" >123</td>\n",
              "    </tr>\n",
              "    <tr>\n",
              "      <th id=\"T_a39f1_level0_row1\" class=\"row_heading level0 row1\" >1</th>\n",
              "      <td id=\"T_a39f1_row1_col0\" class=\"data row1 col0\" >Target</td>\n",
              "      <td id=\"T_a39f1_row1_col1\" class=\"data row1 col1\" >Survived</td>\n",
              "    </tr>\n",
              "    <tr>\n",
              "      <th id=\"T_a39f1_level0_row2\" class=\"row_heading level0 row2\" >2</th>\n",
              "      <td id=\"T_a39f1_row2_col0\" class=\"data row2 col0\" >Target type</td>\n",
              "      <td id=\"T_a39f1_row2_col1\" class=\"data row2 col1\" >Binary</td>\n",
              "    </tr>\n",
              "    <tr>\n",
              "      <th id=\"T_a39f1_level0_row3\" class=\"row_heading level0 row3\" >3</th>\n",
              "      <td id=\"T_a39f1_row3_col0\" class=\"data row3 col0\" >Original data shape</td>\n",
              "      <td id=\"T_a39f1_row3_col1\" class=\"data row3 col1\" >(891, 8)</td>\n",
              "    </tr>\n",
              "    <tr>\n",
              "      <th id=\"T_a39f1_level0_row4\" class=\"row_heading level0 row4\" >4</th>\n",
              "      <td id=\"T_a39f1_row4_col0\" class=\"data row4 col0\" >Transformed data shape</td>\n",
              "      <td id=\"T_a39f1_row4_col1\" class=\"data row4 col1\" >(1018, 10)</td>\n",
              "    </tr>\n",
              "    <tr>\n",
              "      <th id=\"T_a39f1_level0_row5\" class=\"row_heading level0 row5\" >5</th>\n",
              "      <td id=\"T_a39f1_row5_col0\" class=\"data row5 col0\" >Transformed train set shape</td>\n",
              "      <td id=\"T_a39f1_row5_col1\" class=\"data row5 col1\" >(750, 10)</td>\n",
              "    </tr>\n",
              "    <tr>\n",
              "      <th id=\"T_a39f1_level0_row6\" class=\"row_heading level0 row6\" >6</th>\n",
              "      <td id=\"T_a39f1_row6_col0\" class=\"data row6 col0\" >Transformed test set shape</td>\n",
              "      <td id=\"T_a39f1_row6_col1\" class=\"data row6 col1\" >(268, 10)</td>\n",
              "    </tr>\n",
              "    <tr>\n",
              "      <th id=\"T_a39f1_level0_row7\" class=\"row_heading level0 row7\" >7</th>\n",
              "      <td id=\"T_a39f1_row7_col0\" class=\"data row7 col0\" >Ordinal features</td>\n",
              "      <td id=\"T_a39f1_row7_col1\" class=\"data row7 col1\" >1</td>\n",
              "    </tr>\n",
              "    <tr>\n",
              "      <th id=\"T_a39f1_level0_row8\" class=\"row_heading level0 row8\" >8</th>\n",
              "      <td id=\"T_a39f1_row8_col0\" class=\"data row8 col0\" >Numeric features</td>\n",
              "      <td id=\"T_a39f1_row8_col1\" class=\"data row8 col1\" >5</td>\n",
              "    </tr>\n",
              "    <tr>\n",
              "      <th id=\"T_a39f1_level0_row9\" class=\"row_heading level0 row9\" >9</th>\n",
              "      <td id=\"T_a39f1_row9_col0\" class=\"data row9 col0\" >Categorical features</td>\n",
              "      <td id=\"T_a39f1_row9_col1\" class=\"data row9 col1\" >2</td>\n",
              "    </tr>\n",
              "    <tr>\n",
              "      <th id=\"T_a39f1_level0_row10\" class=\"row_heading level0 row10\" >10</th>\n",
              "      <td id=\"T_a39f1_row10_col0\" class=\"data row10 col0\" >Rows with missing values</td>\n",
              "      <td id=\"T_a39f1_row10_col1\" class=\"data row10 col1\" >20.1%</td>\n",
              "    </tr>\n",
              "    <tr>\n",
              "      <th id=\"T_a39f1_level0_row11\" class=\"row_heading level0 row11\" >11</th>\n",
              "      <td id=\"T_a39f1_row11_col0\" class=\"data row11 col0\" >Preprocess</td>\n",
              "      <td id=\"T_a39f1_row11_col1\" class=\"data row11 col1\" >True</td>\n",
              "    </tr>\n",
              "    <tr>\n",
              "      <th id=\"T_a39f1_level0_row12\" class=\"row_heading level0 row12\" >12</th>\n",
              "      <td id=\"T_a39f1_row12_col0\" class=\"data row12 col0\" >Imputation type</td>\n",
              "      <td id=\"T_a39f1_row12_col1\" class=\"data row12 col1\" >simple</td>\n",
              "    </tr>\n",
              "    <tr>\n",
              "      <th id=\"T_a39f1_level0_row13\" class=\"row_heading level0 row13\" >13</th>\n",
              "      <td id=\"T_a39f1_row13_col0\" class=\"data row13 col0\" >Numeric imputation</td>\n",
              "      <td id=\"T_a39f1_row13_col1\" class=\"data row13 col1\" >True</td>\n",
              "    </tr>\n",
              "    <tr>\n",
              "      <th id=\"T_a39f1_level0_row14\" class=\"row_heading level0 row14\" >14</th>\n",
              "      <td id=\"T_a39f1_row14_col0\" class=\"data row14 col0\" >Categorical imputation</td>\n",
              "      <td id=\"T_a39f1_row14_col1\" class=\"data row14 col1\" >mode</td>\n",
              "    </tr>\n",
              "    <tr>\n",
              "      <th id=\"T_a39f1_level0_row15\" class=\"row_heading level0 row15\" >15</th>\n",
              "      <td id=\"T_a39f1_row15_col0\" class=\"data row15 col0\" >Maximum one-hot encoding</td>\n",
              "      <td id=\"T_a39f1_row15_col1\" class=\"data row15 col1\" >5</td>\n",
              "    </tr>\n",
              "    <tr>\n",
              "      <th id=\"T_a39f1_level0_row16\" class=\"row_heading level0 row16\" >16</th>\n",
              "      <td id=\"T_a39f1_row16_col0\" class=\"data row16 col0\" >Encoding method</td>\n",
              "      <td id=\"T_a39f1_row16_col1\" class=\"data row16 col1\" >None</td>\n",
              "    </tr>\n",
              "    <tr>\n",
              "      <th id=\"T_a39f1_level0_row17\" class=\"row_heading level0 row17\" >17</th>\n",
              "      <td id=\"T_a39f1_row17_col0\" class=\"data row17 col0\" >Low variance threshold</td>\n",
              "      <td id=\"T_a39f1_row17_col1\" class=\"data row17 col1\" >0</td>\n",
              "    </tr>\n",
              "    <tr>\n",
              "      <th id=\"T_a39f1_level0_row18\" class=\"row_heading level0 row18\" >18</th>\n",
              "      <td id=\"T_a39f1_row18_col0\" class=\"data row18 col0\" >Remove outliers</td>\n",
              "      <td id=\"T_a39f1_row18_col1\" class=\"data row18 col1\" >True</td>\n",
              "    </tr>\n",
              "    <tr>\n",
              "      <th id=\"T_a39f1_level0_row19\" class=\"row_heading level0 row19\" >19</th>\n",
              "      <td id=\"T_a39f1_row19_col0\" class=\"data row19 col0\" >Outliers threshold</td>\n",
              "      <td id=\"T_a39f1_row19_col1\" class=\"data row19 col1\" >0.020000</td>\n",
              "    </tr>\n",
              "    <tr>\n",
              "      <th id=\"T_a39f1_level0_row20\" class=\"row_heading level0 row20\" >20</th>\n",
              "      <td id=\"T_a39f1_row20_col0\" class=\"data row20 col0\" >Fix imbalance</td>\n",
              "      <td id=\"T_a39f1_row20_col1\" class=\"data row20 col1\" >True</td>\n",
              "    </tr>\n",
              "    <tr>\n",
              "      <th id=\"T_a39f1_level0_row21\" class=\"row_heading level0 row21\" >21</th>\n",
              "      <td id=\"T_a39f1_row21_col0\" class=\"data row21 col0\" >Fix imbalance method</td>\n",
              "      <td id=\"T_a39f1_row21_col1\" class=\"data row21 col1\" >SMOTE</td>\n",
              "    </tr>\n",
              "    <tr>\n",
              "      <th id=\"T_a39f1_level0_row22\" class=\"row_heading level0 row22\" >22</th>\n",
              "      <td id=\"T_a39f1_row22_col0\" class=\"data row22 col0\" >Fold Generator</td>\n",
              "      <td id=\"T_a39f1_row22_col1\" class=\"data row22 col1\" >StratifiedKFold</td>\n",
              "    </tr>\n",
              "    <tr>\n",
              "      <th id=\"T_a39f1_level0_row23\" class=\"row_heading level0 row23\" >23</th>\n",
              "      <td id=\"T_a39f1_row23_col0\" class=\"data row23 col0\" >Fold Number</td>\n",
              "      <td id=\"T_a39f1_row23_col1\" class=\"data row23 col1\" >10</td>\n",
              "    </tr>\n",
              "    <tr>\n",
              "      <th id=\"T_a39f1_level0_row24\" class=\"row_heading level0 row24\" >24</th>\n",
              "      <td id=\"T_a39f1_row24_col0\" class=\"data row24 col0\" >CPU Jobs</td>\n",
              "      <td id=\"T_a39f1_row24_col1\" class=\"data row24 col1\" >-1</td>\n",
              "    </tr>\n",
              "    <tr>\n",
              "      <th id=\"T_a39f1_level0_row25\" class=\"row_heading level0 row25\" >25</th>\n",
              "      <td id=\"T_a39f1_row25_col0\" class=\"data row25 col0\" >Use GPU</td>\n",
              "      <td id=\"T_a39f1_row25_col1\" class=\"data row25 col1\" >False</td>\n",
              "    </tr>\n",
              "    <tr>\n",
              "      <th id=\"T_a39f1_level0_row26\" class=\"row_heading level0 row26\" >26</th>\n",
              "      <td id=\"T_a39f1_row26_col0\" class=\"data row26 col0\" >Log Experiment</td>\n",
              "      <td id=\"T_a39f1_row26_col1\" class=\"data row26 col1\" >False</td>\n",
              "    </tr>\n",
              "    <tr>\n",
              "      <th id=\"T_a39f1_level0_row27\" class=\"row_heading level0 row27\" >27</th>\n",
              "      <td id=\"T_a39f1_row27_col0\" class=\"data row27 col0\" >Experiment Name</td>\n",
              "      <td id=\"T_a39f1_row27_col1\" class=\"data row27 col1\" >clf-default-name</td>\n",
              "    </tr>\n",
              "    <tr>\n",
              "      <th id=\"T_a39f1_level0_row28\" class=\"row_heading level0 row28\" >28</th>\n",
              "      <td id=\"T_a39f1_row28_col0\" class=\"data row28 col0\" >USI</td>\n",
              "      <td id=\"T_a39f1_row28_col1\" class=\"data row28 col1\" >cf11</td>\n",
              "    </tr>\n",
              "  </tbody>\n",
              "</table>\n"
            ]
          },
          "metadata": {}
        },
        {
          "output_type": "stream",
          "name": "stdout",
          "text": [
            "CPU times: user 1.73 s, sys: 25.9 ms, total: 1.76 s\n",
            "Wall time: 2.04 s\n"
          ]
        }
      ]
    },
    {
      "cell_type": "markdown",
      "source": [
        "Comparação rápida entre os modelos para decidirmos qual vamos utilizar:"
      ],
      "metadata": {
        "id": "cGVQTYi1dRqq"
      }
    },
    {
      "cell_type": "code",
      "source": [
        "%%time\n",
        "\n",
        "best_model = compare_models(fold=10, sort='Accuracy')"
      ],
      "metadata": {
        "colab": {
          "base_uri": "https://localhost:8080/",
          "height": 523,
          "referenced_widgets": [
            "442edbff022b429f8ef8b26b0b2de964",
            "ae98fa6b25ff40a4abc3fa16ce81655d",
            "1cd83530df1140c0850e85c52b5f1ec8",
            "bb36bce52b6b4b6a97f29988a1b5c847",
            "6294a55666234f9681a40a3fc56fc60f",
            "fbf15b94299b44faa23eda7f5e8bdc62",
            "8547c9e580614d9c862636969ff24565",
            "1ae81d71e5d74159a31413fc17437fa1",
            "d0222c84f59e48c8be2ce66ce8604a7d",
            "d285434c9bb943fc86fc2d7a25a325bf",
            "88b1357893c0459482b4870db01d40f2"
          ]
        },
        "id": "itycd2vAXKha",
        "outputId": "23d192aa-861d-465c-b3cf-592112953fb4"
      },
      "execution_count": 28,
      "outputs": [
        {
          "output_type": "display_data",
          "data": {
            "text/plain": [
              "<IPython.core.display.HTML object>"
            ],
            "text/html": []
          },
          "metadata": {}
        },
        {
          "output_type": "display_data",
          "data": {
            "text/plain": [
              "<pandas.io.formats.style.Styler at 0x7f93c92bb460>"
            ],
            "text/html": [
              "<style type=\"text/css\">\n",
              "#T_a05ae_ th {\n",
              "  text-align: left;\n",
              "}\n",
              "#T_a05ae_row0_col0, #T_a05ae_row0_col2, #T_a05ae_row0_col3, #T_a05ae_row0_col5, #T_a05ae_row1_col0, #T_a05ae_row1_col1, #T_a05ae_row1_col2, #T_a05ae_row1_col3, #T_a05ae_row1_col4, #T_a05ae_row1_col5, #T_a05ae_row1_col6, #T_a05ae_row1_col7, #T_a05ae_row2_col0, #T_a05ae_row2_col1, #T_a05ae_row2_col2, #T_a05ae_row2_col4, #T_a05ae_row2_col6, #T_a05ae_row2_col7, #T_a05ae_row3_col0, #T_a05ae_row3_col1, #T_a05ae_row3_col2, #T_a05ae_row3_col3, #T_a05ae_row3_col4, #T_a05ae_row3_col5, #T_a05ae_row3_col6, #T_a05ae_row3_col7, #T_a05ae_row4_col0, #T_a05ae_row4_col1, #T_a05ae_row4_col2, #T_a05ae_row4_col3, #T_a05ae_row4_col4, #T_a05ae_row4_col5, #T_a05ae_row4_col6, #T_a05ae_row4_col7, #T_a05ae_row5_col0, #T_a05ae_row5_col1, #T_a05ae_row5_col2, #T_a05ae_row5_col3, #T_a05ae_row5_col4, #T_a05ae_row5_col5, #T_a05ae_row5_col6, #T_a05ae_row5_col7, #T_a05ae_row6_col0, #T_a05ae_row6_col1, #T_a05ae_row6_col3, #T_a05ae_row6_col4, #T_a05ae_row6_col5, #T_a05ae_row6_col6, #T_a05ae_row6_col7, #T_a05ae_row7_col0, #T_a05ae_row7_col1, #T_a05ae_row7_col2, #T_a05ae_row7_col3, #T_a05ae_row7_col4, #T_a05ae_row7_col5, #T_a05ae_row7_col6, #T_a05ae_row7_col7, #T_a05ae_row8_col0, #T_a05ae_row8_col1, #T_a05ae_row8_col2, #T_a05ae_row8_col3, #T_a05ae_row8_col4, #T_a05ae_row8_col5, #T_a05ae_row8_col6, #T_a05ae_row8_col7, #T_a05ae_row9_col0, #T_a05ae_row9_col1, #T_a05ae_row9_col2, #T_a05ae_row9_col3, #T_a05ae_row9_col4, #T_a05ae_row9_col5, #T_a05ae_row9_col6, #T_a05ae_row9_col7, #T_a05ae_row10_col0, #T_a05ae_row10_col1, #T_a05ae_row10_col2, #T_a05ae_row10_col3, #T_a05ae_row10_col4, #T_a05ae_row10_col5, #T_a05ae_row10_col6, #T_a05ae_row10_col7, #T_a05ae_row11_col0, #T_a05ae_row11_col1, #T_a05ae_row11_col2, #T_a05ae_row11_col3, #T_a05ae_row11_col4, #T_a05ae_row11_col5, #T_a05ae_row11_col6, #T_a05ae_row11_col7, #T_a05ae_row12_col0, #T_a05ae_row12_col1, #T_a05ae_row12_col2, #T_a05ae_row12_col3, #T_a05ae_row12_col4, #T_a05ae_row12_col5, #T_a05ae_row12_col6, #T_a05ae_row12_col7, #T_a05ae_row13_col0, #T_a05ae_row13_col1, #T_a05ae_row13_col2, #T_a05ae_row13_col3, #T_a05ae_row13_col4, #T_a05ae_row13_col5, #T_a05ae_row13_col6, #T_a05ae_row13_col7 {\n",
              "  text-align: left;\n",
              "}\n",
              "#T_a05ae_row0_col1, #T_a05ae_row0_col4, #T_a05ae_row0_col6, #T_a05ae_row0_col7, #T_a05ae_row2_col3, #T_a05ae_row2_col5, #T_a05ae_row6_col2 {\n",
              "  text-align: left;\n",
              "  background-color: yellow;\n",
              "}\n",
              "#T_a05ae_row0_col8, #T_a05ae_row1_col8, #T_a05ae_row2_col8, #T_a05ae_row3_col8, #T_a05ae_row4_col8, #T_a05ae_row5_col8, #T_a05ae_row6_col8, #T_a05ae_row7_col8, #T_a05ae_row8_col8, #T_a05ae_row9_col8, #T_a05ae_row10_col8, #T_a05ae_row11_col8, #T_a05ae_row12_col8 {\n",
              "  text-align: left;\n",
              "  background-color: lightgrey;\n",
              "}\n",
              "#T_a05ae_row13_col8 {\n",
              "  text-align: left;\n",
              "  background-color: yellow;\n",
              "  background-color: lightgrey;\n",
              "}\n",
              "</style>\n",
              "<table id=\"T_a05ae_\" class=\"dataframe\">\n",
              "  <thead>\n",
              "    <tr>\n",
              "      <th class=\"blank level0\" >&nbsp;</th>\n",
              "      <th class=\"col_heading level0 col0\" >Model</th>\n",
              "      <th class=\"col_heading level0 col1\" >Accuracy</th>\n",
              "      <th class=\"col_heading level0 col2\" >AUC</th>\n",
              "      <th class=\"col_heading level0 col3\" >Recall</th>\n",
              "      <th class=\"col_heading level0 col4\" >Prec.</th>\n",
              "      <th class=\"col_heading level0 col5\" >F1</th>\n",
              "      <th class=\"col_heading level0 col6\" >Kappa</th>\n",
              "      <th class=\"col_heading level0 col7\" >MCC</th>\n",
              "      <th class=\"col_heading level0 col8\" >TT (Sec)</th>\n",
              "    </tr>\n",
              "  </thead>\n",
              "  <tbody>\n",
              "    <tr>\n",
              "      <th id=\"T_a05ae_level0_row0\" class=\"row_heading level0 row0\" >gbc</th>\n",
              "      <td id=\"T_a05ae_row0_col0\" class=\"data row0 col0\" >Gradient Boosting Classifier</td>\n",
              "      <td id=\"T_a05ae_row0_col1\" class=\"data row0 col1\" >0.8057</td>\n",
              "      <td id=\"T_a05ae_row0_col2\" class=\"data row0 col2\" >0.8329</td>\n",
              "      <td id=\"T_a05ae_row0_col3\" class=\"data row0 col3\" >0.7069</td>\n",
              "      <td id=\"T_a05ae_row0_col4\" class=\"data row0 col4\" >0.7700</td>\n",
              "      <td id=\"T_a05ae_row0_col5\" class=\"data row0 col5\" >0.7345</td>\n",
              "      <td id=\"T_a05ae_row0_col6\" class=\"data row0 col6\" >0.5822</td>\n",
              "      <td id=\"T_a05ae_row0_col7\" class=\"data row0 col7\" >0.5857</td>\n",
              "      <td id=\"T_a05ae_row0_col8\" class=\"data row0 col8\" >0.2070</td>\n",
              "    </tr>\n",
              "    <tr>\n",
              "      <th id=\"T_a05ae_level0_row1\" class=\"row_heading level0 row1\" >lightgbm</th>\n",
              "      <td id=\"T_a05ae_row1_col0\" class=\"data row1 col0\" >Light Gradient Boosting Machine</td>\n",
              "      <td id=\"T_a05ae_row1_col1\" class=\"data row1 col1\" >0.8025</td>\n",
              "      <td id=\"T_a05ae_row1_col2\" class=\"data row1 col2\" >0.8351</td>\n",
              "      <td id=\"T_a05ae_row1_col3\" class=\"data row1 col3\" >0.7069</td>\n",
              "      <td id=\"T_a05ae_row1_col4\" class=\"data row1 col4\" >0.7678</td>\n",
              "      <td id=\"T_a05ae_row1_col5\" class=\"data row1 col5\" >0.7318</td>\n",
              "      <td id=\"T_a05ae_row1_col6\" class=\"data row1 col6\" >0.5763</td>\n",
              "      <td id=\"T_a05ae_row1_col7\" class=\"data row1 col7\" >0.5814</td>\n",
              "      <td id=\"T_a05ae_row1_col8\" class=\"data row1 col8\" >0.2040</td>\n",
              "    </tr>\n",
              "    <tr>\n",
              "      <th id=\"T_a05ae_level0_row2\" class=\"row_heading level0 row2\" >ada</th>\n",
              "      <td id=\"T_a05ae_row2_col0\" class=\"data row2 col0\" >Ada Boost Classifier</td>\n",
              "      <td id=\"T_a05ae_row2_col1\" class=\"data row2 col1\" >0.7960</td>\n",
              "      <td id=\"T_a05ae_row2_col2\" class=\"data row2 col2\" >0.8362</td>\n",
              "      <td id=\"T_a05ae_row2_col3\" class=\"data row2 col3\" >0.7699</td>\n",
              "      <td id=\"T_a05ae_row2_col4\" class=\"data row2 col4\" >0.7285</td>\n",
              "      <td id=\"T_a05ae_row2_col5\" class=\"data row2 col5\" >0.7435</td>\n",
              "      <td id=\"T_a05ae_row2_col6\" class=\"data row2 col6\" >0.5753</td>\n",
              "      <td id=\"T_a05ae_row2_col7\" class=\"data row2 col7\" >0.5815</td>\n",
              "      <td id=\"T_a05ae_row2_col8\" class=\"data row2 col8\" >0.2810</td>\n",
              "    </tr>\n",
              "    <tr>\n",
              "      <th id=\"T_a05ae_level0_row3\" class=\"row_heading level0 row3\" >rf</th>\n",
              "      <td id=\"T_a05ae_row3_col0\" class=\"data row3 col0\" >Random Forest Classifier</td>\n",
              "      <td id=\"T_a05ae_row3_col1\" class=\"data row3 col1\" >0.7928</td>\n",
              "      <td id=\"T_a05ae_row3_col2\" class=\"data row3 col2\" >0.8316</td>\n",
              "      <td id=\"T_a05ae_row3_col3\" class=\"data row3 col3\" >0.6986</td>\n",
              "      <td id=\"T_a05ae_row3_col4\" class=\"data row3 col4\" >0.7516</td>\n",
              "      <td id=\"T_a05ae_row3_col5\" class=\"data row3 col5\" >0.7219</td>\n",
              "      <td id=\"T_a05ae_row3_col6\" class=\"data row3 col6\" >0.5572</td>\n",
              "      <td id=\"T_a05ae_row3_col7\" class=\"data row3 col7\" >0.5602</td>\n",
              "      <td id=\"T_a05ae_row3_col8\" class=\"data row3 col8\" >0.8980</td>\n",
              "    </tr>\n",
              "    <tr>\n",
              "      <th id=\"T_a05ae_level0_row4\" class=\"row_heading level0 row4\" >et</th>\n",
              "      <td id=\"T_a05ae_row4_col0\" class=\"data row4 col0\" >Extra Trees Classifier</td>\n",
              "      <td id=\"T_a05ae_row4_col1\" class=\"data row4 col1\" >0.7897</td>\n",
              "      <td id=\"T_a05ae_row4_col2\" class=\"data row4 col2\" >0.8237</td>\n",
              "      <td id=\"T_a05ae_row4_col3\" class=\"data row4 col3\" >0.7069</td>\n",
              "      <td id=\"T_a05ae_row4_col4\" class=\"data row4 col4\" >0.7367</td>\n",
              "      <td id=\"T_a05ae_row4_col5\" class=\"data row4 col5\" >0.7196</td>\n",
              "      <td id=\"T_a05ae_row4_col6\" class=\"data row4 col6\" >0.5517</td>\n",
              "      <td id=\"T_a05ae_row4_col7\" class=\"data row4 col7\" >0.5536</td>\n",
              "      <td id=\"T_a05ae_row4_col8\" class=\"data row4 col8\" >0.2560</td>\n",
              "    </tr>\n",
              "    <tr>\n",
              "      <th id=\"T_a05ae_level0_row5\" class=\"row_heading level0 row5\" >ridge</th>\n",
              "      <td id=\"T_a05ae_row5_col0\" class=\"data row5 col0\" >Ridge Classifier</td>\n",
              "      <td id=\"T_a05ae_row5_col1\" class=\"data row5 col1\" >0.7864</td>\n",
              "      <td id=\"T_a05ae_row5_col2\" class=\"data row5 col2\" >0.0000</td>\n",
              "      <td id=\"T_a05ae_row5_col3\" class=\"data row5 col3\" >0.7112</td>\n",
              "      <td id=\"T_a05ae_row5_col4\" class=\"data row5 col4\" >0.7328</td>\n",
              "      <td id=\"T_a05ae_row5_col5\" class=\"data row5 col5\" >0.7161</td>\n",
              "      <td id=\"T_a05ae_row5_col6\" class=\"data row5 col6\" >0.5458</td>\n",
              "      <td id=\"T_a05ae_row5_col7\" class=\"data row5 col7\" >0.5515</td>\n",
              "      <td id=\"T_a05ae_row5_col8\" class=\"data row5 col8\" >0.1740</td>\n",
              "    </tr>\n",
              "    <tr>\n",
              "      <th id=\"T_a05ae_level0_row6\" class=\"row_heading level0 row6\" >lda</th>\n",
              "      <td id=\"T_a05ae_row6_col0\" class=\"data row6 col0\" >Linear Discriminant Analysis</td>\n",
              "      <td id=\"T_a05ae_row6_col1\" class=\"data row6 col1\" >0.7848</td>\n",
              "      <td id=\"T_a05ae_row6_col2\" class=\"data row6 col2\" >0.8448</td>\n",
              "      <td id=\"T_a05ae_row6_col3\" class=\"data row6 col3\" >0.7071</td>\n",
              "      <td id=\"T_a05ae_row6_col4\" class=\"data row6 col4\" >0.7317</td>\n",
              "      <td id=\"T_a05ae_row6_col5\" class=\"data row6 col5\" >0.7137</td>\n",
              "      <td id=\"T_a05ae_row6_col6\" class=\"data row6 col6\" >0.5422</td>\n",
              "      <td id=\"T_a05ae_row6_col7\" class=\"data row6 col7\" >0.5476</td>\n",
              "      <td id=\"T_a05ae_row6_col8\" class=\"data row6 col8\" >0.1120</td>\n",
              "    </tr>\n",
              "    <tr>\n",
              "      <th id=\"T_a05ae_level0_row7\" class=\"row_heading level0 row7\" >lr</th>\n",
              "      <td id=\"T_a05ae_row7_col0\" class=\"data row7 col0\" >Logistic Regression</td>\n",
              "      <td id=\"T_a05ae_row7_col1\" class=\"data row7 col1\" >0.7784</td>\n",
              "      <td id=\"T_a05ae_row7_col2\" class=\"data row7 col2\" >0.8433</td>\n",
              "      <td id=\"T_a05ae_row7_col3\" class=\"data row7 col3\" >0.7406</td>\n",
              "      <td id=\"T_a05ae_row7_col4\" class=\"data row7 col4\" >0.7088</td>\n",
              "      <td id=\"T_a05ae_row7_col5\" class=\"data row7 col5\" >0.7189</td>\n",
              "      <td id=\"T_a05ae_row7_col6\" class=\"data row7 col6\" >0.5371</td>\n",
              "      <td id=\"T_a05ae_row7_col7\" class=\"data row7 col7\" >0.5433</td>\n",
              "      <td id=\"T_a05ae_row7_col8\" class=\"data row7 col8\" >0.9300</td>\n",
              "    </tr>\n",
              "    <tr>\n",
              "      <th id=\"T_a05ae_level0_row8\" class=\"row_heading level0 row8\" >nb</th>\n",
              "      <td id=\"T_a05ae_row8_col0\" class=\"data row8 col0\" >Naive Bayes</td>\n",
              "      <td id=\"T_a05ae_row8_col1\" class=\"data row8 col1\" >0.7656</td>\n",
              "      <td id=\"T_a05ae_row8_col2\" class=\"data row8 col2\" >0.8148</td>\n",
              "      <td id=\"T_a05ae_row8_col3\" class=\"data row8 col3\" >0.7447</td>\n",
              "      <td id=\"T_a05ae_row8_col4\" class=\"data row8 col4\" >0.6804</td>\n",
              "      <td id=\"T_a05ae_row8_col5\" class=\"data row8 col5\" >0.7057</td>\n",
              "      <td id=\"T_a05ae_row8_col6\" class=\"data row8 col6\" >0.5123</td>\n",
              "      <td id=\"T_a05ae_row8_col7\" class=\"data row8 col7\" >0.5207</td>\n",
              "      <td id=\"T_a05ae_row8_col8\" class=\"data row8 col8\" >0.2380</td>\n",
              "    </tr>\n",
              "    <tr>\n",
              "      <th id=\"T_a05ae_level0_row9\" class=\"row_heading level0 row9\" >dt</th>\n",
              "      <td id=\"T_a05ae_row9_col0\" class=\"data row9 col0\" >Decision Tree Classifier</td>\n",
              "      <td id=\"T_a05ae_row9_col1\" class=\"data row9 col1\" >0.7400</td>\n",
              "      <td id=\"T_a05ae_row9_col2\" class=\"data row9 col2\" >0.7185</td>\n",
              "      <td id=\"T_a05ae_row9_col3\" class=\"data row9 col3\" >0.6692</td>\n",
              "      <td id=\"T_a05ae_row9_col4\" class=\"data row9 col4\" >0.6591</td>\n",
              "      <td id=\"T_a05ae_row9_col5\" class=\"data row9 col5\" >0.6612</td>\n",
              "      <td id=\"T_a05ae_row9_col6\" class=\"data row9 col6\" >0.4509</td>\n",
              "      <td id=\"T_a05ae_row9_col7\" class=\"data row9 col7\" >0.4534</td>\n",
              "      <td id=\"T_a05ae_row9_col8\" class=\"data row9 col8\" >0.1930</td>\n",
              "    </tr>\n",
              "    <tr>\n",
              "      <th id=\"T_a05ae_level0_row10\" class=\"row_heading level0 row10\" >svm</th>\n",
              "      <td id=\"T_a05ae_row10_col0\" class=\"data row10 col0\" >SVM - Linear Kernel</td>\n",
              "      <td id=\"T_a05ae_row10_col1\" class=\"data row10 col1\" >0.7027</td>\n",
              "      <td id=\"T_a05ae_row10_col2\" class=\"data row10 col2\" >0.0000</td>\n",
              "      <td id=\"T_a05ae_row10_col3\" class=\"data row10 col3\" >0.6127</td>\n",
              "      <td id=\"T_a05ae_row10_col4\" class=\"data row10 col4\" >0.6455</td>\n",
              "      <td id=\"T_a05ae_row10_col5\" class=\"data row10 col5\" >0.5621</td>\n",
              "      <td id=\"T_a05ae_row10_col6\" class=\"data row10 col6\" >0.3610</td>\n",
              "      <td id=\"T_a05ae_row10_col7\" class=\"data row10 col7\" >0.3937</td>\n",
              "      <td id=\"T_a05ae_row10_col8\" class=\"data row10 col8\" >0.1680</td>\n",
              "    </tr>\n",
              "    <tr>\n",
              "      <th id=\"T_a05ae_level0_row11\" class=\"row_heading level0 row11\" >qda</th>\n",
              "      <td id=\"T_a05ae_row11_col0\" class=\"data row11 col0\" >Quadratic Discriminant Analysis</td>\n",
              "      <td id=\"T_a05ae_row11_col1\" class=\"data row11 col1\" >0.6966</td>\n",
              "      <td id=\"T_a05ae_row11_col2\" class=\"data row11 col2\" >0.7284</td>\n",
              "      <td id=\"T_a05ae_row11_col3\" class=\"data row11 col3\" >0.6607</td>\n",
              "      <td id=\"T_a05ae_row11_col4\" class=\"data row11 col4\" >0.6257</td>\n",
              "      <td id=\"T_a05ae_row11_col5\" class=\"data row11 col5\" >0.6012</td>\n",
              "      <td id=\"T_a05ae_row11_col6\" class=\"data row11 col6\" >0.3744</td>\n",
              "      <td id=\"T_a05ae_row11_col7\" class=\"data row11 col7\" >0.3974</td>\n",
              "      <td id=\"T_a05ae_row11_col8\" class=\"data row11 col8\" >0.2110</td>\n",
              "    </tr>\n",
              "    <tr>\n",
              "      <th id=\"T_a05ae_level0_row12\" class=\"row_heading level0 row12\" >knn</th>\n",
              "      <td id=\"T_a05ae_row12_col0\" class=\"data row12 col0\" >K Neighbors Classifier</td>\n",
              "      <td id=\"T_a05ae_row12_col1\" class=\"data row12 col1\" >0.6502</td>\n",
              "      <td id=\"T_a05ae_row12_col2\" class=\"data row12 col2\" >0.6999</td>\n",
              "      <td id=\"T_a05ae_row12_col3\" class=\"data row12 col3\" >0.6197</td>\n",
              "      <td id=\"T_a05ae_row12_col4\" class=\"data row12 col4\" >0.5392</td>\n",
              "      <td id=\"T_a05ae_row12_col5\" class=\"data row12 col5\" >0.5740</td>\n",
              "      <td id=\"T_a05ae_row12_col6\" class=\"data row12 col6\" >0.2805</td>\n",
              "      <td id=\"T_a05ae_row12_col7\" class=\"data row12 col7\" >0.2848</td>\n",
              "      <td id=\"T_a05ae_row12_col8\" class=\"data row12 col8\" >0.2410</td>\n",
              "    </tr>\n",
              "    <tr>\n",
              "      <th id=\"T_a05ae_level0_row13\" class=\"row_heading level0 row13\" >dummy</th>\n",
              "      <td id=\"T_a05ae_row13_col0\" class=\"data row13 col0\" >Dummy Classifier</td>\n",
              "      <td id=\"T_a05ae_row13_col1\" class=\"data row13 col1\" >0.6164</td>\n",
              "      <td id=\"T_a05ae_row13_col2\" class=\"data row13 col2\" >0.5000</td>\n",
              "      <td id=\"T_a05ae_row13_col3\" class=\"data row13 col3\" >0.0000</td>\n",
              "      <td id=\"T_a05ae_row13_col4\" class=\"data row13 col4\" >0.0000</td>\n",
              "      <td id=\"T_a05ae_row13_col5\" class=\"data row13 col5\" >0.0000</td>\n",
              "      <td id=\"T_a05ae_row13_col6\" class=\"data row13 col6\" >0.0000</td>\n",
              "      <td id=\"T_a05ae_row13_col7\" class=\"data row13 col7\" >0.0000</td>\n",
              "      <td id=\"T_a05ae_row13_col8\" class=\"data row13 col8\" >0.1010</td>\n",
              "    </tr>\n",
              "  </tbody>\n",
              "</table>\n"
            ]
          },
          "metadata": {}
        },
        {
          "output_type": "display_data",
          "data": {
            "text/plain": [
              "Processing:   0%|          | 0/61 [00:00<?, ?it/s]"
            ],
            "application/vnd.jupyter.widget-view+json": {
              "version_major": 2,
              "version_minor": 0,
              "model_id": "442edbff022b429f8ef8b26b0b2de964"
            }
          },
          "metadata": {
            "application/vnd.jupyter.widget-view+json": {
              "colab": {
                "custom_widget_manager": {
                  "url": "https://ssl.gstatic.com/colaboratory-static/widgets/colab-cdn-widget-manager/d2e234f7cc04bf79/manager.min.js"
                }
              }
            }
          }
        },
        {
          "output_type": "display_data",
          "data": {
            "text/plain": [
              "<IPython.core.display.HTML object>"
            ],
            "text/html": []
          },
          "metadata": {}
        },
        {
          "output_type": "stream",
          "name": "stdout",
          "text": [
            "CPU times: user 8.21 s, sys: 260 ms, total: 8.47 s\n",
            "Wall time: 50.1 s\n"
          ]
        }
      ]
    },
    {
      "cell_type": "code",
      "source": [
        "print(best_model)"
      ],
      "metadata": {
        "colab": {
          "base_uri": "https://localhost:8080/"
        },
        "id": "0sTR_eWBXoag",
        "outputId": "80c3cc11-e49f-4f90-b3db-2c35db7975fb"
      },
      "execution_count": 29,
      "outputs": [
        {
          "output_type": "stream",
          "name": "stdout",
          "text": [
            "GradientBoostingClassifier(ccp_alpha=0.0, criterion='friedman_mse', init=None,\n",
            "                           learning_rate=0.1, loss='deviance', max_depth=3,\n",
            "                           max_features=None, max_leaf_nodes=None,\n",
            "                           min_impurity_decrease=0.0, min_samples_leaf=1,\n",
            "                           min_samples_split=2, min_weight_fraction_leaf=0.0,\n",
            "                           n_estimators=100, n_iter_no_change=None,\n",
            "                           random_state=123, subsample=1.0, tol=0.0001,\n",
            "                           validation_fraction=0.1, verbose=0,\n",
            "                           warm_start=False)\n"
          ]
        }
      ]
    },
    {
      "cell_type": "markdown",
      "source": [
        "Vamos então criar um modelo utilizando o método Gradient Boosting Classifier:"
      ],
      "metadata": {
        "id": "iYVY0ILTdh1D"
      }
    },
    {
      "cell_type": "code",
      "source": [
        "%%time\n",
        "\n",
        "model = create_model('gbc')"
      ],
      "metadata": {
        "colab": {
          "base_uri": "https://localhost:8080/",
          "height": 492,
          "referenced_widgets": [
            "7f536c259cd441798a840f3f07386355",
            "d37a2d84a50f46b39a716e806ea28bd4",
            "030db80b3e0a4004a34d268257117427",
            "f9a05c6487ce46529089451cb00e1700",
            "80e96ae267cb454e95a9860c4bb46fb9",
            "6926c2c3598e4baa85fe7744dca65a05",
            "50722847c8074e9a9ea573f07e946069",
            "a05027a57c5d435bb7983c545667513d",
            "1f3b8d5fc3714103bd54600704a3994d",
            "472f3bb694914629b5072ac3c04ebb7c",
            "946d146aec514e0a9cd5a7fe6fd9e7ae"
          ]
        },
        "id": "YOqnOChjdsWh",
        "outputId": "2dd16e29-6e2f-4d67-c00c-3fe854e8820a"
      },
      "execution_count": 30,
      "outputs": [
        {
          "output_type": "display_data",
          "data": {
            "text/plain": [
              "<IPython.core.display.HTML object>"
            ],
            "text/html": []
          },
          "metadata": {}
        },
        {
          "output_type": "display_data",
          "data": {
            "text/plain": [
              "<pandas.io.formats.style.Styler at 0x7f93c9367df0>"
            ],
            "text/html": [
              "<style type=\"text/css\">\n",
              "#T_3137b_row10_col0, #T_3137b_row10_col1, #T_3137b_row10_col2, #T_3137b_row10_col3, #T_3137b_row10_col4, #T_3137b_row10_col5, #T_3137b_row10_col6 {\n",
              "  background: yellow;\n",
              "}\n",
              "</style>\n",
              "<table id=\"T_3137b_\" class=\"dataframe\">\n",
              "  <thead>\n",
              "    <tr>\n",
              "      <th class=\"blank level0\" >&nbsp;</th>\n",
              "      <th class=\"col_heading level0 col0\" >Accuracy</th>\n",
              "      <th class=\"col_heading level0 col1\" >AUC</th>\n",
              "      <th class=\"col_heading level0 col2\" >Recall</th>\n",
              "      <th class=\"col_heading level0 col3\" >Prec.</th>\n",
              "      <th class=\"col_heading level0 col4\" >F1</th>\n",
              "      <th class=\"col_heading level0 col5\" >Kappa</th>\n",
              "      <th class=\"col_heading level0 col6\" >MCC</th>\n",
              "    </tr>\n",
              "    <tr>\n",
              "      <th class=\"index_name level0\" >Fold</th>\n",
              "      <th class=\"blank col0\" >&nbsp;</th>\n",
              "      <th class=\"blank col1\" >&nbsp;</th>\n",
              "      <th class=\"blank col2\" >&nbsp;</th>\n",
              "      <th class=\"blank col3\" >&nbsp;</th>\n",
              "      <th class=\"blank col4\" >&nbsp;</th>\n",
              "      <th class=\"blank col5\" >&nbsp;</th>\n",
              "      <th class=\"blank col6\" >&nbsp;</th>\n",
              "    </tr>\n",
              "  </thead>\n",
              "  <tbody>\n",
              "    <tr>\n",
              "      <th id=\"T_3137b_level0_row0\" class=\"row_heading level0 row0\" >0</th>\n",
              "      <td id=\"T_3137b_row0_col0\" class=\"data row0 col0\" >0.8254</td>\n",
              "      <td id=\"T_3137b_row0_col1\" class=\"data row0 col1\" >0.8627</td>\n",
              "      <td id=\"T_3137b_row0_col2\" class=\"data row0 col2\" >0.7917</td>\n",
              "      <td id=\"T_3137b_row0_col3\" class=\"data row0 col3\" >0.7600</td>\n",
              "      <td id=\"T_3137b_row0_col4\" class=\"data row0 col4\" >0.7755</td>\n",
              "      <td id=\"T_3137b_row0_col5\" class=\"data row0 col5\" >0.6328</td>\n",
              "      <td id=\"T_3137b_row0_col6\" class=\"data row0 col6\" >0.6331</td>\n",
              "    </tr>\n",
              "    <tr>\n",
              "      <th id=\"T_3137b_level0_row1\" class=\"row_heading level0 row1\" >1</th>\n",
              "      <td id=\"T_3137b_row1_col0\" class=\"data row1 col0\" >0.8413</td>\n",
              "      <td id=\"T_3137b_row1_col1\" class=\"data row1 col1\" >0.7543</td>\n",
              "      <td id=\"T_3137b_row1_col2\" class=\"data row1 col2\" >0.7500</td>\n",
              "      <td id=\"T_3137b_row1_col3\" class=\"data row1 col3\" >0.8182</td>\n",
              "      <td id=\"T_3137b_row1_col4\" class=\"data row1 col4\" >0.7826</td>\n",
              "      <td id=\"T_3137b_row1_col5\" class=\"data row1 col5\" >0.6580</td>\n",
              "      <td id=\"T_3137b_row1_col6\" class=\"data row1 col6\" >0.6595</td>\n",
              "    </tr>\n",
              "    <tr>\n",
              "      <th id=\"T_3137b_level0_row2\" class=\"row_heading level0 row2\" >2</th>\n",
              "      <td id=\"T_3137b_row2_col0\" class=\"data row2 col0\" >0.8095</td>\n",
              "      <td id=\"T_3137b_row2_col1\" class=\"data row2 col1\" >0.9263</td>\n",
              "      <td id=\"T_3137b_row2_col2\" class=\"data row2 col2\" >0.7083</td>\n",
              "      <td id=\"T_3137b_row2_col3\" class=\"data row2 col3\" >0.7727</td>\n",
              "      <td id=\"T_3137b_row2_col4\" class=\"data row2 col4\" >0.7391</td>\n",
              "      <td id=\"T_3137b_row2_col5\" class=\"data row2 col5\" >0.5896</td>\n",
              "      <td id=\"T_3137b_row2_col6\" class=\"data row2 col6\" >0.5910</td>\n",
              "    </tr>\n",
              "    <tr>\n",
              "      <th id=\"T_3137b_level0_row3\" class=\"row_heading level0 row3\" >3</th>\n",
              "      <td id=\"T_3137b_row3_col0\" class=\"data row3 col0\" >0.8065</td>\n",
              "      <td id=\"T_3137b_row3_col1\" class=\"data row3 col1\" >0.8495</td>\n",
              "      <td id=\"T_3137b_row3_col2\" class=\"data row3 col2\" >0.6522</td>\n",
              "      <td id=\"T_3137b_row3_col3\" class=\"data row3 col3\" >0.7895</td>\n",
              "      <td id=\"T_3137b_row3_col4\" class=\"data row3 col4\" >0.7143</td>\n",
              "      <td id=\"T_3137b_row3_col5\" class=\"data row3 col5\" >0.5699</td>\n",
              "      <td id=\"T_3137b_row3_col6\" class=\"data row3 col6\" >0.5759</td>\n",
              "    </tr>\n",
              "    <tr>\n",
              "      <th id=\"T_3137b_level0_row4\" class=\"row_heading level0 row4\" >4</th>\n",
              "      <td id=\"T_3137b_row4_col0\" class=\"data row4 col0\" >0.7419</td>\n",
              "      <td id=\"T_3137b_row4_col1\" class=\"data row4 col1\" >0.6902</td>\n",
              "      <td id=\"T_3137b_row4_col2\" class=\"data row4 col2\" >0.5417</td>\n",
              "      <td id=\"T_3137b_row4_col3\" class=\"data row4 col3\" >0.7222</td>\n",
              "      <td id=\"T_3137b_row4_col4\" class=\"data row4 col4\" >0.6190</td>\n",
              "      <td id=\"T_3137b_row4_col5\" class=\"data row4 col5\" >0.4299</td>\n",
              "      <td id=\"T_3137b_row4_col6\" class=\"data row4 col6\" >0.4401</td>\n",
              "    </tr>\n",
              "    <tr>\n",
              "      <th id=\"T_3137b_level0_row5\" class=\"row_heading level0 row5\" >5</th>\n",
              "      <td id=\"T_3137b_row5_col0\" class=\"data row5 col0\" >0.8065</td>\n",
              "      <td id=\"T_3137b_row5_col1\" class=\"data row5 col1\" >0.8059</td>\n",
              "      <td id=\"T_3137b_row5_col2\" class=\"data row5 col2\" >0.7083</td>\n",
              "      <td id=\"T_3137b_row5_col3\" class=\"data row5 col3\" >0.7727</td>\n",
              "      <td id=\"T_3137b_row5_col4\" class=\"data row5 col4\" >0.7391</td>\n",
              "      <td id=\"T_3137b_row5_col5\" class=\"data row5 col5\" >0.5857</td>\n",
              "      <td id=\"T_3137b_row5_col6\" class=\"data row5 col6\" >0.5871</td>\n",
              "    </tr>\n",
              "    <tr>\n",
              "      <th id=\"T_3137b_level0_row6\" class=\"row_heading level0 row6\" >6</th>\n",
              "      <td id=\"T_3137b_row6_col0\" class=\"data row6 col0\" >0.8871</td>\n",
              "      <td id=\"T_3137b_row6_col1\" class=\"data row6 col1\" >0.8783</td>\n",
              "      <td id=\"T_3137b_row6_col2\" class=\"data row6 col2\" >0.7917</td>\n",
              "      <td id=\"T_3137b_row6_col3\" class=\"data row6 col3\" >0.9048</td>\n",
              "      <td id=\"T_3137b_row6_col4\" class=\"data row6 col4\" >0.8444</td>\n",
              "      <td id=\"T_3137b_row6_col5\" class=\"data row6 col5\" >0.7565</td>\n",
              "      <td id=\"T_3137b_row6_col6\" class=\"data row6 col6\" >0.7606</td>\n",
              "    </tr>\n",
              "    <tr>\n",
              "      <th id=\"T_3137b_level0_row7\" class=\"row_heading level0 row7\" >7</th>\n",
              "      <td id=\"T_3137b_row7_col0\" class=\"data row7 col0\" >0.7742</td>\n",
              "      <td id=\"T_3137b_row7_col1\" class=\"data row7 col1\" >0.8410</td>\n",
              "      <td id=\"T_3137b_row7_col2\" class=\"data row7 col2\" >0.7500</td>\n",
              "      <td id=\"T_3137b_row7_col3\" class=\"data row7 col3\" >0.6923</td>\n",
              "      <td id=\"T_3137b_row7_col4\" class=\"data row7 col4\" >0.7200</td>\n",
              "      <td id=\"T_3137b_row7_col5\" class=\"data row7 col5\" >0.5313</td>\n",
              "      <td id=\"T_3137b_row7_col6\" class=\"data row7 col6\" >0.5325</td>\n",
              "    </tr>\n",
              "    <tr>\n",
              "      <th id=\"T_3137b_level0_row8\" class=\"row_heading level0 row8\" >8</th>\n",
              "      <td id=\"T_3137b_row8_col0\" class=\"data row8 col0\" >0.7581</td>\n",
              "      <td id=\"T_3137b_row8_col1\" class=\"data row8 col1\" >0.8531</td>\n",
              "      <td id=\"T_3137b_row8_col2\" class=\"data row8 col2\" >0.5833</td>\n",
              "      <td id=\"T_3137b_row8_col3\" class=\"data row8 col3\" >0.7368</td>\n",
              "      <td id=\"T_3137b_row8_col4\" class=\"data row8 col4\" >0.6512</td>\n",
              "      <td id=\"T_3137b_row8_col5\" class=\"data row8 col5\" >0.4698</td>\n",
              "      <td id=\"T_3137b_row8_col6\" class=\"data row8 col6\" >0.4773</td>\n",
              "    </tr>\n",
              "    <tr>\n",
              "      <th id=\"T_3137b_level0_row9\" class=\"row_heading level0 row9\" >9</th>\n",
              "      <td id=\"T_3137b_row9_col0\" class=\"data row9 col0\" >0.8065</td>\n",
              "      <td id=\"T_3137b_row9_col1\" class=\"data row9 col1\" >0.8673</td>\n",
              "      <td id=\"T_3137b_row9_col2\" class=\"data row9 col2\" >0.7917</td>\n",
              "      <td id=\"T_3137b_row9_col3\" class=\"data row9 col3\" >0.7308</td>\n",
              "      <td id=\"T_3137b_row9_col4\" class=\"data row9 col4\" >0.7600</td>\n",
              "      <td id=\"T_3137b_row9_col5\" class=\"data row9 col5\" >0.5983</td>\n",
              "      <td id=\"T_3137b_row9_col6\" class=\"data row9 col6\" >0.5996</td>\n",
              "    </tr>\n",
              "    <tr>\n",
              "      <th id=\"T_3137b_level0_row10\" class=\"row_heading level0 row10\" >Mean</th>\n",
              "      <td id=\"T_3137b_row10_col0\" class=\"data row10 col0\" >0.8057</td>\n",
              "      <td id=\"T_3137b_row10_col1\" class=\"data row10 col1\" >0.8329</td>\n",
              "      <td id=\"T_3137b_row10_col2\" class=\"data row10 col2\" >0.7069</td>\n",
              "      <td id=\"T_3137b_row10_col3\" class=\"data row10 col3\" >0.7700</td>\n",
              "      <td id=\"T_3137b_row10_col4\" class=\"data row10 col4\" >0.7345</td>\n",
              "      <td id=\"T_3137b_row10_col5\" class=\"data row10 col5\" >0.5822</td>\n",
              "      <td id=\"T_3137b_row10_col6\" class=\"data row10 col6\" >0.5857</td>\n",
              "    </tr>\n",
              "    <tr>\n",
              "      <th id=\"T_3137b_level0_row11\" class=\"row_heading level0 row11\" >Std</th>\n",
              "      <td id=\"T_3137b_row11_col0\" class=\"data row11 col0\" >0.0395</td>\n",
              "      <td id=\"T_3137b_row11_col1\" class=\"data row11 col1\" >0.0639</td>\n",
              "      <td id=\"T_3137b_row11_col2\" class=\"data row11 col2\" >0.0842</td>\n",
              "      <td id=\"T_3137b_row11_col3\" class=\"data row11 col3\" >0.0565</td>\n",
              "      <td id=\"T_3137b_row11_col4\" class=\"data row11 col4\" >0.0614</td>\n",
              "      <td id=\"T_3137b_row11_col5\" class=\"data row11 col5\" >0.0881</td>\n",
              "      <td id=\"T_3137b_row11_col6\" class=\"data row11 col6\" >0.0863</td>\n",
              "    </tr>\n",
              "  </tbody>\n",
              "</table>\n"
            ]
          },
          "metadata": {}
        },
        {
          "output_type": "display_data",
          "data": {
            "text/plain": [
              "Processing:   0%|          | 0/4 [00:00<?, ?it/s]"
            ],
            "application/vnd.jupyter.widget-view+json": {
              "version_major": 2,
              "version_minor": 0,
              "model_id": "7f536c259cd441798a840f3f07386355"
            }
          },
          "metadata": {
            "application/vnd.jupyter.widget-view+json": {
              "colab": {
                "custom_widget_manager": {
                  "url": "https://ssl.gstatic.com/colaboratory-static/widgets/colab-cdn-widget-manager/d2e234f7cc04bf79/manager.min.js"
                }
              }
            }
          }
        },
        {
          "output_type": "display_data",
          "data": {
            "text/plain": [
              "<IPython.core.display.HTML object>"
            ],
            "text/html": []
          },
          "metadata": {}
        },
        {
          "output_type": "stream",
          "name": "stdout",
          "text": [
            "CPU times: user 738 ms, sys: 11.7 ms, total: 750 ms\n",
            "Wall time: 2.88 s\n"
          ]
        }
      ]
    },
    {
      "cell_type": "markdown",
      "source": [
        "Melhorar o modelo:"
      ],
      "metadata": {
        "id": "ILFlavzHgmuy"
      }
    },
    {
      "cell_type": "code",
      "source": [
        "%%time\n",
        "\n",
        "tuned_model = tune_model(model)"
      ],
      "metadata": {
        "colab": {
          "base_uri": "https://localhost:8080/",
          "height": 509,
          "referenced_widgets": [
            "a7c455582f2e4b36b27c8e50647b1641",
            "6fb8d3a2976b479cb6b0fd93122b6275",
            "e3ac304991d84ce785101b2df0ecbe19",
            "90ea5ce96e18482ba893f60d8bf91c97",
            "26aa56c9a38845248719e31d42c4c7db",
            "58c559a841a64e4eb7d55540f8e6dc47",
            "794305067e154e46839d9fdf57a4cfe6",
            "cc383f2cffd942679e80bf5402910baf",
            "86a1726128a14359b0f4f4824b475c5b",
            "0e121efe9b5e40a387c842005b3bf27e",
            "87a7caeffcf54240a1bbf71bf2417290"
          ]
        },
        "id": "LNapW0yRZaDP",
        "outputId": "8b1f6edb-7acf-47c5-98af-550ded34aee6"
      },
      "execution_count": 31,
      "outputs": [
        {
          "output_type": "display_data",
          "data": {
            "text/plain": [
              "<IPython.core.display.HTML object>"
            ],
            "text/html": []
          },
          "metadata": {}
        },
        {
          "output_type": "display_data",
          "data": {
            "text/plain": [
              "<pandas.io.formats.style.Styler at 0x7f93caf11730>"
            ],
            "text/html": [
              "<style type=\"text/css\">\n",
              "#T_23eb9_row10_col0, #T_23eb9_row10_col1, #T_23eb9_row10_col2, #T_23eb9_row10_col3, #T_23eb9_row10_col4, #T_23eb9_row10_col5, #T_23eb9_row10_col6 {\n",
              "  background: yellow;\n",
              "}\n",
              "</style>\n",
              "<table id=\"T_23eb9_\" class=\"dataframe\">\n",
              "  <thead>\n",
              "    <tr>\n",
              "      <th class=\"blank level0\" >&nbsp;</th>\n",
              "      <th class=\"col_heading level0 col0\" >Accuracy</th>\n",
              "      <th class=\"col_heading level0 col1\" >AUC</th>\n",
              "      <th class=\"col_heading level0 col2\" >Recall</th>\n",
              "      <th class=\"col_heading level0 col3\" >Prec.</th>\n",
              "      <th class=\"col_heading level0 col4\" >F1</th>\n",
              "      <th class=\"col_heading level0 col5\" >Kappa</th>\n",
              "      <th class=\"col_heading level0 col6\" >MCC</th>\n",
              "    </tr>\n",
              "    <tr>\n",
              "      <th class=\"index_name level0\" >Fold</th>\n",
              "      <th class=\"blank col0\" >&nbsp;</th>\n",
              "      <th class=\"blank col1\" >&nbsp;</th>\n",
              "      <th class=\"blank col2\" >&nbsp;</th>\n",
              "      <th class=\"blank col3\" >&nbsp;</th>\n",
              "      <th class=\"blank col4\" >&nbsp;</th>\n",
              "      <th class=\"blank col5\" >&nbsp;</th>\n",
              "      <th class=\"blank col6\" >&nbsp;</th>\n",
              "    </tr>\n",
              "  </thead>\n",
              "  <tbody>\n",
              "    <tr>\n",
              "      <th id=\"T_23eb9_level0_row0\" class=\"row_heading level0 row0\" >0</th>\n",
              "      <td id=\"T_23eb9_row0_col0\" class=\"data row0 col0\" >0.8413</td>\n",
              "      <td id=\"T_23eb9_row0_col1\" class=\"data row0 col1\" >0.8691</td>\n",
              "      <td id=\"T_23eb9_row0_col2\" class=\"data row0 col2\" >0.7500</td>\n",
              "      <td id=\"T_23eb9_row0_col3\" class=\"data row0 col3\" >0.8182</td>\n",
              "      <td id=\"T_23eb9_row0_col4\" class=\"data row0 col4\" >0.7826</td>\n",
              "      <td id=\"T_23eb9_row0_col5\" class=\"data row0 col5\" >0.6580</td>\n",
              "      <td id=\"T_23eb9_row0_col6\" class=\"data row0 col6\" >0.6595</td>\n",
              "    </tr>\n",
              "    <tr>\n",
              "      <th id=\"T_23eb9_level0_row1\" class=\"row_heading level0 row1\" >1</th>\n",
              "      <td id=\"T_23eb9_row1_col0\" class=\"data row1 col0\" >0.8254</td>\n",
              "      <td id=\"T_23eb9_row1_col1\" class=\"data row1 col1\" >0.7927</td>\n",
              "      <td id=\"T_23eb9_row1_col2\" class=\"data row1 col2\" >0.7500</td>\n",
              "      <td id=\"T_23eb9_row1_col3\" class=\"data row1 col3\" >0.7826</td>\n",
              "      <td id=\"T_23eb9_row1_col4\" class=\"data row1 col4\" >0.7660</td>\n",
              "      <td id=\"T_23eb9_row1_col5\" class=\"data row1 col5\" >0.6268</td>\n",
              "      <td id=\"T_23eb9_row1_col6\" class=\"data row1 col6\" >0.6272</td>\n",
              "    </tr>\n",
              "    <tr>\n",
              "      <th id=\"T_23eb9_level0_row2\" class=\"row_heading level0 row2\" >2</th>\n",
              "      <td id=\"T_23eb9_row2_col0\" class=\"data row2 col0\" >0.8571</td>\n",
              "      <td id=\"T_23eb9_row2_col1\" class=\"data row2 col1\" >0.9113</td>\n",
              "      <td id=\"T_23eb9_row2_col2\" class=\"data row2 col2\" >0.7083</td>\n",
              "      <td id=\"T_23eb9_row2_col3\" class=\"data row2 col3\" >0.8947</td>\n",
              "      <td id=\"T_23eb9_row2_col4\" class=\"data row2 col4\" >0.7907</td>\n",
              "      <td id=\"T_23eb9_row2_col5\" class=\"data row2 col5\" >0.6845</td>\n",
              "      <td id=\"T_23eb9_row2_col6\" class=\"data row2 col6\" >0.6952</td>\n",
              "    </tr>\n",
              "    <tr>\n",
              "      <th id=\"T_23eb9_level0_row3\" class=\"row_heading level0 row3\" >3</th>\n",
              "      <td id=\"T_23eb9_row3_col0\" class=\"data row3 col0\" >0.8387</td>\n",
              "      <td id=\"T_23eb9_row3_col1\" class=\"data row3 col1\" >0.8573</td>\n",
              "      <td id=\"T_23eb9_row3_col2\" class=\"data row3 col2\" >0.6957</td>\n",
              "      <td id=\"T_23eb9_row3_col3\" class=\"data row3 col3\" >0.8421</td>\n",
              "      <td id=\"T_23eb9_row3_col4\" class=\"data row3 col4\" >0.7619</td>\n",
              "      <td id=\"T_23eb9_row3_col5\" class=\"data row3 col5\" >0.6416</td>\n",
              "      <td id=\"T_23eb9_row3_col6\" class=\"data row3 col6\" >0.6483</td>\n",
              "    </tr>\n",
              "    <tr>\n",
              "      <th id=\"T_23eb9_level0_row4\" class=\"row_heading level0 row4\" >4</th>\n",
              "      <td id=\"T_23eb9_row4_col0\" class=\"data row4 col0\" >0.7258</td>\n",
              "      <td id=\"T_23eb9_row4_col1\" class=\"data row4 col1\" >0.7105</td>\n",
              "      <td id=\"T_23eb9_row4_col2\" class=\"data row4 col2\" >0.5417</td>\n",
              "      <td id=\"T_23eb9_row4_col3\" class=\"data row4 col3\" >0.6842</td>\n",
              "      <td id=\"T_23eb9_row4_col4\" class=\"data row4 col4\" >0.6047</td>\n",
              "      <td id=\"T_23eb9_row4_col5\" class=\"data row4 col5\" >0.3991</td>\n",
              "      <td id=\"T_23eb9_row4_col6\" class=\"data row4 col6\" >0.4055</td>\n",
              "    </tr>\n",
              "    <tr>\n",
              "      <th id=\"T_23eb9_level0_row5\" class=\"row_heading level0 row5\" >5</th>\n",
              "      <td id=\"T_23eb9_row5_col0\" class=\"data row5 col0\" >0.8065</td>\n",
              "      <td id=\"T_23eb9_row5_col1\" class=\"data row5 col1\" >0.8322</td>\n",
              "      <td id=\"T_23eb9_row5_col2\" class=\"data row5 col2\" >0.6667</td>\n",
              "      <td id=\"T_23eb9_row5_col3\" class=\"data row5 col3\" >0.8000</td>\n",
              "      <td id=\"T_23eb9_row5_col4\" class=\"data row5 col4\" >0.7273</td>\n",
              "      <td id=\"T_23eb9_row5_col5\" class=\"data row5 col5\" >0.5792</td>\n",
              "      <td id=\"T_23eb9_row5_col6\" class=\"data row5 col6\" >0.5850</td>\n",
              "    </tr>\n",
              "    <tr>\n",
              "      <th id=\"T_23eb9_level0_row6\" class=\"row_heading level0 row6\" >6</th>\n",
              "      <td id=\"T_23eb9_row6_col0\" class=\"data row6 col0\" >0.8871</td>\n",
              "      <td id=\"T_23eb9_row6_col1\" class=\"data row6 col1\" >0.8925</td>\n",
              "      <td id=\"T_23eb9_row6_col2\" class=\"data row6 col2\" >0.8333</td>\n",
              "      <td id=\"T_23eb9_row6_col3\" class=\"data row6 col3\" >0.8696</td>\n",
              "      <td id=\"T_23eb9_row6_col4\" class=\"data row6 col4\" >0.8511</td>\n",
              "      <td id=\"T_23eb9_row6_col5\" class=\"data row6 col5\" >0.7602</td>\n",
              "      <td id=\"T_23eb9_row6_col6\" class=\"data row6 col6\" >0.7607</td>\n",
              "    </tr>\n",
              "    <tr>\n",
              "      <th id=\"T_23eb9_level0_row7\" class=\"row_heading level0 row7\" >7</th>\n",
              "      <td id=\"T_23eb9_row7_col0\" class=\"data row7 col0\" >0.7742</td>\n",
              "      <td id=\"T_23eb9_row7_col1\" class=\"data row7 col1\" >0.8553</td>\n",
              "      <td id=\"T_23eb9_row7_col2\" class=\"data row7 col2\" >0.7500</td>\n",
              "      <td id=\"T_23eb9_row7_col3\" class=\"data row7 col3\" >0.6923</td>\n",
              "      <td id=\"T_23eb9_row7_col4\" class=\"data row7 col4\" >0.7200</td>\n",
              "      <td id=\"T_23eb9_row7_col5\" class=\"data row7 col5\" >0.5313</td>\n",
              "      <td id=\"T_23eb9_row7_col6\" class=\"data row7 col6\" >0.5325</td>\n",
              "    </tr>\n",
              "    <tr>\n",
              "      <th id=\"T_23eb9_level0_row8\" class=\"row_heading level0 row8\" >8</th>\n",
              "      <td id=\"T_23eb9_row8_col0\" class=\"data row8 col0\" >0.7258</td>\n",
              "      <td id=\"T_23eb9_row8_col1\" class=\"data row8 col1\" >0.8750</td>\n",
              "      <td id=\"T_23eb9_row8_col2\" class=\"data row8 col2\" >0.5417</td>\n",
              "      <td id=\"T_23eb9_row8_col3\" class=\"data row8 col3\" >0.6842</td>\n",
              "      <td id=\"T_23eb9_row8_col4\" class=\"data row8 col4\" >0.6047</td>\n",
              "      <td id=\"T_23eb9_row8_col5\" class=\"data row8 col5\" >0.3991</td>\n",
              "      <td id=\"T_23eb9_row8_col6\" class=\"data row8 col6\" >0.4055</td>\n",
              "    </tr>\n",
              "    <tr>\n",
              "      <th id=\"T_23eb9_level0_row9\" class=\"row_heading level0 row9\" >9</th>\n",
              "      <td id=\"T_23eb9_row9_col0\" class=\"data row9 col0\" >0.8226</td>\n",
              "      <td id=\"T_23eb9_row9_col1\" class=\"data row9 col1\" >0.8947</td>\n",
              "      <td id=\"T_23eb9_row9_col2\" class=\"data row9 col2\" >0.7500</td>\n",
              "      <td id=\"T_23eb9_row9_col3\" class=\"data row9 col3\" >0.7826</td>\n",
              "      <td id=\"T_23eb9_row9_col4\" class=\"data row9 col4\" >0.7660</td>\n",
              "      <td id=\"T_23eb9_row9_col5\" class=\"data row9 col5\" >0.6232</td>\n",
              "      <td id=\"T_23eb9_row9_col6\" class=\"data row9 col6\" >0.6236</td>\n",
              "    </tr>\n",
              "    <tr>\n",
              "      <th id=\"T_23eb9_level0_row10\" class=\"row_heading level0 row10\" >Mean</th>\n",
              "      <td id=\"T_23eb9_row10_col0\" class=\"data row10 col0\" >0.8104</td>\n",
              "      <td id=\"T_23eb9_row10_col1\" class=\"data row10 col1\" >0.8491</td>\n",
              "      <td id=\"T_23eb9_row10_col2\" class=\"data row10 col2\" >0.6987</td>\n",
              "      <td id=\"T_23eb9_row10_col3\" class=\"data row10 col3\" >0.7851</td>\n",
              "      <td id=\"T_23eb9_row10_col4\" class=\"data row10 col4\" >0.7375</td>\n",
              "      <td id=\"T_23eb9_row10_col5\" class=\"data row10 col5\" >0.5903</td>\n",
              "      <td id=\"T_23eb9_row10_col6\" class=\"data row10 col6\" >0.5943</td>\n",
              "    </tr>\n",
              "    <tr>\n",
              "      <th id=\"T_23eb9_level0_row11\" class=\"row_heading level0 row11\" >Std</th>\n",
              "      <td id=\"T_23eb9_row11_col0\" class=\"data row11 col0\" >0.0508</td>\n",
              "      <td id=\"T_23eb9_row11_col1\" class=\"data row11 col1\" >0.0563</td>\n",
              "      <td id=\"T_23eb9_row11_col2\" class=\"data row11 col2\" >0.0889</td>\n",
              "      <td id=\"T_23eb9_row11_col3\" class=\"data row11 col3\" >0.0726</td>\n",
              "      <td id=\"T_23eb9_row11_col4\" class=\"data row11 col4\" >0.0746</td>\n",
              "      <td id=\"T_23eb9_row11_col5\" class=\"data row11 col5\" >0.1114</td>\n",
              "      <td id=\"T_23eb9_row11_col6\" class=\"data row11 col6\" >0.1105</td>\n",
              "    </tr>\n",
              "  </tbody>\n",
              "</table>\n"
            ]
          },
          "metadata": {}
        },
        {
          "output_type": "display_data",
          "data": {
            "text/plain": [
              "Processing:   0%|          | 0/7 [00:00<?, ?it/s]"
            ],
            "application/vnd.jupyter.widget-view+json": {
              "version_major": 2,
              "version_minor": 0,
              "model_id": "a7c455582f2e4b36b27c8e50647b1641"
            }
          },
          "metadata": {
            "application/vnd.jupyter.widget-view+json": {
              "colab": {
                "custom_widget_manager": {
                  "url": "https://ssl.gstatic.com/colaboratory-static/widgets/colab-cdn-widget-manager/d2e234f7cc04bf79/manager.min.js"
                }
              }
            }
          }
        },
        {
          "output_type": "stream",
          "name": "stdout",
          "text": [
            "Fitting 10 folds for each of 10 candidates, totalling 100 fits\n"
          ]
        },
        {
          "output_type": "display_data",
          "data": {
            "text/plain": [
              "<IPython.core.display.HTML object>"
            ],
            "text/html": []
          },
          "metadata": {}
        },
        {
          "output_type": "stream",
          "name": "stdout",
          "text": [
            "CPU times: user 3.54 s, sys: 92.9 ms, total: 3.64 s\n",
            "Wall time: 35.2 s\n"
          ]
        }
      ]
    },
    {
      "cell_type": "code",
      "source": [
        "plot_model(tuned_model, plot = 'auc')"
      ],
      "metadata": {
        "colab": {
          "base_uri": "https://localhost:8080/",
          "height": 294
        },
        "id": "GRjhqD1cZz9H",
        "outputId": "bec0074d-bd67-423b-a25b-2112a9ab4a70"
      },
      "execution_count": 32,
      "outputs": [
        {
          "output_type": "display_data",
          "data": {
            "text/plain": [
              "<IPython.core.display.HTML object>"
            ],
            "text/html": []
          },
          "metadata": {}
        },
        {
          "output_type": "display_data",
          "data": {
            "text/plain": [
              "<Figure size 432x288 with 1 Axes>"
            ],
            "image/png": "[encoded data removed]"
          },
          "metadata": {
            "needs_background": "light"
          }
        }
      ]
    },
    {
      "cell_type": "code",
      "source": [
        "plot_model(tuned_model, plot = 'pr')"
      ],
      "metadata": {
        "colab": {
          "base_uri": "https://localhost:8080/",
          "height": 294
        },
        "id": "sw9kOP3QaXT2",
        "outputId": "759c91bf-0923-45e8-cb40-a1472b443e92"
      },
      "execution_count": 33,
      "outputs": [
        {
          "output_type": "display_data",
          "data": {
            "text/plain": [
              "<IPython.core.display.HTML object>"
            ],
            "text/html": []
          },
          "metadata": {}
        },
        {
          "output_type": "display_data",
          "data": {
            "text/plain": [
              "<Figure size 432x288 with 1 Axes>"
            ],
            "image/png": "[encoded data removed]"
          },
          "metadata": {
            "needs_background": "light"
          }
        }
      ]
    },
    {
      "cell_type": "code",
      "source": [
        "plot_model(tuned_model, plot = 'feature')"
      ],
      "metadata": {
        "colab": {
          "base_uri": "https://localhost:8080/",
          "height": 478
        },
        "id": "XfMR9E0QafbX",
        "outputId": "1ebf9eab-0aaf-4c38-fa4d-f73965646272"
      },
      "execution_count": 34,
      "outputs": [
        {
          "output_type": "display_data",
          "data": {
            "text/plain": [
              "<IPython.core.display.HTML object>"
            ],
            "text/html": []
          },
          "metadata": {}
        },
        {
          "output_type": "display_data",
          "data": {
            "text/plain": [
              "<Figure size 800x500 with 1 Axes>"
            ],
            "image/png": "[encoded data removed]"
          },
          "metadata": {
            "needs_background": "light"
          }
        }
      ]
    },
    {
      "cell_type": "code",
      "source": [
        "plot_model(tuned_model, plot = 'confusion_matrix')"
      ],
      "metadata": {
        "colab": {
          "base_uri": "https://localhost:8080/",
          "height": 297
        },
        "id": "2uA8o4DbahwK",
        "outputId": "7f31c72c-e985-49fe-a4f1-e5555787224a"
      },
      "execution_count": 35,
      "outputs": [
        {
          "output_type": "display_data",
          "data": {
            "text/plain": [
              "<IPython.core.display.HTML object>"
            ],
            "text/html": []
          },
          "metadata": {}
        },
        {
          "output_type": "display_data",
          "data": {
            "text/plain": [
              "<Figure size 432x288 with 1 Axes>"
            ],
            "image/png": "[encoded data removed]"
          },
          "metadata": {
            "needs_background": "light"
          }
        }
      ]
    },
    {
      "cell_type": "markdown",
      "source": [
        "Nos gráficos e na matrix de confusão concluímos que o modelo está relativamente conseguindo prever bem a variável resposta, AUC e precisão elevadas, temos que a variável que mais influenciou o modelo foi *Sex*, o que nos faz concluir que as mulheres realmente sobreviveram em maior porcentagem que os homens."
      ],
      "metadata": {
        "id": "aXA1yAwfhQOj"
      }
    },
    {
      "cell_type": "code",
      "source": [
        "final_model = finalize_model(tuned_model)"
      ],
      "metadata": {
        "id": "GkxDPe6uapAw"
      },
      "execution_count": 36,
      "outputs": []
    },
    {
      "cell_type": "code",
      "source": [
        "print(final_model)"
      ],
      "metadata": {
        "colab": {
          "base_uri": "https://localhost:8080/"
        },
        "id": "ZkmAKauha_dX",
        "outputId": "5e82b51a-9291-4da7-da71-fd7fa4a6c952"
      },
      "execution_count": 37,
      "outputs": [
        {
          "output_type": "stream",
          "name": "stdout",
          "text": [
            "Pipeline(memory=Memory(location=/tmp/joblib),\n",
            "         steps=[('numerical_imputer',\n",
            "                 TransformerWrapper(exclude=None,\n",
            "                                    include=['Pclass', 'Age', 'SibSp', 'Parch',\n",
            "                                             'Fare'],\n",
            "                                    transformer=SimpleImputer(add_indicator=False,\n",
            "                                                              copy=True,\n",
            "                                                              fill_value=True,\n",
            "                                                              missing_values=nan,\n",
            "                                                              strategy='constant',\n",
            "                                                              verbose=0))),\n",
            "                ('categorical_imputer',\n",
            "                 TransformerWrapper(exclude=None, include=['Sex', 'Em...\n",
            "                                            criterion='friedman_mse', init=None,\n",
            "                                            learning_rate=0.0001,\n",
            "                                            loss='deviance', max_depth=9,\n",
            "                                            max_features='sqrt',\n",
            "                                            max_leaf_nodes=None,\n",
            "                                            min_impurity_decrease=0.0005,\n",
            "                                            min_samples_leaf=3,\n",
            "                                            min_samples_split=7,\n",
            "                                            min_weight_fraction_leaf=0.0,\n",
            "                                            n_estimators=180,\n",
            "                                            n_iter_no_change=None,\n",
            "                                            random_state=123, subsample=0.75,\n",
            "                                            tol=0.0001, validation_fraction=0.1,\n",
            "                                            verbose=0, warm_start=False))],\n",
            "         verbose=False)\n"
          ]
        }
      ]
    },
    {
      "cell_type": "markdown",
      "source": [
        "Teste com dados não utilizados no modelo:"
      ],
      "metadata": {
        "id": "YQmDzgkNik8J"
      }
    },
    {
      "cell_type": "code",
      "source": [
        "unseen_predictions = predict_model(final_model, data=data_unseen)\n",
        "unseen_predictions.head()"
      ],
      "metadata": {
        "colab": {
          "base_uri": "https://localhost:8080/",
          "height": 270
        },
        "id": "axcOCe-pbI-I",
        "outputId": "08659207-cc40-465f-96fe-d3e876f5c2d3"
      },
      "execution_count": 38,
      "outputs": [
        {
          "output_type": "display_data",
          "data": {
            "text/plain": [
              "<pandas.io.formats.style.Styler at 0x7f93bfac6dc0>"
            ],
            "text/html": [
              "<style type=\"text/css\">\n",
              "</style>\n",
              "<table id=\"T_d9043_\" class=\"dataframe\">\n",
              "  <thead>\n",
              "    <tr>\n",
              "      <th class=\"blank level0\" >&nbsp;</th>\n",
              "      <th class=\"col_heading level0 col0\" >Model</th>\n",
              "      <th class=\"col_heading level0 col1\" >Accuracy</th>\n",
              "      <th class=\"col_heading level0 col2\" >AUC</th>\n",
              "      <th class=\"col_heading level0 col3\" >Recall</th>\n",
              "      <th class=\"col_heading level0 col4\" >Prec.</th>\n",
              "      <th class=\"col_heading level0 col5\" >F1</th>\n",
              "      <th class=\"col_heading level0 col6\" >Kappa</th>\n",
              "      <th class=\"col_heading level0 col7\" >MCC</th>\n",
              "    </tr>\n",
              "  </thead>\n",
              "  <tbody>\n",
              "    <tr>\n",
              "      <th id=\"T_d9043_level0_row0\" class=\"row_heading level0 row0\" >0</th>\n",
              "      <td id=\"T_d9043_row0_col0\" class=\"data row0 col0\" >Gradient Boosting Classifier</td>\n",
              "      <td id=\"T_d9043_row0_col1\" class=\"data row0 col1\" >0.8612</td>\n",
              "      <td id=\"T_d9043_row0_col2\" class=\"data row0 col2\" >0.9514</td>\n",
              "      <td id=\"T_d9043_row0_col3\" class=\"data row0 col3\" >0.7829</td>\n",
              "      <td id=\"T_d9043_row0_col4\" class=\"data row0 col4\" >0.8264</td>\n",
              "      <td id=\"T_d9043_row0_col5\" class=\"data row0 col5\" >0.8041</td>\n",
              "      <td id=\"T_d9043_row0_col6\" class=\"data row0 col6\" >0.6968</td>\n",
              "      <td id=\"T_d9043_row0_col7\" class=\"data row0 col7\" >0.6974</td>\n",
              "    </tr>\n",
              "  </tbody>\n",
              "</table>\n"
            ]
          },
          "metadata": {}
        },
        {
          "output_type": "execute_result",
          "data": {
            "text/plain": [
              "   Pclass  Sex   Age  SibSp  Parch     Fare  Embarked_S  Embarked_Q  \\\n",
              "0     3.0  1.0  34.5    0.0    0.0   7.8292         0.0         1.0   \n",
              "1     3.0  0.0  47.0    1.0    0.0   7.0000         1.0         0.0   \n",
              "2     2.0  1.0  62.0    0.0    0.0   9.6875         0.0         1.0   \n",
              "3     3.0  1.0  27.0    0.0    0.0   8.6625         1.0         0.0   \n",
              "4     3.0  0.0  22.0    1.0    1.0  12.2875         1.0         0.0   \n",
              "\n",
              "   Embarked_C  Survived  prediction_label  prediction_score  \n",
              "0         0.0         0                 0            0.5073  \n",
              "1         0.0         1                 0            0.5024  \n",
              "2         0.0         0                 0            0.5054  \n",
              "3         0.0         0                 0            0.5035  \n",
              "4         0.0         1                 1            0.5021  "
            ],
            "text/html": [
              "\n",
              "  <div id=\"df-e00a4a79-aba4-4d65-9259-7573518a2ed9\">\n",
              "    <div class=\"colab-df-container\">\n",
              "      <div>\n",
              "<style scoped>\n",
              "    .dataframe tbody tr th:only-of-type {\n",
              "        vertical-align: middle;\n",
              "    }\n",
              "\n",
              "    .dataframe tbody tr th {\n",
              "        vertical-align: top;\n",
              "    }\n",
              "\n",
              "    .dataframe thead th {\n",
              "        text-align: right;\n",
              "    }\n",
              "</style>\n",
              "<table border=\"1\" class=\"dataframe\">\n",
              "  <thead>\n",
              "    <tr style=\"text-align: right;\">\n",
              "      <th></th>\n",
              "      <th>Pclass</th>\n",
              "      <th>Sex</th>\n",
              "      <th>Age</th>\n",
              "      <th>SibSp</th>\n",
              "      <th>Parch</th>\n",
              "      <th>Fare</th>\n",
              "      <th>Embarked_S</th>\n",
              "      <th>Embarked_Q</th>\n",
              "      <th>Embarked_C</th>\n",
              "      <th>Survived</th>\n",
              "      <th>prediction_label</th>\n",
              "      <th>prediction_score</th>\n",
              "    </tr>\n",
              "  </thead>\n",
              "  <tbody>\n",
              "    <tr>\n",
              "      <th>0</th>\n",
              "      <td>3.0</td>\n",
              "      <td>1.0</td>\n",
              "      <td>34.5</td>\n",
              "      <td>0.0</td>\n",
              "      <td>0.0</td>\n",
              "      <td>7.8292</td>\n",
              "      <td>0.0</td>\n",
              "      <td>1.0</td>\n",
              "      <td>0.0</td>\n",
              "      <td>0</td>\n",
              "      <td>0</td>\n",
              "      <td>0.5073</td>\n",
              "    </tr>\n",
              "    <tr>\n",
              "      <th>1</th>\n",
              "      <td>3.0</td>\n",
              "      <td>0.0</td>\n",
              "      <td>47.0</td>\n",
              "      <td>1.0</td>\n",
              "      <td>0.0</td>\n",
              "      <td>7.0000</td>\n",
              "      <td>1.0</td>\n",
              "      <td>0.0</td>\n",
              "      <td>0.0</td>\n",
              "      <td>1</td>\n",
              "      <td>0</td>\n",
              "      <td>0.5024</td>\n",
              "    </tr>\n",
              "    <tr>\n",
              "      <th>2</th>\n",
              "      <td>2.0</td>\n",
              "      <td>1.0</td>\n",
              "      <td>62.0</td>\n",
              "      <td>0.0</td>\n",
              "      <td>0.0</td>\n",
              "      <td>9.6875</td>\n",
              "      <td>0.0</td>\n",
              "      <td>1.0</td>\n",
              "      <td>0.0</td>\n",
              "      <td>0</td>\n",
              "      <td>0</td>\n",
              "      <td>0.5054</td>\n",
              "    </tr>\n",
              "    <tr>\n",
              "      <th>3</th>\n",
              "      <td>3.0</td>\n",
              "      <td>1.0</td>\n",
              "      <td>27.0</td>\n",
              "      <td>0.0</td>\n",
              "      <td>0.0</td>\n",
              "      <td>8.6625</td>\n",
              "      <td>1.0</td>\n",
              "      <td>0.0</td>\n",
              "      <td>0.0</td>\n",
              "      <td>0</td>\n",
              "      <td>0</td>\n",
              "      <td>0.5035</td>\n",
              "    </tr>\n",
              "    <tr>\n",
              "      <th>4</th>\n",
              "      <td>3.0</td>\n",
              "      <td>0.0</td>\n",
              "      <td>22.0</td>\n",
              "      <td>1.0</td>\n",
              "      <td>1.0</td>\n",
              "      <td>12.2875</td>\n",
              "      <td>1.0</td>\n",
              "      <td>0.0</td>\n",
              "      <td>0.0</td>\n",
              "      <td>1</td>\n",
              "      <td>1</td>\n",
              "      <td>0.5021</td>\n",
              "    </tr>\n",
              "  </tbody>\n",
              "</table>\n",
              "</div>\n",
              "      <button class=\"colab-df-convert\" onclick=\"convertToInteractive('df-e00a4a79-aba4-4d65-9259-7573518a2ed9')\"\n",
              "              title=\"Convert this dataframe to an interactive table.\"\n",
              "              style=\"display:none;\">\n",
              "        \n",
              "  <svg xmlns=\"http://www.w3.org/2000/svg\" height=\"24px\"viewBox=\"0 0 24 24\"\n",
              "       width=\"24px\">\n",
              "    <path d=\"M0 0h24v24H0V0z\" fill=\"none\"/>\n",
              "    <path d=\"M18.56 5.44l.94 2.06.94-2.06 2.06-.94-2.06-.94-.94-2.06-.94 2.06-2.06.94zm-11 1L8.5 8.5l.94-2.06 2.06-.94-2.06-.94L8.5 2.5l-.94 2.06-2.06.94zm10 10l.94 2.06.94-2.06 2.06-.94-2.06-.94-.94-2.06-.94 2.06-2.06.94z\"/><path d=\"M17.41 7.96l-1.37-1.37c-.4-.4-.92-.59-1.43-.59-.52 0-1.04.2-1.43.59L10.3 9.45l-7.72 7.72c-.78.78-.78 2.05 0 2.83L4 21.41c.39.39.9.59 1.41.59.51 0 1.02-.2 1.41-.59l7.78-7.78 2.81-2.81c.8-.78.8-2.07 0-2.86zM5.41 20L4 18.59l7.72-7.72 1.47 1.35L5.41 20z\"/>\n",
              "  </svg>\n",
              "      </button>\n",
              "      \n",
              "  <style>\n",
              "    .colab-df-container {\n",
              "      display:flex;\n",
              "      flex-wrap:wrap;\n",
              "      gap: 12px;\n",
              "    }\n",
              "\n",
              "    .colab-df-convert {\n",
              "      background-color: #E8F0FE;\n",
              "      border: none;\n",
              "      border-radius: 50%;\n",
              "      cursor: pointer;\n",
              "      display: none;\n",
              "      fill: #1967D2;\n",
              "      height: 32px;\n",
              "      padding: 0 0 0 0;\n",
              "      width: 32px;\n",
              "    }\n",
              "\n",
              "    .colab-df-convert:hover {\n",
              "      background-color: #E2EBFA;\n",
              "      box-shadow: 0px 1px 2px rgba(60, 64, 67, 0.3), 0px 1px 3px 1px rgba(60, 64, 67, 0.15);\n",
              "      fill: #174EA6;\n",
              "    }\n",
              "\n",
              "    [theme=dark] .colab-df-convert {\n",
              "      background-color: #3B4455;\n",
              "      fill: #D2E3FC;\n",
              "    }\n",
              "\n",
              "    [theme=dark] .colab-df-convert:hover {\n",
              "      background-color: #434B5C;\n",
              "      box-shadow: 0px 1px 3px 1px rgba(0, 0, 0, 0.15);\n",
              "      filter: drop-shadow(0px 1px 2px rgba(0, 0, 0, 0.3));\n",
              "      fill: #FFFFFF;\n",
              "    }\n",
              "  </style>\n",
              "\n",
              "      <script>\n",
              "        const buttonEl =\n",
              "          document.querySelector('#df-e00a4a79-aba4-4d65-9259-7573518a2ed9 button.colab-df-convert');\n",
              "        buttonEl.style.display =\n",
              "          google.colab.kernel.accessAllowed ? 'block' : 'none';\n",
              "\n",
              "        async function convertToInteractive(key) {\n",
              "          const element = document.querySelector('#df-e00a4a79-aba4-4d65-9259-7573518a2ed9');\n",
              "          const dataTable =\n",
              "            await google.colab.kernel.invokeFunction('convertToInteractive',\n",
              "                                                     [key], {});\n",
              "          if (!dataTable) return;\n",
              "\n",
              "          const docLinkHtml = 'Like what you see? Visit the ' +\n",
              "            '<a target=\"_blank\" href=https://colab.research.google.com/notebooks/data_table.ipynb>data table notebook</a>'\n",
              "            + ' to learn more about interactive tables.';\n",
              "          element.innerHTML = '';\n",
              "          dataTable['output_type'] = 'display_data';\n",
              "          await google.colab.output.renderOutput(dataTable, element);\n",
              "          const docLink = document.createElement('div');\n",
              "          docLink.innerHTML = docLinkHtml;\n",
              "          element.appendChild(docLink);\n",
              "        }\n",
              "      </script>\n",
              "    </div>\n",
              "  </div>\n",
              "  "
            ]
          },
          "metadata": {},
          "execution_count": 38
        }
      ]
    },
    {
      "cell_type": "markdown",
      "source": [
        "E aqui concluimos que até na base de testes fornecida conseguimos umas acurácia de 0.8612 e um AUC de 0.9514, números grandes em uma modelagem de dados."
      ],
      "metadata": {
        "id": "9hLIUSFYiUn9"
      }
    }
  ]
}