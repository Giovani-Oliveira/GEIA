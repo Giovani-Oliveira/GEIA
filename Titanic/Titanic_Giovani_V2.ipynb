{
  "nbformat": 4,
  "nbformat_minor": 0,
  "metadata": {
    "colab": {
      "provenance": []
    },
    "kernelspec": {
      "name": "python3",
      "display_name": "Python 3"
    },
    "language_info": {
      "name": "python"
    },
    "widgets": {
      "application/vnd.jupyter.widget-state+json": {
        "d6e9b766f6514e58a8c5fd5912347734": {
          "model_module": "@jupyter-widgets/controls",
          "model_name": "HBoxModel",
          "model_module_version": "1.5.0",
          "state": {
            "_dom_classes": [],
            "_model_module": "@jupyter-widgets/controls",
            "_model_module_version": "1.5.0",
            "_model_name": "HBoxModel",
            "_view_count": null,
            "_view_module": "@jupyter-widgets/controls",
            "_view_module_version": "1.5.0",
            "_view_name": "HBoxView",
            "box_style": "",
            "children": [
              "IPY_MODEL_56cb6c8bdebd4704be81879db771ecd4",
              "IPY_MODEL_ce8f85335c9145c7ae8d7526e1766ddd",
              "IPY_MODEL_3df57604670c4f35b3f07e1e69f70bf7"
            ],
            "layout": "IPY_MODEL_bbca9bd8dd994736b034b4a0903a0fae"
          }
        },
        "56cb6c8bdebd4704be81879db771ecd4": {
          "model_module": "@jupyter-widgets/controls",
          "model_name": "HTMLModel",
          "model_module_version": "1.5.0",
          "state": {
            "_dom_classes": [],
            "_model_module": "@jupyter-widgets/controls",
            "_model_module_version": "1.5.0",
            "_model_name": "HTMLModel",
            "_view_count": null,
            "_view_module": "@jupyter-widgets/controls",
            "_view_module_version": "1.5.0",
            "_view_name": "HTMLView",
            "description": "",
            "description_tooltip": null,
            "layout": "IPY_MODEL_c2736cc28f024b718a5ba70b4e38eb73",
            "placeholder": "​",
            "style": "IPY_MODEL_9677fe646798420596b57e0973c9d154",
            "value": "Processing: 100%"
          }
        },
        "ce8f85335c9145c7ae8d7526e1766ddd": {
          "model_module": "@jupyter-widgets/controls",
          "model_name": "FloatProgressModel",
          "model_module_version": "1.5.0",
          "state": {
            "_dom_classes": [],
            "_model_module": "@jupyter-widgets/controls",
            "_model_module_version": "1.5.0",
            "_model_name": "FloatProgressModel",
            "_view_count": null,
            "_view_module": "@jupyter-widgets/controls",
            "_view_module_version": "1.5.0",
            "_view_name": "ProgressView",
            "bar_style": "",
            "description": "",
            "description_tooltip": null,
            "layout": "IPY_MODEL_b974e60b57cc4c368f062a2851bd687b",
            "max": 61,
            "min": 0,
            "orientation": "horizontal",
            "style": "IPY_MODEL_55f6b53268874442a4c87b114a489f93",
            "value": 61
          }
        },
        "3df57604670c4f35b3f07e1e69f70bf7": {
          "model_module": "@jupyter-widgets/controls",
          "model_name": "HTMLModel",
          "model_module_version": "1.5.0",
          "state": {
            "_dom_classes": [],
            "_model_module": "@jupyter-widgets/controls",
            "_model_module_version": "1.5.0",
            "_model_name": "HTMLModel",
            "_view_count": null,
            "_view_module": "@jupyter-widgets/controls",
            "_view_module_version": "1.5.0",
            "_view_name": "HTMLView",
            "description": "",
            "description_tooltip": null,
            "layout": "IPY_MODEL_1a0bf63c95fa498f936e3a8f50d8871f",
            "placeholder": "​",
            "style": "IPY_MODEL_910fdabd8b494a73a27b1360957a2ff9",
            "value": " 61/61 [00:51&lt;00:00,  2.25it/s]"
          }
        },
        "bbca9bd8dd994736b034b4a0903a0fae": {
          "model_module": "@jupyter-widgets/base",
          "model_name": "LayoutModel",
          "model_module_version": "1.2.0",
          "state": {
            "_model_module": "@jupyter-widgets/base",
            "_model_module_version": "1.2.0",
            "_model_name": "LayoutModel",
            "_view_count": null,
            "_view_module": "@jupyter-widgets/base",
            "_view_module_version": "1.2.0",
            "_view_name": "LayoutView",
            "align_content": null,
            "align_items": null,
            "align_self": null,
            "border": null,
            "bottom": null,
            "display": null,
            "flex": null,
            "flex_flow": null,
            "grid_area": null,
            "grid_auto_columns": null,
            "grid_auto_flow": null,
            "grid_auto_rows": null,
            "grid_column": null,
            "grid_gap": null,
            "grid_row": null,
            "grid_template_areas": null,
            "grid_template_columns": null,
            "grid_template_rows": null,
            "height": null,
            "justify_content": null,
            "justify_items": null,
            "left": null,
            "margin": null,
            "max_height": null,
            "max_width": null,
            "min_height": null,
            "min_width": null,
            "object_fit": null,
            "object_position": null,
            "order": null,
            "overflow": null,
            "overflow_x": null,
            "overflow_y": null,
            "padding": null,
            "right": null,
            "top": null,
            "visibility": "hidden",
            "width": null
          }
        },
        "c2736cc28f024b718a5ba70b4e38eb73": {
          "model_module": "@jupyter-widgets/base",
          "model_name": "LayoutModel",
          "model_module_version": "1.2.0",
          "state": {
            "_model_module": "@jupyter-widgets/base",
            "_model_module_version": "1.2.0",
            "_model_name": "LayoutModel",
            "_view_count": null,
            "_view_module": "@jupyter-widgets/base",
            "_view_module_version": "1.2.0",
            "_view_name": "LayoutView",
            "align_content": null,
            "align_items": null,
            "align_self": null,
            "border": null,
            "bottom": null,
            "display": null,
            "flex": null,
            "flex_flow": null,
            "grid_area": null,
            "grid_auto_columns": null,
            "grid_auto_flow": null,
            "grid_auto_rows": null,
            "grid_column": null,
            "grid_gap": null,
            "grid_row": null,
            "grid_template_areas": null,
            "grid_template_columns": null,
            "grid_template_rows": null,
            "height": null,
            "justify_content": null,
            "justify_items": null,
            "left": null,
            "margin": null,
            "max_height": null,
            "max_width": null,
            "min_height": null,
            "min_width": null,
            "object_fit": null,
            "object_position": null,
            "order": null,
            "overflow": null,
            "overflow_x": null,
            "overflow_y": null,
            "padding": null,
            "right": null,
            "top": null,
            "visibility": null,
            "width": null
          }
        },
        "9677fe646798420596b57e0973c9d154": {
          "model_module": "@jupyter-widgets/controls",
          "model_name": "DescriptionStyleModel",
          "model_module_version": "1.5.0",
          "state": {
            "_model_module": "@jupyter-widgets/controls",
            "_model_module_version": "1.5.0",
            "_model_name": "DescriptionStyleModel",
            "_view_count": null,
            "_view_module": "@jupyter-widgets/base",
            "_view_module_version": "1.2.0",
            "_view_name": "StyleView",
            "description_width": ""
          }
        },
        "b974e60b57cc4c368f062a2851bd687b": {
          "model_module": "@jupyter-widgets/base",
          "model_name": "LayoutModel",
          "model_module_version": "1.2.0",
          "state": {
            "_model_module": "@jupyter-widgets/base",
            "_model_module_version": "1.2.0",
            "_model_name": "LayoutModel",
            "_view_count": null,
            "_view_module": "@jupyter-widgets/base",
            "_view_module_version": "1.2.0",
            "_view_name": "LayoutView",
            "align_content": null,
            "align_items": null,
            "align_self": null,
            "border": null,
            "bottom": null,
            "display": null,
            "flex": null,
            "flex_flow": null,
            "grid_area": null,
            "grid_auto_columns": null,
            "grid_auto_flow": null,
            "grid_auto_rows": null,
            "grid_column": null,
            "grid_gap": null,
            "grid_row": null,
            "grid_template_areas": null,
            "grid_template_columns": null,
            "grid_template_rows": null,
            "height": null,
            "justify_content": null,
            "justify_items": null,
            "left": null,
            "margin": null,
            "max_height": null,
            "max_width": null,
            "min_height": null,
            "min_width": null,
            "object_fit": null,
            "object_position": null,
            "order": null,
            "overflow": null,
            "overflow_x": null,
            "overflow_y": null,
            "padding": null,
            "right": null,
            "top": null,
            "visibility": null,
            "width": null
          }
        },
        "55f6b53268874442a4c87b114a489f93": {
          "model_module": "@jupyter-widgets/controls",
          "model_name": "ProgressStyleModel",
          "model_module_version": "1.5.0",
          "state": {
            "_model_module": "@jupyter-widgets/controls",
            "_model_module_version": "1.5.0",
            "_model_name": "ProgressStyleModel",
            "_view_count": null,
            "_view_module": "@jupyter-widgets/base",
            "_view_module_version": "1.2.0",
            "_view_name": "StyleView",
            "bar_color": null,
            "description_width": ""
          }
        },
        "1a0bf63c95fa498f936e3a8f50d8871f": {
          "model_module": "@jupyter-widgets/base",
          "model_name": "LayoutModel",
          "model_module_version": "1.2.0",
          "state": {
            "_model_module": "@jupyter-widgets/base",
            "_model_module_version": "1.2.0",
            "_model_name": "LayoutModel",
            "_view_count": null,
            "_view_module": "@jupyter-widgets/base",
            "_view_module_version": "1.2.0",
            "_view_name": "LayoutView",
            "align_content": null,
            "align_items": null,
            "align_self": null,
            "border": null,
            "bottom": null,
            "display": null,
            "flex": null,
            "flex_flow": null,
            "grid_area": null,
            "grid_auto_columns": null,
            "grid_auto_flow": null,
            "grid_auto_rows": null,
            "grid_column": null,
            "grid_gap": null,
            "grid_row": null,
            "grid_template_areas": null,
            "grid_template_columns": null,
            "grid_template_rows": null,
            "height": null,
            "justify_content": null,
            "justify_items": null,
            "left": null,
            "margin": null,
            "max_height": null,
            "max_width": null,
            "min_height": null,
            "min_width": null,
            "object_fit": null,
            "object_position": null,
            "order": null,
            "overflow": null,
            "overflow_x": null,
            "overflow_y": null,
            "padding": null,
            "right": null,
            "top": null,
            "visibility": null,
            "width": null
          }
        },
        "910fdabd8b494a73a27b1360957a2ff9": {
          "model_module": "@jupyter-widgets/controls",
          "model_name": "DescriptionStyleModel",
          "model_module_version": "1.5.0",
          "state": {
            "_model_module": "@jupyter-widgets/controls",
            "_model_module_version": "1.5.0",
            "_model_name": "DescriptionStyleModel",
            "_view_count": null,
            "_view_module": "@jupyter-widgets/base",
            "_view_module_version": "1.2.0",
            "_view_name": "StyleView",
            "description_width": ""
          }
        },
        "12ef83c76f5f44aea8595898442c5878": {
          "model_module": "@jupyter-widgets/controls",
          "model_name": "HBoxModel",
          "model_module_version": "1.5.0",
          "state": {
            "_dom_classes": [],
            "_model_module": "@jupyter-widgets/controls",
            "_model_module_version": "1.5.0",
            "_model_name": "HBoxModel",
            "_view_count": null,
            "_view_module": "@jupyter-widgets/controls",
            "_view_module_version": "1.5.0",
            "_view_name": "HBoxView",
            "box_style": "",
            "children": [
              "IPY_MODEL_f2c61ba075f4406fb1560942d4b20c84",
              "IPY_MODEL_32200ffcea434541b82e56ad7b60ebeb",
              "IPY_MODEL_19c4a89519044a7ab5d4d3ee7ab4a042"
            ],
            "layout": "IPY_MODEL_6b0bd40c530e41e79fa7a46ed9f6de88"
          }
        },
        "f2c61ba075f4406fb1560942d4b20c84": {
          "model_module": "@jupyter-widgets/controls",
          "model_name": "HTMLModel",
          "model_module_version": "1.5.0",
          "state": {
            "_dom_classes": [],
            "_model_module": "@jupyter-widgets/controls",
            "_model_module_version": "1.5.0",
            "_model_name": "HTMLModel",
            "_view_count": null,
            "_view_module": "@jupyter-widgets/controls",
            "_view_module_version": "1.5.0",
            "_view_name": "HTMLView",
            "description": "",
            "description_tooltip": null,
            "layout": "IPY_MODEL_0e1b1ab144724152bdefb60b3d797fe8",
            "placeholder": "​",
            "style": "IPY_MODEL_b621ae2175014b94a4af2d0db5fd3b13",
            "value": "Processing: 100%"
          }
        },
        "32200ffcea434541b82e56ad7b60ebeb": {
          "model_module": "@jupyter-widgets/controls",
          "model_name": "FloatProgressModel",
          "model_module_version": "1.5.0",
          "state": {
            "_dom_classes": [],
            "_model_module": "@jupyter-widgets/controls",
            "_model_module_version": "1.5.0",
            "_model_name": "FloatProgressModel",
            "_view_count": null,
            "_view_module": "@jupyter-widgets/controls",
            "_view_module_version": "1.5.0",
            "_view_name": "ProgressView",
            "bar_style": "",
            "description": "",
            "description_tooltip": null,
            "layout": "IPY_MODEL_1996973b2f3248839f7c163c47b00125",
            "max": 4,
            "min": 0,
            "orientation": "horizontal",
            "style": "IPY_MODEL_40e351087c1d46339a63e77ab84fa37b",
            "value": 4
          }
        },
        "19c4a89519044a7ab5d4d3ee7ab4a042": {
          "model_module": "@jupyter-widgets/controls",
          "model_name": "HTMLModel",
          "model_module_version": "1.5.0",
          "state": {
            "_dom_classes": [],
            "_model_module": "@jupyter-widgets/controls",
            "_model_module_version": "1.5.0",
            "_model_name": "HTMLModel",
            "_view_count": null,
            "_view_module": "@jupyter-widgets/controls",
            "_view_module_version": "1.5.0",
            "_view_name": "HTMLView",
            "description": "",
            "description_tooltip": null,
            "layout": "IPY_MODEL_8b49f4fff34540bfa30735a7e2f0f7c9",
            "placeholder": "​",
            "style": "IPY_MODEL_31683f86094c4662abccc4ef8190aea9",
            "value": " 4/4 [00:03&lt;00:00,  1.09it/s]"
          }
        },
        "6b0bd40c530e41e79fa7a46ed9f6de88": {
          "model_module": "@jupyter-widgets/base",
          "model_name": "LayoutModel",
          "model_module_version": "1.2.0",
          "state": {
            "_model_module": "@jupyter-widgets/base",
            "_model_module_version": "1.2.0",
            "_model_name": "LayoutModel",
            "_view_count": null,
            "_view_module": "@jupyter-widgets/base",
            "_view_module_version": "1.2.0",
            "_view_name": "LayoutView",
            "align_content": null,
            "align_items": null,
            "align_self": null,
            "border": null,
            "bottom": null,
            "display": null,
            "flex": null,
            "flex_flow": null,
            "grid_area": null,
            "grid_auto_columns": null,
            "grid_auto_flow": null,
            "grid_auto_rows": null,
            "grid_column": null,
            "grid_gap": null,
            "grid_row": null,
            "grid_template_areas": null,
            "grid_template_columns": null,
            "grid_template_rows": null,
            "height": null,
            "justify_content": null,
            "justify_items": null,
            "left": null,
            "margin": null,
            "max_height": null,
            "max_width": null,
            "min_height": null,
            "min_width": null,
            "object_fit": null,
            "object_position": null,
            "order": null,
            "overflow": null,
            "overflow_x": null,
            "overflow_y": null,
            "padding": null,
            "right": null,
            "top": null,
            "visibility": "hidden",
            "width": null
          }
        },
        "0e1b1ab144724152bdefb60b3d797fe8": {
          "model_module": "@jupyter-widgets/base",
          "model_name": "LayoutModel",
          "model_module_version": "1.2.0",
          "state": {
            "_model_module": "@jupyter-widgets/base",
            "_model_module_version": "1.2.0",
            "_model_name": "LayoutModel",
            "_view_count": null,
            "_view_module": "@jupyter-widgets/base",
            "_view_module_version": "1.2.0",
            "_view_name": "LayoutView",
            "align_content": null,
            "align_items": null,
            "align_self": null,
            "border": null,
            "bottom": null,
            "display": null,
            "flex": null,
            "flex_flow": null,
            "grid_area": null,
            "grid_auto_columns": null,
            "grid_auto_flow": null,
            "grid_auto_rows": null,
            "grid_column": null,
            "grid_gap": null,
            "grid_row": null,
            "grid_template_areas": null,
            "grid_template_columns": null,
            "grid_template_rows": null,
            "height": null,
            "justify_content": null,
            "justify_items": null,
            "left": null,
            "margin": null,
            "max_height": null,
            "max_width": null,
            "min_height": null,
            "min_width": null,
            "object_fit": null,
            "object_position": null,
            "order": null,
            "overflow": null,
            "overflow_x": null,
            "overflow_y": null,
            "padding": null,
            "right": null,
            "top": null,
            "visibility": null,
            "width": null
          }
        },
        "b621ae2175014b94a4af2d0db5fd3b13": {
          "model_module": "@jupyter-widgets/controls",
          "model_name": "DescriptionStyleModel",
          "model_module_version": "1.5.0",
          "state": {
            "_model_module": "@jupyter-widgets/controls",
            "_model_module_version": "1.5.0",
            "_model_name": "DescriptionStyleModel",
            "_view_count": null,
            "_view_module": "@jupyter-widgets/base",
            "_view_module_version": "1.2.0",
            "_view_name": "StyleView",
            "description_width": ""
          }
        },
        "1996973b2f3248839f7c163c47b00125": {
          "model_module": "@jupyter-widgets/base",
          "model_name": "LayoutModel",
          "model_module_version": "1.2.0",
          "state": {
            "_model_module": "@jupyter-widgets/base",
            "_model_module_version": "1.2.0",
            "_model_name": "LayoutModel",
            "_view_count": null,
            "_view_module": "@jupyter-widgets/base",
            "_view_module_version": "1.2.0",
            "_view_name": "LayoutView",
            "align_content": null,
            "align_items": null,
            "align_self": null,
            "border": null,
            "bottom": null,
            "display": null,
            "flex": null,
            "flex_flow": null,
            "grid_area": null,
            "grid_auto_columns": null,
            "grid_auto_flow": null,
            "grid_auto_rows": null,
            "grid_column": null,
            "grid_gap": null,
            "grid_row": null,
            "grid_template_areas": null,
            "grid_template_columns": null,
            "grid_template_rows": null,
            "height": null,
            "justify_content": null,
            "justify_items": null,
            "left": null,
            "margin": null,
            "max_height": null,
            "max_width": null,
            "min_height": null,
            "min_width": null,
            "object_fit": null,
            "object_position": null,
            "order": null,
            "overflow": null,
            "overflow_x": null,
            "overflow_y": null,
            "padding": null,
            "right": null,
            "top": null,
            "visibility": null,
            "width": null
          }
        },
        "40e351087c1d46339a63e77ab84fa37b": {
          "model_module": "@jupyter-widgets/controls",
          "model_name": "ProgressStyleModel",
          "model_module_version": "1.5.0",
          "state": {
            "_model_module": "@jupyter-widgets/controls",
            "_model_module_version": "1.5.0",
            "_model_name": "ProgressStyleModel",
            "_view_count": null,
            "_view_module": "@jupyter-widgets/base",
            "_view_module_version": "1.2.0",
            "_view_name": "StyleView",
            "bar_color": null,
            "description_width": ""
          }
        },
        "8b49f4fff34540bfa30735a7e2f0f7c9": {
          "model_module": "@jupyter-widgets/base",
          "model_name": "LayoutModel",
          "model_module_version": "1.2.0",
          "state": {
            "_model_module": "@jupyter-widgets/base",
            "_model_module_version": "1.2.0",
            "_model_name": "LayoutModel",
            "_view_count": null,
            "_view_module": "@jupyter-widgets/base",
            "_view_module_version": "1.2.0",
            "_view_name": "LayoutView",
            "align_content": null,
            "align_items": null,
            "align_self": null,
            "border": null,
            "bottom": null,
            "display": null,
            "flex": null,
            "flex_flow": null,
            "grid_area": null,
            "grid_auto_columns": null,
            "grid_auto_flow": null,
            "grid_auto_rows": null,
            "grid_column": null,
            "grid_gap": null,
            "grid_row": null,
            "grid_template_areas": null,
            "grid_template_columns": null,
            "grid_template_rows": null,
            "height": null,
            "justify_content": null,
            "justify_items": null,
            "left": null,
            "margin": null,
            "max_height": null,
            "max_width": null,
            "min_height": null,
            "min_width": null,
            "object_fit": null,
            "object_position": null,
            "order": null,
            "overflow": null,
            "overflow_x": null,
            "overflow_y": null,
            "padding": null,
            "right": null,
            "top": null,
            "visibility": null,
            "width": null
          }
        },
        "31683f86094c4662abccc4ef8190aea9": {
          "model_module": "@jupyter-widgets/controls",
          "model_name": "DescriptionStyleModel",
          "model_module_version": "1.5.0",
          "state": {
            "_model_module": "@jupyter-widgets/controls",
            "_model_module_version": "1.5.0",
            "_model_name": "DescriptionStyleModel",
            "_view_count": null,
            "_view_module": "@jupyter-widgets/base",
            "_view_module_version": "1.2.0",
            "_view_name": "StyleView",
            "description_width": ""
          }
        },
        "818c640c7509401a803db5e7fee8fbf5": {
          "model_module": "@jupyter-widgets/controls",
          "model_name": "HBoxModel",
          "model_module_version": "1.5.0",
          "state": {
            "_dom_classes": [],
            "_model_module": "@jupyter-widgets/controls",
            "_model_module_version": "1.5.0",
            "_model_name": "HBoxModel",
            "_view_count": null,
            "_view_module": "@jupyter-widgets/controls",
            "_view_module_version": "1.5.0",
            "_view_name": "HBoxView",
            "box_style": "",
            "children": [
              "IPY_MODEL_1f30b6d1baa645a1b5b0b73d203f5b7d",
              "IPY_MODEL_993832f002ca4e2aa592da3ef1d0aeee",
              "IPY_MODEL_9314a664ba8e4e3d8347e8874fc8b62a"
            ],
            "layout": "IPY_MODEL_0ade3cbb49b24941829a04fcdb319a62"
          }
        },
        "1f30b6d1baa645a1b5b0b73d203f5b7d": {
          "model_module": "@jupyter-widgets/controls",
          "model_name": "HTMLModel",
          "model_module_version": "1.5.0",
          "state": {
            "_dom_classes": [],
            "_model_module": "@jupyter-widgets/controls",
            "_model_module_version": "1.5.0",
            "_model_name": "HTMLModel",
            "_view_count": null,
            "_view_module": "@jupyter-widgets/controls",
            "_view_module_version": "1.5.0",
            "_view_name": "HTMLView",
            "description": "",
            "description_tooltip": null,
            "layout": "IPY_MODEL_17415c9557bf43c993c3269be95a1c95",
            "placeholder": "​",
            "style": "IPY_MODEL_2854ca7b4a604f84943376b0c5772139",
            "value": "Processing: 100%"
          }
        },
        "993832f002ca4e2aa592da3ef1d0aeee": {
          "model_module": "@jupyter-widgets/controls",
          "model_name": "FloatProgressModel",
          "model_module_version": "1.5.0",
          "state": {
            "_dom_classes": [],
            "_model_module": "@jupyter-widgets/controls",
            "_model_module_version": "1.5.0",
            "_model_name": "FloatProgressModel",
            "_view_count": null,
            "_view_module": "@jupyter-widgets/controls",
            "_view_module_version": "1.5.0",
            "_view_name": "ProgressView",
            "bar_style": "",
            "description": "",
            "description_tooltip": null,
            "layout": "IPY_MODEL_2fbced9d905e4dc4ad3049899048cd9f",
            "max": 7,
            "min": 0,
            "orientation": "horizontal",
            "style": "IPY_MODEL_443611f97a4c4a9591474777e0250247",
            "value": 7
          }
        },
        "9314a664ba8e4e3d8347e8874fc8b62a": {
          "model_module": "@jupyter-widgets/controls",
          "model_name": "HTMLModel",
          "model_module_version": "1.5.0",
          "state": {
            "_dom_classes": [],
            "_model_module": "@jupyter-widgets/controls",
            "_model_module_version": "1.5.0",
            "_model_name": "HTMLModel",
            "_view_count": null,
            "_view_module": "@jupyter-widgets/controls",
            "_view_module_version": "1.5.0",
            "_view_name": "HTMLView",
            "description": "",
            "description_tooltip": null,
            "layout": "IPY_MODEL_9bda8b4a87d1403db460a02333638d74",
            "placeholder": "​",
            "style": "IPY_MODEL_1c7013d08bba468f8aa8b573b989f26a",
            "value": " 7/7 [00:29&lt;00:00,  3.39s/it]"
          }
        },
        "0ade3cbb49b24941829a04fcdb319a62": {
          "model_module": "@jupyter-widgets/base",
          "model_name": "LayoutModel",
          "model_module_version": "1.2.0",
          "state": {
            "_model_module": "@jupyter-widgets/base",
            "_model_module_version": "1.2.0",
            "_model_name": "LayoutModel",
            "_view_count": null,
            "_view_module": "@jupyter-widgets/base",
            "_view_module_version": "1.2.0",
            "_view_name": "LayoutView",
            "align_content": null,
            "align_items": null,
            "align_self": null,
            "border": null,
            "bottom": null,
            "display": null,
            "flex": null,
            "flex_flow": null,
            "grid_area": null,
            "grid_auto_columns": null,
            "grid_auto_flow": null,
            "grid_auto_rows": null,
            "grid_column": null,
            "grid_gap": null,
            "grid_row": null,
            "grid_template_areas": null,
            "grid_template_columns": null,
            "grid_template_rows": null,
            "height": null,
            "justify_content": null,
            "justify_items": null,
            "left": null,
            "margin": null,
            "max_height": null,
            "max_width": null,
            "min_height": null,
            "min_width": null,
            "object_fit": null,
            "object_position": null,
            "order": null,
            "overflow": null,
            "overflow_x": null,
            "overflow_y": null,
            "padding": null,
            "right": null,
            "top": null,
            "visibility": "hidden",
            "width": null
          }
        },
        "17415c9557bf43c993c3269be95a1c95": {
          "model_module": "@jupyter-widgets/base",
          "model_name": "LayoutModel",
          "model_module_version": "1.2.0",
          "state": {
            "_model_module": "@jupyter-widgets/base",
            "_model_module_version": "1.2.0",
            "_model_name": "LayoutModel",
            "_view_count": null,
            "_view_module": "@jupyter-widgets/base",
            "_view_module_version": "1.2.0",
            "_view_name": "LayoutView",
            "align_content": null,
            "align_items": null,
            "align_self": null,
            "border": null,
            "bottom": null,
            "display": null,
            "flex": null,
            "flex_flow": null,
            "grid_area": null,
            "grid_auto_columns": null,
            "grid_auto_flow": null,
            "grid_auto_rows": null,
            "grid_column": null,
            "grid_gap": null,
            "grid_row": null,
            "grid_template_areas": null,
            "grid_template_columns": null,
            "grid_template_rows": null,
            "height": null,
            "justify_content": null,
            "justify_items": null,
            "left": null,
            "margin": null,
            "max_height": null,
            "max_width": null,
            "min_height": null,
            "min_width": null,
            "object_fit": null,
            "object_position": null,
            "order": null,
            "overflow": null,
            "overflow_x": null,
            "overflow_y": null,
            "padding": null,
            "right": null,
            "top": null,
            "visibility": null,
            "width": null
          }
        },
        "2854ca7b4a604f84943376b0c5772139": {
          "model_module": "@jupyter-widgets/controls",
          "model_name": "DescriptionStyleModel",
          "model_module_version": "1.5.0",
          "state": {
            "_model_module": "@jupyter-widgets/controls",
            "_model_module_version": "1.5.0",
            "_model_name": "DescriptionStyleModel",
            "_view_count": null,
            "_view_module": "@jupyter-widgets/base",
            "_view_module_version": "1.2.0",
            "_view_name": "StyleView",
            "description_width": ""
          }
        },
        "2fbced9d905e4dc4ad3049899048cd9f": {
          "model_module": "@jupyter-widgets/base",
          "model_name": "LayoutModel",
          "model_module_version": "1.2.0",
          "state": {
            "_model_module": "@jupyter-widgets/base",
            "_model_module_version": "1.2.0",
            "_model_name": "LayoutModel",
            "_view_count": null,
            "_view_module": "@jupyter-widgets/base",
            "_view_module_version": "1.2.0",
            "_view_name": "LayoutView",
            "align_content": null,
            "align_items": null,
            "align_self": null,
            "border": null,
            "bottom": null,
            "display": null,
            "flex": null,
            "flex_flow": null,
            "grid_area": null,
            "grid_auto_columns": null,
            "grid_auto_flow": null,
            "grid_auto_rows": null,
            "grid_column": null,
            "grid_gap": null,
            "grid_row": null,
            "grid_template_areas": null,
            "grid_template_columns": null,
            "grid_template_rows": null,
            "height": null,
            "justify_content": null,
            "justify_items": null,
            "left": null,
            "margin": null,
            "max_height": null,
            "max_width": null,
            "min_height": null,
            "min_width": null,
            "object_fit": null,
            "object_position": null,
            "order": null,
            "overflow": null,
            "overflow_x": null,
            "overflow_y": null,
            "padding": null,
            "right": null,
            "top": null,
            "visibility": null,
            "width": null
          }
        },
        "443611f97a4c4a9591474777e0250247": {
          "model_module": "@jupyter-widgets/controls",
          "model_name": "ProgressStyleModel",
          "model_module_version": "1.5.0",
          "state": {
            "_model_module": "@jupyter-widgets/controls",
            "_model_module_version": "1.5.0",
            "_model_name": "ProgressStyleModel",
            "_view_count": null,
            "_view_module": "@jupyter-widgets/base",
            "_view_module_version": "1.2.0",
            "_view_name": "StyleView",
            "bar_color": null,
            "description_width": ""
          }
        },
        "9bda8b4a87d1403db460a02333638d74": {
          "model_module": "@jupyter-widgets/base",
          "model_name": "LayoutModel",
          "model_module_version": "1.2.0",
          "state": {
            "_model_module": "@jupyter-widgets/base",
            "_model_module_version": "1.2.0",
            "_model_name": "LayoutModel",
            "_view_count": null,
            "_view_module": "@jupyter-widgets/base",
            "_view_module_version": "1.2.0",
            "_view_name": "LayoutView",
            "align_content": null,
            "align_items": null,
            "align_self": null,
            "border": null,
            "bottom": null,
            "display": null,
            "flex": null,
            "flex_flow": null,
            "grid_area": null,
            "grid_auto_columns": null,
            "grid_auto_flow": null,
            "grid_auto_rows": null,
            "grid_column": null,
            "grid_gap": null,
            "grid_row": null,
            "grid_template_areas": null,
            "grid_template_columns": null,
            "grid_template_rows": null,
            "height": null,
            "justify_content": null,
            "justify_items": null,
            "left": null,
            "margin": null,
            "max_height": null,
            "max_width": null,
            "min_height": null,
            "min_width": null,
            "object_fit": null,
            "object_position": null,
            "order": null,
            "overflow": null,
            "overflow_x": null,
            "overflow_y": null,
            "padding": null,
            "right": null,
            "top": null,
            "visibility": null,
            "width": null
          }
        },
        "1c7013d08bba468f8aa8b573b989f26a": {
          "model_module": "@jupyter-widgets/controls",
          "model_name": "DescriptionStyleModel",
          "model_module_version": "1.5.0",
          "state": {
            "_model_module": "@jupyter-widgets/controls",
            "_model_module_version": "1.5.0",
            "_model_name": "DescriptionStyleModel",
            "_view_count": null,
            "_view_module": "@jupyter-widgets/base",
            "_view_module_version": "1.2.0",
            "_view_name": "StyleView",
            "description_width": ""
          }
        }
      }
    }
  },
  "cells": [
    {
      "cell_type": "markdown",
      "source": [
        "# Análise de dados da base Titanic"
      ],
      "metadata": {
        "id": "8mDNu9PCkHdf"
      }
    },
    {
      "cell_type": "markdown",
      "source": [
        "Pré requisitos para importar o dataset do Kaggle:"
      ],
      "metadata": {
        "id": "yQHBcKYxkr3e"
      }
    },
    {
      "cell_type": "code",
      "execution_count": null,
      "metadata": {
        "id": "y9nk2y-6hN0C"
      },
      "outputs": [],
      "source": [
        "! pip install kaggle"
      ]
    },
    {
      "cell_type": "code",
      "source": [
        "! mkdir ~/.kaggle"
      ],
      "metadata": {
        "id": "m2TSkNMmj841"
      },
      "execution_count": null,
      "outputs": []
    },
    {
      "cell_type": "code",
      "source": [
        "! cp kaggle.json ~/.kaggle/"
      ],
      "metadata": {
        "id": "-CN1lzSHkCwl"
      },
      "execution_count": null,
      "outputs": []
    },
    {
      "cell_type": "code",
      "source": [
        "! chmod 600 ~/.kaggle/kaggle.json"
      ],
      "metadata": {
        "id": "MQiu0N21kDVt"
      },
      "execution_count": null,
      "outputs": []
    },
    {
      "cell_type": "markdown",
      "source": [
        "Download do dataset:"
      ],
      "metadata": {
        "id": "tq4Htu-GlPcd"
      }
    },
    {
      "cell_type": "code",
      "source": [
        "! kaggle competitions download titanic"
      ],
      "metadata": {
        "id": "YG46ASOlkGCV"
      },
      "execution_count": null,
      "outputs": []
    },
    {
      "cell_type": "code",
      "source": [
        "! unzip titanic"
      ],
      "metadata": {
        "id": "UXx5FmuYlRwN"
      },
      "execution_count": null,
      "outputs": []
    },
    {
      "cell_type": "markdown",
      "source": [
        "# Bibliotecas utilizadas:"
      ],
      "metadata": {
        "id": "bNrFVO5ZpEwm"
      }
    },
    {
      "cell_type": "code",
      "source": [
        "! pip install --pre pycaret"
      ],
      "metadata": {
        "id": "LUS0MqilVxXC"
      },
      "execution_count": null,
      "outputs": []
    },
    {
      "cell_type": "code",
      "source": [
        "import pandas as pd\n",
        "import matplotlib.pyplot as plt\n",
        "import seaborn as sns\n",
        "import numpy as np\n",
        "\n",
        "from pycaret.classification import *"
      ],
      "metadata": {
        "id": "twYigx0-pINU"
      },
      "execution_count": 8,
      "outputs": []
    },
    {
      "cell_type": "markdown",
      "source": [
        "# Análise:"
      ],
      "metadata": {
        "id": "1zfymN1YnFVW"
      }
    },
    {
      "cell_type": "markdown",
      "source": [
        "Vamos analisar no geral o que possuimos nas tabelas de dados:"
      ],
      "metadata": {
        "id": "i2wvVoP1o1n1"
      }
    },
    {
      "cell_type": "code",
      "source": [
        "df_train = pd.read_csv('train.csv')\n",
        "df_test = pd.read_csv('test.csv')\n",
        "df_gs = pd.read_csv('gender_submission.csv')"
      ],
      "metadata": {
        "id": "5AlE15s4lshM"
      },
      "execution_count": 9,
      "outputs": []
    },
    {
      "cell_type": "code",
      "source": [
        "df_train.head(2)"
      ],
      "metadata": {
        "colab": {
          "base_uri": "https://localhost:8080/",
          "height": 112
        },
        "id": "OcF4qmPBpCUs",
        "outputId": "d19797bb-94a9-4fa1-a15f-133caa356569"
      },
      "execution_count": 10,
      "outputs": [
        {
          "output_type": "execute_result",
          "data": {
            "text/plain": [
              "   PassengerId  Survived  Pclass  \\\n",
              "0            1         0       3   \n",
              "1            2         1       1   \n",
              "\n",
              "                                                Name     Sex   Age  SibSp  \\\n",
              "0                            Braund, Mr. Owen Harris    male  22.0      1   \n",
              "1  Cumings, Mrs. John Bradley (Florence Briggs Th...  female  38.0      1   \n",
              "\n",
              "   Parch     Ticket     Fare Cabin Embarked  \n",
              "0      0  A/5 21171   7.2500   NaN        S  \n",
              "1      0   PC 17599  71.2833   C85        C  "
            ],
            "text/html": [
              "\n",
              "  <div id=\"df-6a2c9800-e537-4db9-8863-3b837120d02a\">\n",
              "    <div class=\"colab-df-container\">\n",
              "      <div>\n",
              "<style scoped>\n",
              "    .dataframe tbody tr th:only-of-type {\n",
              "        vertical-align: middle;\n",
              "    }\n",
              "\n",
              "    .dataframe tbody tr th {\n",
              "        vertical-align: top;\n",
              "    }\n",
              "\n",
              "    .dataframe thead th {\n",
              "        text-align: right;\n",
              "    }\n",
              "</style>\n",
              "<table border=\"1\" class=\"dataframe\">\n",
              "  <thead>\n",
              "    <tr style=\"text-align: right;\">\n",
              "      <th></th>\n",
              "      <th>PassengerId</th>\n",
              "      <th>Survived</th>\n",
              "      <th>Pclass</th>\n",
              "      <th>Name</th>\n",
              "      <th>Sex</th>\n",
              "      <th>Age</th>\n",
              "      <th>SibSp</th>\n",
              "      <th>Parch</th>\n",
              "      <th>Ticket</th>\n",
              "      <th>Fare</th>\n",
              "      <th>Cabin</th>\n",
              "      <th>Embarked</th>\n",
              "    </tr>\n",
              "  </thead>\n",
              "  <tbody>\n",
              "    <tr>\n",
              "      <th>0</th>\n",
              "      <td>1</td>\n",
              "      <td>0</td>\n",
              "      <td>3</td>\n",
              "      <td>Braund, Mr. Owen Harris</td>\n",
              "      <td>male</td>\n",
              "      <td>22.0</td>\n",
              "      <td>1</td>\n",
              "      <td>0</td>\n",
              "      <td>A/5 21171</td>\n",
              "      <td>7.2500</td>\n",
              "      <td>NaN</td>\n",
              "      <td>S</td>\n",
              "    </tr>\n",
              "    <tr>\n",
              "      <th>1</th>\n",
              "      <td>2</td>\n",
              "      <td>1</td>\n",
              "      <td>1</td>\n",
              "      <td>Cumings, Mrs. John Bradley (Florence Briggs Th...</td>\n",
              "      <td>female</td>\n",
              "      <td>38.0</td>\n",
              "      <td>1</td>\n",
              "      <td>0</td>\n",
              "      <td>PC 17599</td>\n",
              "      <td>71.2833</td>\n",
              "      <td>C85</td>\n",
              "      <td>C</td>\n",
              "    </tr>\n",
              "  </tbody>\n",
              "</table>\n",
              "</div>\n",
              "      <button class=\"colab-df-convert\" onclick=\"convertToInteractive('df-6a2c9800-e537-4db9-8863-3b837120d02a')\"\n",
              "              title=\"Convert this dataframe to an interactive table.\"\n",
              "              style=\"display:none;\">\n",
              "        \n",
              "  <svg xmlns=\"http://www.w3.org/2000/svg\" height=\"24px\"viewBox=\"0 0 24 24\"\n",
              "       width=\"24px\">\n",
              "    <path d=\"M0 0h24v24H0V0z\" fill=\"none\"/>\n",
              "    <path d=\"M18.56 5.44l.94 2.06.94-2.06 2.06-.94-2.06-.94-.94-2.06-.94 2.06-2.06.94zm-11 1L8.5 8.5l.94-2.06 2.06-.94-2.06-.94L8.5 2.5l-.94 2.06-2.06.94zm10 10l.94 2.06.94-2.06 2.06-.94-2.06-.94-.94-2.06-.94 2.06-2.06.94z\"/><path d=\"M17.41 7.96l-1.37-1.37c-.4-.4-.92-.59-1.43-.59-.52 0-1.04.2-1.43.59L10.3 9.45l-7.72 7.72c-.78.78-.78 2.05 0 2.83L4 21.41c.39.39.9.59 1.41.59.51 0 1.02-.2 1.41-.59l7.78-7.78 2.81-2.81c.8-.78.8-2.07 0-2.86zM5.41 20L4 18.59l7.72-7.72 1.47 1.35L5.41 20z\"/>\n",
              "  </svg>\n",
              "      </button>\n",
              "      \n",
              "  <style>\n",
              "    .colab-df-container {\n",
              "      display:flex;\n",
              "      flex-wrap:wrap;\n",
              "      gap: 12px;\n",
              "    }\n",
              "\n",
              "    .colab-df-convert {\n",
              "      background-color: #E8F0FE;\n",
              "      border: none;\n",
              "      border-radius: 50%;\n",
              "      cursor: pointer;\n",
              "      display: none;\n",
              "      fill: #1967D2;\n",
              "      height: 32px;\n",
              "      padding: 0 0 0 0;\n",
              "      width: 32px;\n",
              "    }\n",
              "\n",
              "    .colab-df-convert:hover {\n",
              "      background-color: #E2EBFA;\n",
              "      box-shadow: 0px 1px 2px rgba(60, 64, 67, 0.3), 0px 1px 3px 1px rgba(60, 64, 67, 0.15);\n",
              "      fill: #174EA6;\n",
              "    }\n",
              "\n",
              "    [theme=dark] .colab-df-convert {\n",
              "      background-color: #3B4455;\n",
              "      fill: #D2E3FC;\n",
              "    }\n",
              "\n",
              "    [theme=dark] .colab-df-convert:hover {\n",
              "      background-color: #434B5C;\n",
              "      box-shadow: 0px 1px 3px 1px rgba(0, 0, 0, 0.15);\n",
              "      filter: drop-shadow(0px 1px 2px rgba(0, 0, 0, 0.3));\n",
              "      fill: #FFFFFF;\n",
              "    }\n",
              "  </style>\n",
              "\n",
              "      <script>\n",
              "        const buttonEl =\n",
              "          document.querySelector('#df-6a2c9800-e537-4db9-8863-3b837120d02a button.colab-df-convert');\n",
              "        buttonEl.style.display =\n",
              "          google.colab.kernel.accessAllowed ? 'block' : 'none';\n",
              "\n",
              "        async function convertToInteractive(key) {\n",
              "          const element = document.querySelector('#df-6a2c9800-e537-4db9-8863-3b837120d02a');\n",
              "          const dataTable =\n",
              "            await google.colab.kernel.invokeFunction('convertToInteractive',\n",
              "                                                     [key], {});\n",
              "          if (!dataTable) return;\n",
              "\n",
              "          const docLinkHtml = 'Like what you see? Visit the ' +\n",
              "            '<a target=\"_blank\" href=https://colab.research.google.com/notebooks/data_table.ipynb>data table notebook</a>'\n",
              "            + ' to learn more about interactive tables.';\n",
              "          element.innerHTML = '';\n",
              "          dataTable['output_type'] = 'display_data';\n",
              "          await google.colab.output.renderOutput(dataTable, element);\n",
              "          const docLink = document.createElement('div');\n",
              "          docLink.innerHTML = docLinkHtml;\n",
              "          element.appendChild(docLink);\n",
              "        }\n",
              "      </script>\n",
              "    </div>\n",
              "  </div>\n",
              "  "
            ]
          },
          "metadata": {},
          "execution_count": 10
        }
      ]
    },
    {
      "cell_type": "code",
      "source": [
        "df_train['Pclass'] = df_train['Pclass'].astype('object')"
      ],
      "metadata": {
        "id": "FAimw50w_Txu"
      },
      "execution_count": 11,
      "outputs": []
    },
    {
      "cell_type": "code",
      "source": [
        "df_train.info()"
      ],
      "metadata": {
        "colab": {
          "base_uri": "https://localhost:8080/"
        },
        "id": "WL67y6ORpOpr",
        "outputId": "ac51cfda-e8b6-468f-8535-801e5e494577"
      },
      "execution_count": 12,
      "outputs": [
        {
          "output_type": "stream",
          "name": "stdout",
          "text": [
            "<class 'pandas.core.frame.DataFrame'>\n",
            "RangeIndex: 891 entries, 0 to 890\n",
            "Data columns (total 12 columns):\n",
            " #   Column       Non-Null Count  Dtype  \n",
            "---  ------       --------------  -----  \n",
            " 0   PassengerId  891 non-null    int64  \n",
            " 1   Survived     891 non-null    int64  \n",
            " 2   Pclass       891 non-null    object \n",
            " 3   Name         891 non-null    object \n",
            " 4   Sex          891 non-null    object \n",
            " 5   Age          714 non-null    float64\n",
            " 6   SibSp        891 non-null    int64  \n",
            " 7   Parch        891 non-null    int64  \n",
            " 8   Ticket       891 non-null    object \n",
            " 9   Fare         891 non-null    float64\n",
            " 10  Cabin        204 non-null    object \n",
            " 11  Embarked     889 non-null    object \n",
            "dtypes: float64(2), int64(4), object(6)\n",
            "memory usage: 83.7+ KB\n"
          ]
        }
      ]
    },
    {
      "cell_type": "code",
      "source": [
        "df_train.duplicated().value_counts()"
      ],
      "metadata": {
        "colab": {
          "base_uri": "https://localhost:8080/"
        },
        "id": "5kSFgYy_szrP",
        "outputId": "0da227a4-a18c-48cc-9783-8f1e9e92baae"
      },
      "execution_count": 13,
      "outputs": [
        {
          "output_type": "execute_result",
          "data": {
            "text/plain": [
              "False    891\n",
              "dtype: int64"
            ]
          },
          "metadata": {},
          "execution_count": 13
        }
      ]
    },
    {
      "cell_type": "code",
      "source": [
        "df_train.nunique()"
      ],
      "metadata": {
        "colab": {
          "base_uri": "https://localhost:8080/"
        },
        "id": "pO5uKLVRtBfM",
        "outputId": "260f25ba-e012-4bc3-d94c-45b67914c5ce"
      },
      "execution_count": 14,
      "outputs": [
        {
          "output_type": "execute_result",
          "data": {
            "text/plain": [
              "PassengerId    891\n",
              "Survived         2\n",
              "Pclass           3\n",
              "Name           891\n",
              "Sex              2\n",
              "Age             88\n",
              "SibSp            7\n",
              "Parch            7\n",
              "Ticket         681\n",
              "Fare           248\n",
              "Cabin          147\n",
              "Embarked         3\n",
              "dtype: int64"
            ]
          },
          "metadata": {},
          "execution_count": 14
        }
      ]
    },
    {
      "cell_type": "markdown",
      "source": [
        "**Comentário:** Já observamos que a coluna *Age* possui alguns valores missing, devemos escolher como tratar esses dados. (Excluir dados missing? Substituir pela média?). A coluna *Cabin* possui poucos valores preenchidos, provavelmente será descartada da análise. Talvez também poderemos excluir colunas como: *PassengerId*, *Name* e *Ticket* de uma futura modelagem."
      ],
      "metadata": {
        "id": "kjvsV-IIq-g1"
      }
    },
    {
      "cell_type": "markdown",
      "source": [
        "**Descrição do que as variáveis representam:** <br>\n",
        "*Survived*: Indica se o passageiro sobreviveu. (0 = Não, 1 = Sim) <br>\n",
        "*Pclass*: Classe do passageiro. (1 = Primeira, 2 = Segunda, 3 = Terceira) <br>\n",
        "*Sex*: Sexo do passageiro. <br>\n",
        "*Age*: Idade em anos. <br>\n",
        "*SibSp*: Número de irmãos/cônjuges a bordo do Titanic. <br>\n",
        "*Parch*: Número de pais/filhos a bordo do Titanic. <br>\n",
        "*Ticket*: Número do bilhete. <br>\n",
        "*Fare*: Tarifa de passageiro. <br>\n",
        "*Cabin*: Número da cabine. <br>\n",
        "*Embarked*: Porto de embarcação. (C = Cherbourg, Q = Queenstown, S = Southampton)\n"
      ],
      "metadata": {
        "id": "1kAjRUa_x6St"
      }
    },
    {
      "cell_type": "code",
      "source": [
        "df_test.head(2)"
      ],
      "metadata": {
        "colab": {
          "base_uri": "https://localhost:8080/",
          "height": 112
        },
        "id": "Q8dH7kmlqPG8",
        "outputId": "f73c7d56-b1d3-4f07-d100-8fd072bc3b78"
      },
      "execution_count": 15,
      "outputs": [
        {
          "output_type": "execute_result",
          "data": {
            "text/plain": [
              "   PassengerId  Pclass                              Name     Sex   Age  SibSp  \\\n",
              "0          892       3                  Kelly, Mr. James    male  34.5      0   \n",
              "1          893       3  Wilkes, Mrs. James (Ellen Needs)  female  47.0      1   \n",
              "\n",
              "   Parch  Ticket    Fare Cabin Embarked  \n",
              "0      0  330911  7.8292   NaN        Q  \n",
              "1      0  363272  7.0000   NaN        S  "
            ],
            "text/html": [
              "\n",
              "  <div id=\"df-cc65cec0-12df-4a6c-99bb-b83e36632c6b\">\n",
              "    <div class=\"colab-df-container\">\n",
              "      <div>\n",
              "<style scoped>\n",
              "    .dataframe tbody tr th:only-of-type {\n",
              "        vertical-align: middle;\n",
              "    }\n",
              "\n",
              "    .dataframe tbody tr th {\n",
              "        vertical-align: top;\n",
              "    }\n",
              "\n",
              "    .dataframe thead th {\n",
              "        text-align: right;\n",
              "    }\n",
              "</style>\n",
              "<table border=\"1\" class=\"dataframe\">\n",
              "  <thead>\n",
              "    <tr style=\"text-align: right;\">\n",
              "      <th></th>\n",
              "      <th>PassengerId</th>\n",
              "      <th>Pclass</th>\n",
              "      <th>Name</th>\n",
              "      <th>Sex</th>\n",
              "      <th>Age</th>\n",
              "      <th>SibSp</th>\n",
              "      <th>Parch</th>\n",
              "      <th>Ticket</th>\n",
              "      <th>Fare</th>\n",
              "      <th>Cabin</th>\n",
              "      <th>Embarked</th>\n",
              "    </tr>\n",
              "  </thead>\n",
              "  <tbody>\n",
              "    <tr>\n",
              "      <th>0</th>\n",
              "      <td>892</td>\n",
              "      <td>3</td>\n",
              "      <td>Kelly, Mr. James</td>\n",
              "      <td>male</td>\n",
              "      <td>34.5</td>\n",
              "      <td>0</td>\n",
              "      <td>0</td>\n",
              "      <td>330911</td>\n",
              "      <td>7.8292</td>\n",
              "      <td>NaN</td>\n",
              "      <td>Q</td>\n",
              "    </tr>\n",
              "    <tr>\n",
              "      <th>1</th>\n",
              "      <td>893</td>\n",
              "      <td>3</td>\n",
              "      <td>Wilkes, Mrs. James (Ellen Needs)</td>\n",
              "      <td>female</td>\n",
              "      <td>47.0</td>\n",
              "      <td>1</td>\n",
              "      <td>0</td>\n",
              "      <td>363272</td>\n",
              "      <td>7.0000</td>\n",
              "      <td>NaN</td>\n",
              "      <td>S</td>\n",
              "    </tr>\n",
              "  </tbody>\n",
              "</table>\n",
              "</div>\n",
              "      <button class=\"colab-df-convert\" onclick=\"convertToInteractive('df-cc65cec0-12df-4a6c-99bb-b83e36632c6b')\"\n",
              "              title=\"Convert this dataframe to an interactive table.\"\n",
              "              style=\"display:none;\">\n",
              "        \n",
              "  <svg xmlns=\"http://www.w3.org/2000/svg\" height=\"24px\"viewBox=\"0 0 24 24\"\n",
              "       width=\"24px\">\n",
              "    <path d=\"M0 0h24v24H0V0z\" fill=\"none\"/>\n",
              "    <path d=\"M18.56 5.44l.94 2.06.94-2.06 2.06-.94-2.06-.94-.94-2.06-.94 2.06-2.06.94zm-11 1L8.5 8.5l.94-2.06 2.06-.94-2.06-.94L8.5 2.5l-.94 2.06-2.06.94zm10 10l.94 2.06.94-2.06 2.06-.94-2.06-.94-.94-2.06-.94 2.06-2.06.94z\"/><path d=\"M17.41 7.96l-1.37-1.37c-.4-.4-.92-.59-1.43-.59-.52 0-1.04.2-1.43.59L10.3 9.45l-7.72 7.72c-.78.78-.78 2.05 0 2.83L4 21.41c.39.39.9.59 1.41.59.51 0 1.02-.2 1.41-.59l7.78-7.78 2.81-2.81c.8-.78.8-2.07 0-2.86zM5.41 20L4 18.59l7.72-7.72 1.47 1.35L5.41 20z\"/>\n",
              "  </svg>\n",
              "      </button>\n",
              "      \n",
              "  <style>\n",
              "    .colab-df-container {\n",
              "      display:flex;\n",
              "      flex-wrap:wrap;\n",
              "      gap: 12px;\n",
              "    }\n",
              "\n",
              "    .colab-df-convert {\n",
              "      background-color: #E8F0FE;\n",
              "      border: none;\n",
              "      border-radius: 50%;\n",
              "      cursor: pointer;\n",
              "      display: none;\n",
              "      fill: #1967D2;\n",
              "      height: 32px;\n",
              "      padding: 0 0 0 0;\n",
              "      width: 32px;\n",
              "    }\n",
              "\n",
              "    .colab-df-convert:hover {\n",
              "      background-color: #E2EBFA;\n",
              "      box-shadow: 0px 1px 2px rgba(60, 64, 67, 0.3), 0px 1px 3px 1px rgba(60, 64, 67, 0.15);\n",
              "      fill: #174EA6;\n",
              "    }\n",
              "\n",
              "    [theme=dark] .colab-df-convert {\n",
              "      background-color: #3B4455;\n",
              "      fill: #D2E3FC;\n",
              "    }\n",
              "\n",
              "    [theme=dark] .colab-df-convert:hover {\n",
              "      background-color: #434B5C;\n",
              "      box-shadow: 0px 1px 3px 1px rgba(0, 0, 0, 0.15);\n",
              "      filter: drop-shadow(0px 1px 2px rgba(0, 0, 0, 0.3));\n",
              "      fill: #FFFFFF;\n",
              "    }\n",
              "  </style>\n",
              "\n",
              "      <script>\n",
              "        const buttonEl =\n",
              "          document.querySelector('#df-cc65cec0-12df-4a6c-99bb-b83e36632c6b button.colab-df-convert');\n",
              "        buttonEl.style.display =\n",
              "          google.colab.kernel.accessAllowed ? 'block' : 'none';\n",
              "\n",
              "        async function convertToInteractive(key) {\n",
              "          const element = document.querySelector('#df-cc65cec0-12df-4a6c-99bb-b83e36632c6b');\n",
              "          const dataTable =\n",
              "            await google.colab.kernel.invokeFunction('convertToInteractive',\n",
              "                                                     [key], {});\n",
              "          if (!dataTable) return;\n",
              "\n",
              "          const docLinkHtml = 'Like what you see? Visit the ' +\n",
              "            '<a target=\"_blank\" href=https://colab.research.google.com/notebooks/data_table.ipynb>data table notebook</a>'\n",
              "            + ' to learn more about interactive tables.';\n",
              "          element.innerHTML = '';\n",
              "          dataTable['output_type'] = 'display_data';\n",
              "          await google.colab.output.renderOutput(dataTable, element);\n",
              "          const docLink = document.createElement('div');\n",
              "          docLink.innerHTML = docLinkHtml;\n",
              "          element.appendChild(docLink);\n",
              "        }\n",
              "      </script>\n",
              "    </div>\n",
              "  </div>\n",
              "  "
            ]
          },
          "metadata": {},
          "execution_count": 15
        }
      ]
    },
    {
      "cell_type": "code",
      "source": [
        "df_test.info()"
      ],
      "metadata": {
        "colab": {
          "base_uri": "https://localhost:8080/"
        },
        "id": "-_NRSnxNqPPU",
        "outputId": "2e3d30d4-7111-4501-ce4e-b281f99da63e"
      },
      "execution_count": 16,
      "outputs": [
        {
          "output_type": "stream",
          "name": "stdout",
          "text": [
            "<class 'pandas.core.frame.DataFrame'>\n",
            "RangeIndex: 418 entries, 0 to 417\n",
            "Data columns (total 11 columns):\n",
            " #   Column       Non-Null Count  Dtype  \n",
            "---  ------       --------------  -----  \n",
            " 0   PassengerId  418 non-null    int64  \n",
            " 1   Pclass       418 non-null    int64  \n",
            " 2   Name         418 non-null    object \n",
            " 3   Sex          418 non-null    object \n",
            " 4   Age          332 non-null    float64\n",
            " 5   SibSp        418 non-null    int64  \n",
            " 6   Parch        418 non-null    int64  \n",
            " 7   Ticket       418 non-null    object \n",
            " 8   Fare         417 non-null    float64\n",
            " 9   Cabin        91 non-null     object \n",
            " 10  Embarked     418 non-null    object \n",
            "dtypes: float64(2), int64(4), object(5)\n",
            "memory usage: 36.0+ KB\n"
          ]
        }
      ]
    },
    {
      "cell_type": "code",
      "source": [
        "df_gs.info()"
      ],
      "metadata": {
        "colab": {
          "base_uri": "https://localhost:8080/"
        },
        "id": "r_OzF8SDp_N8",
        "outputId": "ec351a84-7d8e-4d3b-9ce4-622d510bbecd"
      },
      "execution_count": 17,
      "outputs": [
        {
          "output_type": "stream",
          "name": "stdout",
          "text": [
            "<class 'pandas.core.frame.DataFrame'>\n",
            "RangeIndex: 418 entries, 0 to 417\n",
            "Data columns (total 2 columns):\n",
            " #   Column       Non-Null Count  Dtype\n",
            "---  ------       --------------  -----\n",
            " 0   PassengerId  418 non-null    int64\n",
            " 1   Survived     418 non-null    int64\n",
            "dtypes: int64(2)\n",
            "memory usage: 6.7 KB\n"
          ]
        }
      ]
    },
    {
      "cell_type": "code",
      "source": [
        "df_gs.head(2)"
      ],
      "metadata": {
        "colab": {
          "base_uri": "https://localhost:8080/",
          "height": 112
        },
        "id": "gHGnsfXpcFv4",
        "outputId": "57128b46-9007-45d3-8ee3-0c62e0b002f1"
      },
      "execution_count": 18,
      "outputs": [
        {
          "output_type": "execute_result",
          "data": {
            "text/plain": [
              "   PassengerId  Survived\n",
              "0          892         0\n",
              "1          893         1"
            ],
            "text/html": [
              "\n",
              "  <div id=\"df-511c8eff-0ed7-4f82-aa94-eb6fc38bd97c\">\n",
              "    <div class=\"colab-df-container\">\n",
              "      <div>\n",
              "<style scoped>\n",
              "    .dataframe tbody tr th:only-of-type {\n",
              "        vertical-align: middle;\n",
              "    }\n",
              "\n",
              "    .dataframe tbody tr th {\n",
              "        vertical-align: top;\n",
              "    }\n",
              "\n",
              "    .dataframe thead th {\n",
              "        text-align: right;\n",
              "    }\n",
              "</style>\n",
              "<table border=\"1\" class=\"dataframe\">\n",
              "  <thead>\n",
              "    <tr style=\"text-align: right;\">\n",
              "      <th></th>\n",
              "      <th>PassengerId</th>\n",
              "      <th>Survived</th>\n",
              "    </tr>\n",
              "  </thead>\n",
              "  <tbody>\n",
              "    <tr>\n",
              "      <th>0</th>\n",
              "      <td>892</td>\n",
              "      <td>0</td>\n",
              "    </tr>\n",
              "    <tr>\n",
              "      <th>1</th>\n",
              "      <td>893</td>\n",
              "      <td>1</td>\n",
              "    </tr>\n",
              "  </tbody>\n",
              "</table>\n",
              "</div>\n",
              "      <button class=\"colab-df-convert\" onclick=\"convertToInteractive('df-511c8eff-0ed7-4f82-aa94-eb6fc38bd97c')\"\n",
              "              title=\"Convert this dataframe to an interactive table.\"\n",
              "              style=\"display:none;\">\n",
              "        \n",
              "  <svg xmlns=\"http://www.w3.org/2000/svg\" height=\"24px\"viewBox=\"0 0 24 24\"\n",
              "       width=\"24px\">\n",
              "    <path d=\"M0 0h24v24H0V0z\" fill=\"none\"/>\n",
              "    <path d=\"M18.56 5.44l.94 2.06.94-2.06 2.06-.94-2.06-.94-.94-2.06-.94 2.06-2.06.94zm-11 1L8.5 8.5l.94-2.06 2.06-.94-2.06-.94L8.5 2.5l-.94 2.06-2.06.94zm10 10l.94 2.06.94-2.06 2.06-.94-2.06-.94-.94-2.06-.94 2.06-2.06.94z\"/><path d=\"M17.41 7.96l-1.37-1.37c-.4-.4-.92-.59-1.43-.59-.52 0-1.04.2-1.43.59L10.3 9.45l-7.72 7.72c-.78.78-.78 2.05 0 2.83L4 21.41c.39.39.9.59 1.41.59.51 0 1.02-.2 1.41-.59l7.78-7.78 2.81-2.81c.8-.78.8-2.07 0-2.86zM5.41 20L4 18.59l7.72-7.72 1.47 1.35L5.41 20z\"/>\n",
              "  </svg>\n",
              "      </button>\n",
              "      \n",
              "  <style>\n",
              "    .colab-df-container {\n",
              "      display:flex;\n",
              "      flex-wrap:wrap;\n",
              "      gap: 12px;\n",
              "    }\n",
              "\n",
              "    .colab-df-convert {\n",
              "      background-color: #E8F0FE;\n",
              "      border: none;\n",
              "      border-radius: 50%;\n",
              "      cursor: pointer;\n",
              "      display: none;\n",
              "      fill: #1967D2;\n",
              "      height: 32px;\n",
              "      padding: 0 0 0 0;\n",
              "      width: 32px;\n",
              "    }\n",
              "\n",
              "    .colab-df-convert:hover {\n",
              "      background-color: #E2EBFA;\n",
              "      box-shadow: 0px 1px 2px rgba(60, 64, 67, 0.3), 0px 1px 3px 1px rgba(60, 64, 67, 0.15);\n",
              "      fill: #174EA6;\n",
              "    }\n",
              "\n",
              "    [theme=dark] .colab-df-convert {\n",
              "      background-color: #3B4455;\n",
              "      fill: #D2E3FC;\n",
              "    }\n",
              "\n",
              "    [theme=dark] .colab-df-convert:hover {\n",
              "      background-color: #434B5C;\n",
              "      box-shadow: 0px 1px 3px 1px rgba(0, 0, 0, 0.15);\n",
              "      filter: drop-shadow(0px 1px 2px rgba(0, 0, 0, 0.3));\n",
              "      fill: #FFFFFF;\n",
              "    }\n",
              "  </style>\n",
              "\n",
              "      <script>\n",
              "        const buttonEl =\n",
              "          document.querySelector('#df-511c8eff-0ed7-4f82-aa94-eb6fc38bd97c button.colab-df-convert');\n",
              "        buttonEl.style.display =\n",
              "          google.colab.kernel.accessAllowed ? 'block' : 'none';\n",
              "\n",
              "        async function convertToInteractive(key) {\n",
              "          const element = document.querySelector('#df-511c8eff-0ed7-4f82-aa94-eb6fc38bd97c');\n",
              "          const dataTable =\n",
              "            await google.colab.kernel.invokeFunction('convertToInteractive',\n",
              "                                                     [key], {});\n",
              "          if (!dataTable) return;\n",
              "\n",
              "          const docLinkHtml = 'Like what you see? Visit the ' +\n",
              "            '<a target=\"_blank\" href=https://colab.research.google.com/notebooks/data_table.ipynb>data table notebook</a>'\n",
              "            + ' to learn more about interactive tables.';\n",
              "          element.innerHTML = '';\n",
              "          dataTable['output_type'] = 'display_data';\n",
              "          await google.colab.output.renderOutput(dataTable, element);\n",
              "          const docLink = document.createElement('div');\n",
              "          docLink.innerHTML = docLinkHtml;\n",
              "          element.appendChild(docLink);\n",
              "        }\n",
              "      </script>\n",
              "    </div>\n",
              "  </div>\n",
              "  "
            ]
          },
          "metadata": {},
          "execution_count": 18
        }
      ]
    },
    {
      "cell_type": "code",
      "source": [
        "data_unseen = df_test.merge(df_gs)"
      ],
      "metadata": {
        "id": "0PC6C_00bysj"
      },
      "execution_count": 19,
      "outputs": []
    },
    {
      "cell_type": "code",
      "source": [
        "data_unseen.head()"
      ],
      "metadata": {
        "colab": {
          "base_uri": "https://localhost:8080/",
          "height": 206
        },
        "id": "SwFLj9Ueb_ba",
        "outputId": "369b9bed-b4f6-4670-e093-d32e3c3cd821"
      },
      "execution_count": 20,
      "outputs": [
        {
          "output_type": "execute_result",
          "data": {
            "text/plain": [
              "   PassengerId  Pclass                                          Name     Sex  \\\n",
              "0          892       3                              Kelly, Mr. James    male   \n",
              "1          893       3              Wilkes, Mrs. James (Ellen Needs)  female   \n",
              "2          894       2                     Myles, Mr. Thomas Francis    male   \n",
              "3          895       3                              Wirz, Mr. Albert    male   \n",
              "4          896       3  Hirvonen, Mrs. Alexander (Helga E Lindqvist)  female   \n",
              "\n",
              "    Age  SibSp  Parch   Ticket     Fare Cabin Embarked  Survived  \n",
              "0  34.5      0      0   330911   7.8292   NaN        Q         0  \n",
              "1  47.0      1      0   363272   7.0000   NaN        S         1  \n",
              "2  62.0      0      0   240276   9.6875   NaN        Q         0  \n",
              "3  27.0      0      0   315154   8.6625   NaN        S         0  \n",
              "4  22.0      1      1  3101298  12.2875   NaN        S         1  "
            ],
            "text/html": [
              "\n",
              "  <div id=\"df-034359a4-8bc3-4f60-890e-6a15e1064716\">\n",
              "    <div class=\"colab-df-container\">\n",
              "      <div>\n",
              "<style scoped>\n",
              "    .dataframe tbody tr th:only-of-type {\n",
              "        vertical-align: middle;\n",
              "    }\n",
              "\n",
              "    .dataframe tbody tr th {\n",
              "        vertical-align: top;\n",
              "    }\n",
              "\n",
              "    .dataframe thead th {\n",
              "        text-align: right;\n",
              "    }\n",
              "</style>\n",
              "<table border=\"1\" class=\"dataframe\">\n",
              "  <thead>\n",
              "    <tr style=\"text-align: right;\">\n",
              "      <th></th>\n",
              "      <th>PassengerId</th>\n",
              "      <th>Pclass</th>\n",
              "      <th>Name</th>\n",
              "      <th>Sex</th>\n",
              "      <th>Age</th>\n",
              "      <th>SibSp</th>\n",
              "      <th>Parch</th>\n",
              "      <th>Ticket</th>\n",
              "      <th>Fare</th>\n",
              "      <th>Cabin</th>\n",
              "      <th>Embarked</th>\n",
              "      <th>Survived</th>\n",
              "    </tr>\n",
              "  </thead>\n",
              "  <tbody>\n",
              "    <tr>\n",
              "      <th>0</th>\n",
              "      <td>892</td>\n",
              "      <td>3</td>\n",
              "      <td>Kelly, Mr. James</td>\n",
              "      <td>male</td>\n",
              "      <td>34.5</td>\n",
              "      <td>0</td>\n",
              "      <td>0</td>\n",
              "      <td>330911</td>\n",
              "      <td>7.8292</td>\n",
              "      <td>NaN</td>\n",
              "      <td>Q</td>\n",
              "      <td>0</td>\n",
              "    </tr>\n",
              "    <tr>\n",
              "      <th>1</th>\n",
              "      <td>893</td>\n",
              "      <td>3</td>\n",
              "      <td>Wilkes, Mrs. James (Ellen Needs)</td>\n",
              "      <td>female</td>\n",
              "      <td>47.0</td>\n",
              "      <td>1</td>\n",
              "      <td>0</td>\n",
              "      <td>363272</td>\n",
              "      <td>7.0000</td>\n",
              "      <td>NaN</td>\n",
              "      <td>S</td>\n",
              "      <td>1</td>\n",
              "    </tr>\n",
              "    <tr>\n",
              "      <th>2</th>\n",
              "      <td>894</td>\n",
              "      <td>2</td>\n",
              "      <td>Myles, Mr. Thomas Francis</td>\n",
              "      <td>male</td>\n",
              "      <td>62.0</td>\n",
              "      <td>0</td>\n",
              "      <td>0</td>\n",
              "      <td>240276</td>\n",
              "      <td>9.6875</td>\n",
              "      <td>NaN</td>\n",
              "      <td>Q</td>\n",
              "      <td>0</td>\n",
              "    </tr>\n",
              "    <tr>\n",
              "      <th>3</th>\n",
              "      <td>895</td>\n",
              "      <td>3</td>\n",
              "      <td>Wirz, Mr. Albert</td>\n",
              "      <td>male</td>\n",
              "      <td>27.0</td>\n",
              "      <td>0</td>\n",
              "      <td>0</td>\n",
              "      <td>315154</td>\n",
              "      <td>8.6625</td>\n",
              "      <td>NaN</td>\n",
              "      <td>S</td>\n",
              "      <td>0</td>\n",
              "    </tr>\n",
              "    <tr>\n",
              "      <th>4</th>\n",
              "      <td>896</td>\n",
              "      <td>3</td>\n",
              "      <td>Hirvonen, Mrs. Alexander (Helga E Lindqvist)</td>\n",
              "      <td>female</td>\n",
              "      <td>22.0</td>\n",
              "      <td>1</td>\n",
              "      <td>1</td>\n",
              "      <td>3101298</td>\n",
              "      <td>12.2875</td>\n",
              "      <td>NaN</td>\n",
              "      <td>S</td>\n",
              "      <td>1</td>\n",
              "    </tr>\n",
              "  </tbody>\n",
              "</table>\n",
              "</div>\n",
              "      <button class=\"colab-df-convert\" onclick=\"convertToInteractive('df-034359a4-8bc3-4f60-890e-6a15e1064716')\"\n",
              "              title=\"Convert this dataframe to an interactive table.\"\n",
              "              style=\"display:none;\">\n",
              "        \n",
              "  <svg xmlns=\"http://www.w3.org/2000/svg\" height=\"24px\"viewBox=\"0 0 24 24\"\n",
              "       width=\"24px\">\n",
              "    <path d=\"M0 0h24v24H0V0z\" fill=\"none\"/>\n",
              "    <path d=\"M18.56 5.44l.94 2.06.94-2.06 2.06-.94-2.06-.94-.94-2.06-.94 2.06-2.06.94zm-11 1L8.5 8.5l.94-2.06 2.06-.94-2.06-.94L8.5 2.5l-.94 2.06-2.06.94zm10 10l.94 2.06.94-2.06 2.06-.94-2.06-.94-.94-2.06-.94 2.06-2.06.94z\"/><path d=\"M17.41 7.96l-1.37-1.37c-.4-.4-.92-.59-1.43-.59-.52 0-1.04.2-1.43.59L10.3 9.45l-7.72 7.72c-.78.78-.78 2.05 0 2.83L4 21.41c.39.39.9.59 1.41.59.51 0 1.02-.2 1.41-.59l7.78-7.78 2.81-2.81c.8-.78.8-2.07 0-2.86zM5.41 20L4 18.59l7.72-7.72 1.47 1.35L5.41 20z\"/>\n",
              "  </svg>\n",
              "      </button>\n",
              "      \n",
              "  <style>\n",
              "    .colab-df-container {\n",
              "      display:flex;\n",
              "      flex-wrap:wrap;\n",
              "      gap: 12px;\n",
              "    }\n",
              "\n",
              "    .colab-df-convert {\n",
              "      background-color: #E8F0FE;\n",
              "      border: none;\n",
              "      border-radius: 50%;\n",
              "      cursor: pointer;\n",
              "      display: none;\n",
              "      fill: #1967D2;\n",
              "      height: 32px;\n",
              "      padding: 0 0 0 0;\n",
              "      width: 32px;\n",
              "    }\n",
              "\n",
              "    .colab-df-convert:hover {\n",
              "      background-color: #E2EBFA;\n",
              "      box-shadow: 0px 1px 2px rgba(60, 64, 67, 0.3), 0px 1px 3px 1px rgba(60, 64, 67, 0.15);\n",
              "      fill: #174EA6;\n",
              "    }\n",
              "\n",
              "    [theme=dark] .colab-df-convert {\n",
              "      background-color: #3B4455;\n",
              "      fill: #D2E3FC;\n",
              "    }\n",
              "\n",
              "    [theme=dark] .colab-df-convert:hover {\n",
              "      background-color: #434B5C;\n",
              "      box-shadow: 0px 1px 3px 1px rgba(0, 0, 0, 0.15);\n",
              "      filter: drop-shadow(0px 1px 2px rgba(0, 0, 0, 0.3));\n",
              "      fill: #FFFFFF;\n",
              "    }\n",
              "  </style>\n",
              "\n",
              "      <script>\n",
              "        const buttonEl =\n",
              "          document.querySelector('#df-034359a4-8bc3-4f60-890e-6a15e1064716 button.colab-df-convert');\n",
              "        buttonEl.style.display =\n",
              "          google.colab.kernel.accessAllowed ? 'block' : 'none';\n",
              "\n",
              "        async function convertToInteractive(key) {\n",
              "          const element = document.querySelector('#df-034359a4-8bc3-4f60-890e-6a15e1064716');\n",
              "          const dataTable =\n",
              "            await google.colab.kernel.invokeFunction('convertToInteractive',\n",
              "                                                     [key], {});\n",
              "          if (!dataTable) return;\n",
              "\n",
              "          const docLinkHtml = 'Like what you see? Visit the ' +\n",
              "            '<a target=\"_blank\" href=https://colab.research.google.com/notebooks/data_table.ipynb>data table notebook</a>'\n",
              "            + ' to learn more about interactive tables.';\n",
              "          element.innerHTML = '';\n",
              "          dataTable['output_type'] = 'display_data';\n",
              "          await google.colab.output.renderOutput(dataTable, element);\n",
              "          const docLink = document.createElement('div');\n",
              "          docLink.innerHTML = docLinkHtml;\n",
              "          element.appendChild(docLink);\n",
              "        }\n",
              "      </script>\n",
              "    </div>\n",
              "  </div>\n",
              "  "
            ]
          },
          "metadata": {},
          "execution_count": 20
        }
      ]
    },
    {
      "cell_type": "markdown",
      "source": [
        "# Insights"
      ],
      "metadata": {
        "id": "mWELKgNrqYhj"
      }
    },
    {
      "cell_type": "markdown",
      "source": [
        "Irei criar uma coluna que indique o passageiro ter ou não uma Cabine:"
      ],
      "metadata": {
        "id": "6jITvR3BqcIL"
      }
    },
    {
      "cell_type": "code",
      "source": [
        "df_train['CabinYN'] = (df_train['Cabin'].notnull()).astype('int')\n",
        "data_unseen['CabinYN'] = (data_unseen['Cabin'].notnull()).astype('int')"
      ],
      "metadata": {
        "id": "_KuZIFqvrrPe"
      },
      "execution_count": 21,
      "outputs": []
    },
    {
      "cell_type": "code",
      "source": [
        "df_train.head()"
      ],
      "metadata": {
        "colab": {
          "base_uri": "https://localhost:8080/",
          "height": 302
        },
        "id": "pF6CH9Uyt1M4",
        "outputId": "bac464a3-29a0-4c53-d43e-991eee1328b6"
      },
      "execution_count": 22,
      "outputs": [
        {
          "output_type": "execute_result",
          "data": {
            "text/plain": [
              "   PassengerId  Survived Pclass  \\\n",
              "0            1         0      3   \n",
              "1            2         1      1   \n",
              "2            3         1      3   \n",
              "3            4         1      1   \n",
              "4            5         0      3   \n",
              "\n",
              "                                                Name     Sex   Age  SibSp  \\\n",
              "0                            Braund, Mr. Owen Harris    male  22.0      1   \n",
              "1  Cumings, Mrs. John Bradley (Florence Briggs Th...  female  38.0      1   \n",
              "2                             Heikkinen, Miss. Laina  female  26.0      0   \n",
              "3       Futrelle, Mrs. Jacques Heath (Lily May Peel)  female  35.0      1   \n",
              "4                           Allen, Mr. William Henry    male  35.0      0   \n",
              "\n",
              "   Parch            Ticket     Fare Cabin Embarked  CabinYN  \n",
              "0      0         A/5 21171   7.2500   NaN        S        0  \n",
              "1      0          PC 17599  71.2833   C85        C        1  \n",
              "2      0  STON/O2. 3101282   7.9250   NaN        S        0  \n",
              "3      0            113803  53.1000  C123        S        1  \n",
              "4      0            373450   8.0500   NaN        S        0  "
            ],
            "text/html": [
              "\n",
              "  <div id=\"df-421356c5-b8e0-4db7-81a3-ee0b8c2390cf\">\n",
              "    <div class=\"colab-df-container\">\n",
              "      <div>\n",
              "<style scoped>\n",
              "    .dataframe tbody tr th:only-of-type {\n",
              "        vertical-align: middle;\n",
              "    }\n",
              "\n",
              "    .dataframe tbody tr th {\n",
              "        vertical-align: top;\n",
              "    }\n",
              "\n",
              "    .dataframe thead th {\n",
              "        text-align: right;\n",
              "    }\n",
              "</style>\n",
              "<table border=\"1\" class=\"dataframe\">\n",
              "  <thead>\n",
              "    <tr style=\"text-align: right;\">\n",
              "      <th></th>\n",
              "      <th>PassengerId</th>\n",
              "      <th>Survived</th>\n",
              "      <th>Pclass</th>\n",
              "      <th>Name</th>\n",
              "      <th>Sex</th>\n",
              "      <th>Age</th>\n",
              "      <th>SibSp</th>\n",
              "      <th>Parch</th>\n",
              "      <th>Ticket</th>\n",
              "      <th>Fare</th>\n",
              "      <th>Cabin</th>\n",
              "      <th>Embarked</th>\n",
              "      <th>CabinYN</th>\n",
              "    </tr>\n",
              "  </thead>\n",
              "  <tbody>\n",
              "    <tr>\n",
              "      <th>0</th>\n",
              "      <td>1</td>\n",
              "      <td>0</td>\n",
              "      <td>3</td>\n",
              "      <td>Braund, Mr. Owen Harris</td>\n",
              "      <td>male</td>\n",
              "      <td>22.0</td>\n",
              "      <td>1</td>\n",
              "      <td>0</td>\n",
              "      <td>A/5 21171</td>\n",
              "      <td>7.2500</td>\n",
              "      <td>NaN</td>\n",
              "      <td>S</td>\n",
              "      <td>0</td>\n",
              "    </tr>\n",
              "    <tr>\n",
              "      <th>1</th>\n",
              "      <td>2</td>\n",
              "      <td>1</td>\n",
              "      <td>1</td>\n",
              "      <td>Cumings, Mrs. John Bradley (Florence Briggs Th...</td>\n",
              "      <td>female</td>\n",
              "      <td>38.0</td>\n",
              "      <td>1</td>\n",
              "      <td>0</td>\n",
              "      <td>PC 17599</td>\n",
              "      <td>71.2833</td>\n",
              "      <td>C85</td>\n",
              "      <td>C</td>\n",
              "      <td>1</td>\n",
              "    </tr>\n",
              "    <tr>\n",
              "      <th>2</th>\n",
              "      <td>3</td>\n",
              "      <td>1</td>\n",
              "      <td>3</td>\n",
              "      <td>Heikkinen, Miss. Laina</td>\n",
              "      <td>female</td>\n",
              "      <td>26.0</td>\n",
              "      <td>0</td>\n",
              "      <td>0</td>\n",
              "      <td>STON/O2. 3101282</td>\n",
              "      <td>7.9250</td>\n",
              "      <td>NaN</td>\n",
              "      <td>S</td>\n",
              "      <td>0</td>\n",
              "    </tr>\n",
              "    <tr>\n",
              "      <th>3</th>\n",
              "      <td>4</td>\n",
              "      <td>1</td>\n",
              "      <td>1</td>\n",
              "      <td>Futrelle, Mrs. Jacques Heath (Lily May Peel)</td>\n",
              "      <td>female</td>\n",
              "      <td>35.0</td>\n",
              "      <td>1</td>\n",
              "      <td>0</td>\n",
              "      <td>113803</td>\n",
              "      <td>53.1000</td>\n",
              "      <td>C123</td>\n",
              "      <td>S</td>\n",
              "      <td>1</td>\n",
              "    </tr>\n",
              "    <tr>\n",
              "      <th>4</th>\n",
              "      <td>5</td>\n",
              "      <td>0</td>\n",
              "      <td>3</td>\n",
              "      <td>Allen, Mr. William Henry</td>\n",
              "      <td>male</td>\n",
              "      <td>35.0</td>\n",
              "      <td>0</td>\n",
              "      <td>0</td>\n",
              "      <td>373450</td>\n",
              "      <td>8.0500</td>\n",
              "      <td>NaN</td>\n",
              "      <td>S</td>\n",
              "      <td>0</td>\n",
              "    </tr>\n",
              "  </tbody>\n",
              "</table>\n",
              "</div>\n",
              "      <button class=\"colab-df-convert\" onclick=\"convertToInteractive('df-421356c5-b8e0-4db7-81a3-ee0b8c2390cf')\"\n",
              "              title=\"Convert this dataframe to an interactive table.\"\n",
              "              style=\"display:none;\">\n",
              "        \n",
              "  <svg xmlns=\"http://www.w3.org/2000/svg\" height=\"24px\"viewBox=\"0 0 24 24\"\n",
              "       width=\"24px\">\n",
              "    <path d=\"M0 0h24v24H0V0z\" fill=\"none\"/>\n",
              "    <path d=\"M18.56 5.44l.94 2.06.94-2.06 2.06-.94-2.06-.94-.94-2.06-.94 2.06-2.06.94zm-11 1L8.5 8.5l.94-2.06 2.06-.94-2.06-.94L8.5 2.5l-.94 2.06-2.06.94zm10 10l.94 2.06.94-2.06 2.06-.94-2.06-.94-.94-2.06-.94 2.06-2.06.94z\"/><path d=\"M17.41 7.96l-1.37-1.37c-.4-.4-.92-.59-1.43-.59-.52 0-1.04.2-1.43.59L10.3 9.45l-7.72 7.72c-.78.78-.78 2.05 0 2.83L4 21.41c.39.39.9.59 1.41.59.51 0 1.02-.2 1.41-.59l7.78-7.78 2.81-2.81c.8-.78.8-2.07 0-2.86zM5.41 20L4 18.59l7.72-7.72 1.47 1.35L5.41 20z\"/>\n",
              "  </svg>\n",
              "      </button>\n",
              "      \n",
              "  <style>\n",
              "    .colab-df-container {\n",
              "      display:flex;\n",
              "      flex-wrap:wrap;\n",
              "      gap: 12px;\n",
              "    }\n",
              "\n",
              "    .colab-df-convert {\n",
              "      background-color: #E8F0FE;\n",
              "      border: none;\n",
              "      border-radius: 50%;\n",
              "      cursor: pointer;\n",
              "      display: none;\n",
              "      fill: #1967D2;\n",
              "      height: 32px;\n",
              "      padding: 0 0 0 0;\n",
              "      width: 32px;\n",
              "    }\n",
              "\n",
              "    .colab-df-convert:hover {\n",
              "      background-color: #E2EBFA;\n",
              "      box-shadow: 0px 1px 2px rgba(60, 64, 67, 0.3), 0px 1px 3px 1px rgba(60, 64, 67, 0.15);\n",
              "      fill: #174EA6;\n",
              "    }\n",
              "\n",
              "    [theme=dark] .colab-df-convert {\n",
              "      background-color: #3B4455;\n",
              "      fill: #D2E3FC;\n",
              "    }\n",
              "\n",
              "    [theme=dark] .colab-df-convert:hover {\n",
              "      background-color: #434B5C;\n",
              "      box-shadow: 0px 1px 3px 1px rgba(0, 0, 0, 0.15);\n",
              "      filter: drop-shadow(0px 1px 2px rgba(0, 0, 0, 0.3));\n",
              "      fill: #FFFFFF;\n",
              "    }\n",
              "  </style>\n",
              "\n",
              "      <script>\n",
              "        const buttonEl =\n",
              "          document.querySelector('#df-421356c5-b8e0-4db7-81a3-ee0b8c2390cf button.colab-df-convert');\n",
              "        buttonEl.style.display =\n",
              "          google.colab.kernel.accessAllowed ? 'block' : 'none';\n",
              "\n",
              "        async function convertToInteractive(key) {\n",
              "          const element = document.querySelector('#df-421356c5-b8e0-4db7-81a3-ee0b8c2390cf');\n",
              "          const dataTable =\n",
              "            await google.colab.kernel.invokeFunction('convertToInteractive',\n",
              "                                                     [key], {});\n",
              "          if (!dataTable) return;\n",
              "\n",
              "          const docLinkHtml = 'Like what you see? Visit the ' +\n",
              "            '<a target=\"_blank\" href=https://colab.research.google.com/notebooks/data_table.ipynb>data table notebook</a>'\n",
              "            + ' to learn more about interactive tables.';\n",
              "          element.innerHTML = '';\n",
              "          dataTable['output_type'] = 'display_data';\n",
              "          await google.colab.output.renderOutput(dataTable, element);\n",
              "          const docLink = document.createElement('div');\n",
              "          docLink.innerHTML = docLinkHtml;\n",
              "          element.appendChild(docLink);\n",
              "        }\n",
              "      </script>\n",
              "    </div>\n",
              "  </div>\n",
              "  "
            ]
          },
          "metadata": {},
          "execution_count": 22
        }
      ]
    },
    {
      "cell_type": "markdown",
      "source": [
        "# Descritiva Básica Univariada:"
      ],
      "metadata": {
        "id": "qftfrwOir4DG"
      }
    },
    {
      "cell_type": "code",
      "source": [
        "fig, ax = plt.subplots(nrows=4, ncols=2, figsize=(17,24))\n",
        "\n",
        "sns.countplot(data=df_train, x='Survived', palette='mako', ax=ax[0,0])\n",
        "ax[0,0].set_title('Quantidade de passageiros que sobreviveram e não sobreviveram')\n",
        "\n",
        "sns.countplot(data=df_train, x='Pclass', palette='mako', ax=ax[0,1])\n",
        "ax[0,1].set_title('Quantidade de passageiros em cada Classe')\n",
        "\n",
        "sns.countplot(data=df_train, x='Sex', palette='mako', ax=ax[1,0])\n",
        "ax[1,0].set_title('Quantidade de passageiros do sexo feminino e masculino')\n",
        "\n",
        "sns.countplot(data=df_train, x='SibSp', palette='mako', ax=ax[1,1])\n",
        "ax[1,1].set_title('Quantidade de passageiros com irmãos/cônjuges a bordo')\n",
        "\n",
        "sns.countplot(data=df_train, x='Parch', palette='mako', ax=ax[2,0])\n",
        "ax[2,0].set_title('Quantidade de passageiros com pais/filhos a bordo')\n",
        "\n",
        "sns.countplot(data=df_train, x='Embarked', palette='mako', ax=ax[2,1])\n",
        "ax[2,1].set_title('Quantidade de passageiros embarcados em cada porto de embarcação')\n",
        "\n",
        "sns.countplot(data=df_train, x='CabinYN', palette='mako', ax=ax[3,0])\n",
        "ax[3,0].set_title('Quantidade de passageiros com e sem cabines')\n",
        "\n",
        "ax[3,1].axis('off')"
      ],
      "metadata": {
        "colab": {
          "base_uri": "https://localhost:8080/",
          "height": 1000
        },
        "id": "OGPY4WCU0jyV",
        "outputId": "e69da102-5592-4bfe-d863-beab934376e4"
      },
      "execution_count": 23,
      "outputs": [
        {
          "output_type": "execute_result",
          "data": {
            "text/plain": [
              "(0.0, 1.0, 0.0, 1.0)"
            ]
          },
          "metadata": {},
          "execution_count": 23
        },
        {
          "output_type": "display_data",
          "data": {
            "text/plain": [
              "<Figure size 1224x1728 with 8 Axes>"
            ],
            "image/png": "[encoded data removed]"
          },
          "metadata": {
            "needs_background": "light"
          }
        }
      ]
    },
    {
      "cell_type": "markdown",
      "source": [
        "**Comentário:** Já obtemos algumas informações, a maioria dos passageiros não sobreviveu, passageiros da terceira classe eram maioria, muito mais homens do que mulheres a bordo, a grande maioria dos passageiros não possuiam irmãos/cônjuges a bordo e/ou pais/filhos a bordo, a maioria dos passageiros embarcaram no porto de Southampton e não possuiam cabines."
      ],
      "metadata": {
        "id": "jhNc2501QX11"
      }
    },
    {
      "cell_type": "code",
      "source": [
        "fig, ax = plt.subplots(nrows=3, ncols=1, figsize=(17,25))\n",
        "\n",
        "sns.histplot(data=df_train, x='Age', palette='mako', bins=50, ax=ax[0])\n",
        "ax[0].set_title('Quantidade de passageiros por idade')\n",
        "\n",
        "sns.histplot(data=df_train, x='Fare', palette='dark', bins=100, ax=ax[1])\n",
        "ax[1].set_title('Quantidade de passageiros por valor da passagem')\n",
        "\n",
        "sns.histplot(data=df_train[df_train.Fare<50], x='Fare', palette='dark', bins=100, ax=ax[2])\n",
        "ax[2].set_title('Quantidade de passageiros por valor da passagem menores que 50')"
      ],
      "metadata": {
        "colab": {
          "base_uri": "https://localhost:8080/",
          "height": 1000
        },
        "id": "fLivmg5UxkoE",
        "outputId": "86ace84f-5035-49ea-8913-95b07058df2a"
      },
      "execution_count": 24,
      "outputs": [
        {
          "output_type": "execute_result",
          "data": {
            "text/plain": [
              "Text(0.5, 1.0, 'Quantidade de passageiros por valor da passagem menores que 50')"
            ]
          },
          "metadata": {},
          "execution_count": 24
        },
        {
          "output_type": "display_data",
          "data": {
            "text/plain": [
              "<Figure size 1224x1800 with 3 Axes>"
            ],
            "image/png": "[encoded data removed]"
          },
          "metadata": {
            "needs_background": "light"
          }
        }
      ]
    },
    {
      "cell_type": "markdown",
      "source": [
        "**Comentário:** Maior densidade de passageiros entre 15 a 40 anos e a grande maioria das passagens estão na faixa de valor abaixo de 10."
      ],
      "metadata": {
        "id": "QDUP3FBxRY9C"
      }
    },
    {
      "cell_type": "markdown",
      "source": [
        "# Descritiva Bivariada:"
      ],
      "metadata": {
        "id": "Hp91VMOeMjyy"
      }
    },
    {
      "cell_type": "code",
      "source": [
        "fig, ax = plt.subplots(nrows=3, ncols=2, figsize=(17,20))\n",
        "\n",
        "sns.countplot(data=df_train, x='Pclass', palette='mako', hue='Survived', ax=ax[0,0])\n",
        "ax[0,0].set_title('Quantidade de passageiros em cada Classe')\n",
        "\n",
        "sns.countplot(data=df_train, x='Sex', palette='mako', hue='Survived', ax=ax[0,1])\n",
        "ax[0,1].set_title('Quantidade de passageiros do sexo feminino e masculino')\n",
        "\n",
        "sns.countplot(data=df_train, x='SibSp', palette='mako', hue='Survived', ax=ax[1,0])\n",
        "ax[1,0].set_title('Quantidade de passageiros com irmãos/cônjuges a bordo')\n",
        "\n",
        "sns.countplot(data=df_train, x='Parch', palette='mako', hue='Survived', ax=ax[1,1])\n",
        "ax[1,1].set_title('Quantidade de passageiros com pais/filhos a bordo')\n",
        "\n",
        "sns.countplot(data=df_train, x='Embarked', palette='mako', hue='Survived', ax=ax[2,0])\n",
        "ax[2,0].set_title('Quantidade de passageiros embarcados em cada porto de embarcação')\n",
        "\n",
        "sns.countplot(data=df_train, x='CabinYN', palette='mako', hue='Survived', ax=ax[2,1])\n",
        "ax[2,1].set_title('Quantidade de passageiros com e sem cabines')"
      ],
      "metadata": {
        "colab": {
          "base_uri": "https://localhost:8080/",
          "height": 1000
        },
        "id": "rs79QAl-82Kk",
        "outputId": "7fa60879-553a-4489-cdd7-7ee21e974914"
      },
      "execution_count": 25,
      "outputs": [
        {
          "output_type": "execute_result",
          "data": {
            "text/plain": [
              "Text(0.5, 1.0, 'Quantidade de passageiros com e sem cabines')"
            ]
          },
          "metadata": {},
          "execution_count": 25
        },
        {
          "output_type": "display_data",
          "data": {
            "text/plain": [
              "<Figure size 1224x1440 with 6 Axes>"
            ],
            "image/png": "[encoded data removed]"
          },
          "metadata": {
            "needs_background": "light"
          }
        }
      ]
    },
    {
      "cell_type": "code",
      "source": [
        "fig, ax = plt.subplots(nrows=3, ncols=2, figsize=(17,20))\n",
        "\n",
        "sns.lineplot(data=df_train, x='Pclass', y='Survived', palette='mako', ax=ax[0,0], marker='o')\n",
        "ax[0,0].set_title('Proporção de sobreviventes para cada Classe')\n",
        "ax[0,0].set_ylabel(\"Proporção de sobreviventes\")\n",
        "\n",
        "sns.lineplot(data=df_train, x='Sex', y='Survived', palette='mako', ax=ax[0,1], marker='o')\n",
        "ax[0,1].set_title('Proporção de sobreviventes para cada sexo')\n",
        "ax[0,1].set_ylabel(\"Proporção de sobreviventes\")\n",
        "\n",
        "sns.lineplot(data=df_train, x='SibSp', y='Survived', palette='mako', ax=ax[1,0], marker='o')\n",
        "ax[1,0].set_title('Proporção de sobreviventes para passageiros com irmãos/cônjuges a bordo')\n",
        "ax[1,0].set_ylabel(\"Proporção de sobreviventes\")\n",
        "\n",
        "sns.lineplot(data=df_train, x='Parch', y='Survived', palette='mako', ax=ax[1,1], marker='o')\n",
        "ax[1,1].set_title('Proporção de sobreviventes por passageiros com pais/filhos a bordo')\n",
        "ax[1,1].set_ylabel(\"Proporção de sobreviventes\")\n",
        "\n",
        "sns.lineplot(data=df_train, x='Embarked', y='Survived', palette='mako', ax=ax[2,0], marker='o')\n",
        "ax[2,0].set_title('Proporção de sobreviventes por cada porto de embarcação')\n",
        "ax[2,0].set_ylabel(\"Proporção de sobreviventes\")\n",
        "\n",
        "sns.lineplot(data=df_train, x='CabinYN', y='Survived', palette='mako', ax=ax[2,1], marker='o')\n",
        "ax[2,1].set_title('Proporção de sobreviventes que possuiam ou não cabine')\n",
        "ax[2,1].set_ylabel(\"Proporção de sobreviventes\")"
      ],
      "metadata": {
        "colab": {
          "base_uri": "https://localhost:8080/",
          "height": 1000
        },
        "id": "3LQXKhEi201j",
        "outputId": "86a933dd-4425-47a6-8815-bb5f95ec32fe"
      },
      "execution_count": 26,
      "outputs": [
        {
          "output_type": "execute_result",
          "data": {
            "text/plain": [
              "Text(0, 0.5, 'Proporção de sobreviventes')"
            ]
          },
          "metadata": {},
          "execution_count": 26
        },
        {
          "output_type": "display_data",
          "data": {
            "text/plain": [
              "<Figure size 1224x1440 with 6 Axes>"
            ],
            "image/png": "[encoded data removed]"
          },
          "metadata": {
            "needs_background": "light"
          }
        }
      ]
    },
    {
      "cell_type": "markdown",
      "source": [
        "**Comentário:** *Pclass*, *Sex* e *CabinYN* são variáveis que parecem ter valor estatístico para indentificar diferentes entre sobreviventes e não sobreviventes, as demais não parecem apresentar uma tendência a informar mais precisamente sobre sobreviventes."
      ],
      "metadata": {
        "id": "9GQDO8JGSmdp"
      }
    },
    {
      "cell_type": "code",
      "source": [
        "fig, ax = plt.subplots(figsize=(13,7))\n",
        "\n",
        "cat_1, bins = pd.qcut(df_train['Age'], 30, retbins=True)\n",
        "df_1 = df_train.groupby(cat_1)\n",
        "biv = df_1['Survived'].mean()\n",
        "\n",
        "ax = biv.plot.line(marker='o')\n",
        "ax.set_ylabel(\"Proporção de sobreviventes\")\n",
        "ticks = plt.xticks(range(len(biv.index.values)), biv.index.values, rotation = 90)\n",
        "ax.set_title('Proporção de sobreviventes para intervalos de idade')"
      ],
      "metadata": {
        "colab": {
          "base_uri": "https://localhost:8080/",
          "height": 526
        },
        "id": "9e69c1U5Naux",
        "outputId": "82087f85-80f2-4fa2-dbc9-21ca76678d34"
      },
      "execution_count": 27,
      "outputs": [
        {
          "output_type": "execute_result",
          "data": {
            "text/plain": [
              "Text(0.5, 1.0, 'Proporção de sobreviventes para intervalos de idade')"
            ]
          },
          "metadata": {},
          "execution_count": 27
        },
        {
          "output_type": "display_data",
          "data": {
            "text/plain": [
              "<Figure size 936x504 with 1 Axes>"
            ],
            "image/png": "[encoded data removed]"
          },
          "metadata": {
            "needs_background": "light"
          }
        }
      ]
    },
    {
      "cell_type": "markdown",
      "source": [
        "**Comentário:** A variável *Age* não parece fornecer uma correlação boa com a variável *Survived*."
      ],
      "metadata": {
        "id": "oXUY4UxXTN5q"
      }
    },
    {
      "cell_type": "code",
      "source": [
        "fig, ax = plt.subplots(figsize=(13,7))\n",
        "\n",
        "cat_1, bins = pd.qcut(df_train['Fare'], 30, retbins=True)\n",
        "df_1 = df_train.groupby(cat_1)\n",
        "biv = df_1['Survived'].mean()\n",
        "\n",
        "ax = biv.plot.line(marker='o')\n",
        "ax.set_ylabel(\"Proporção de inadimplentes\")\n",
        "ticks = plt.xticks(range(len(biv.index.values)), biv.index.values, rotation = 90)\n",
        "ax.set_title('Proporção de sobreviventes para intervalos de valor da passagem')"
      ],
      "metadata": {
        "colab": {
          "base_uri": "https://localhost:8080/",
          "height": 549
        },
        "id": "2bVg8_o1PPi6",
        "outputId": "5213f7aa-a3b3-4728-a0b3-575b67f2591a"
      },
      "execution_count": 28,
      "outputs": [
        {
          "output_type": "execute_result",
          "data": {
            "text/plain": [
              "Text(0.5, 1.0, 'Proporção de sobreviventes para intervalos de valor da passagem')"
            ]
          },
          "metadata": {},
          "execution_count": 28
        },
        {
          "output_type": "display_data",
          "data": {
            "text/plain": [
              "<Figure size 936x504 with 1 Axes>"
            ],
            "image/png": "[encoded data removed]"
          },
          "metadata": {
            "needs_background": "light"
          }
        }
      ]
    },
    {
      "cell_type": "markdown",
      "source": [
        "**Comentário:** A variável *Fare* não parece fornecer uma correlação boa com a variável *Survived*."
      ],
      "metadata": {
        "id": "gs_0KfBXTcyZ"
      }
    },
    {
      "cell_type": "markdown",
      "source": [
        "# Desenvolvimento do Modelo"
      ],
      "metadata": {
        "id": "IOnMJ1JRThog"
      }
    },
    {
      "cell_type": "markdown",
      "source": [
        "Retirando colunas do Dataframe que não são interessantes para uma modelagem:"
      ],
      "metadata": {
        "id": "KpRrSklUUvPS"
      }
    },
    {
      "cell_type": "code",
      "source": [
        "data = df_train.drop(columns = ['PassengerId', 'Name', 'Ticket', 'Cabin'], axis=1)"
      ],
      "metadata": {
        "id": "ZojAxk7fTe4Z"
      },
      "execution_count": 29,
      "outputs": []
    },
    {
      "cell_type": "code",
      "source": [
        "data.head(2)"
      ],
      "metadata": {
        "colab": {
          "base_uri": "https://localhost:8080/",
          "height": 112
        },
        "id": "J6YiDj6WVcHR",
        "outputId": "17a1cd39-12b8-4669-866c-4ac2c0d1da08"
      },
      "execution_count": 30,
      "outputs": [
        {
          "output_type": "execute_result",
          "data": {
            "text/plain": [
              "   Survived Pclass     Sex   Age  SibSp  Parch     Fare Embarked  CabinYN\n",
              "0         0      3    male  22.0      1      0   7.2500        S        0\n",
              "1         1      1  female  38.0      1      0  71.2833        C        1"
            ],
            "text/html": [
              "\n",
              "  <div id=\"df-04185bbd-1a6f-4e98-b0aa-925edf149602\">\n",
              "    <div class=\"colab-df-container\">\n",
              "      <div>\n",
              "<style scoped>\n",
              "    .dataframe tbody tr th:only-of-type {\n",
              "        vertical-align: middle;\n",
              "    }\n",
              "\n",
              "    .dataframe tbody tr th {\n",
              "        vertical-align: top;\n",
              "    }\n",
              "\n",
              "    .dataframe thead th {\n",
              "        text-align: right;\n",
              "    }\n",
              "</style>\n",
              "<table border=\"1\" class=\"dataframe\">\n",
              "  <thead>\n",
              "    <tr style=\"text-align: right;\">\n",
              "      <th></th>\n",
              "      <th>Survived</th>\n",
              "      <th>Pclass</th>\n",
              "      <th>Sex</th>\n",
              "      <th>Age</th>\n",
              "      <th>SibSp</th>\n",
              "      <th>Parch</th>\n",
              "      <th>Fare</th>\n",
              "      <th>Embarked</th>\n",
              "      <th>CabinYN</th>\n",
              "    </tr>\n",
              "  </thead>\n",
              "  <tbody>\n",
              "    <tr>\n",
              "      <th>0</th>\n",
              "      <td>0</td>\n",
              "      <td>3</td>\n",
              "      <td>male</td>\n",
              "      <td>22.0</td>\n",
              "      <td>1</td>\n",
              "      <td>0</td>\n",
              "      <td>7.2500</td>\n",
              "      <td>S</td>\n",
              "      <td>0</td>\n",
              "    </tr>\n",
              "    <tr>\n",
              "      <th>1</th>\n",
              "      <td>1</td>\n",
              "      <td>1</td>\n",
              "      <td>female</td>\n",
              "      <td>38.0</td>\n",
              "      <td>1</td>\n",
              "      <td>0</td>\n",
              "      <td>71.2833</td>\n",
              "      <td>C</td>\n",
              "      <td>1</td>\n",
              "    </tr>\n",
              "  </tbody>\n",
              "</table>\n",
              "</div>\n",
              "      <button class=\"colab-df-convert\" onclick=\"convertToInteractive('df-04185bbd-1a6f-4e98-b0aa-925edf149602')\"\n",
              "              title=\"Convert this dataframe to an interactive table.\"\n",
              "              style=\"display:none;\">\n",
              "        \n",
              "  <svg xmlns=\"http://www.w3.org/2000/svg\" height=\"24px\"viewBox=\"0 0 24 24\"\n",
              "       width=\"24px\">\n",
              "    <path d=\"M0 0h24v24H0V0z\" fill=\"none\"/>\n",
              "    <path d=\"M18.56 5.44l.94 2.06.94-2.06 2.06-.94-2.06-.94-.94-2.06-.94 2.06-2.06.94zm-11 1L8.5 8.5l.94-2.06 2.06-.94-2.06-.94L8.5 2.5l-.94 2.06-2.06.94zm10 10l.94 2.06.94-2.06 2.06-.94-2.06-.94-.94-2.06-.94 2.06-2.06.94z\"/><path d=\"M17.41 7.96l-1.37-1.37c-.4-.4-.92-.59-1.43-.59-.52 0-1.04.2-1.43.59L10.3 9.45l-7.72 7.72c-.78.78-.78 2.05 0 2.83L4 21.41c.39.39.9.59 1.41.59.51 0 1.02-.2 1.41-.59l7.78-7.78 2.81-2.81c.8-.78.8-2.07 0-2.86zM5.41 20L4 18.59l7.72-7.72 1.47 1.35L5.41 20z\"/>\n",
              "  </svg>\n",
              "      </button>\n",
              "      \n",
              "  <style>\n",
              "    .colab-df-container {\n",
              "      display:flex;\n",
              "      flex-wrap:wrap;\n",
              "      gap: 12px;\n",
              "    }\n",
              "\n",
              "    .colab-df-convert {\n",
              "      background-color: #E8F0FE;\n",
              "      border: none;\n",
              "      border-radius: 50%;\n",
              "      cursor: pointer;\n",
              "      display: none;\n",
              "      fill: #1967D2;\n",
              "      height: 32px;\n",
              "      padding: 0 0 0 0;\n",
              "      width: 32px;\n",
              "    }\n",
              "\n",
              "    .colab-df-convert:hover {\n",
              "      background-color: #E2EBFA;\n",
              "      box-shadow: 0px 1px 2px rgba(60, 64, 67, 0.3), 0px 1px 3px 1px rgba(60, 64, 67, 0.15);\n",
              "      fill: #174EA6;\n",
              "    }\n",
              "\n",
              "    [theme=dark] .colab-df-convert {\n",
              "      background-color: #3B4455;\n",
              "      fill: #D2E3FC;\n",
              "    }\n",
              "\n",
              "    [theme=dark] .colab-df-convert:hover {\n",
              "      background-color: #434B5C;\n",
              "      box-shadow: 0px 1px 3px 1px rgba(0, 0, 0, 0.15);\n",
              "      filter: drop-shadow(0px 1px 2px rgba(0, 0, 0, 0.3));\n",
              "      fill: #FFFFFF;\n",
              "    }\n",
              "  </style>\n",
              "\n",
              "      <script>\n",
              "        const buttonEl =\n",
              "          document.querySelector('#df-04185bbd-1a6f-4e98-b0aa-925edf149602 button.colab-df-convert');\n",
              "        buttonEl.style.display =\n",
              "          google.colab.kernel.accessAllowed ? 'block' : 'none';\n",
              "\n",
              "        async function convertToInteractive(key) {\n",
              "          const element = document.querySelector('#df-04185bbd-1a6f-4e98-b0aa-925edf149602');\n",
              "          const dataTable =\n",
              "            await google.colab.kernel.invokeFunction('convertToInteractive',\n",
              "                                                     [key], {});\n",
              "          if (!dataTable) return;\n",
              "\n",
              "          const docLinkHtml = 'Like what you see? Visit the ' +\n",
              "            '<a target=\"_blank\" href=https://colab.research.google.com/notebooks/data_table.ipynb>data table notebook</a>'\n",
              "            + ' to learn more about interactive tables.';\n",
              "          element.innerHTML = '';\n",
              "          dataTable['output_type'] = 'display_data';\n",
              "          await google.colab.output.renderOutput(dataTable, element);\n",
              "          const docLink = document.createElement('div');\n",
              "          docLink.innerHTML = docLinkHtml;\n",
              "          element.appendChild(docLink);\n",
              "        }\n",
              "      </script>\n",
              "    </div>\n",
              "  </div>\n",
              "  "
            ]
          },
          "metadata": {},
          "execution_count": 30
        }
      ]
    },
    {
      "cell_type": "markdown",
      "source": [
        "Preparação do Ambiente para o Pycaret:"
      ],
      "metadata": {
        "id": "Y9lOYcMQc6f6"
      }
    },
    {
      "cell_type": "code",
      "source": [
        "%%time\n",
        "\n",
        "exp_clf = setup(data=data, \n",
        "                target = 'Survived', \n",
        "                session_id=123, \n",
        "                numeric_imputation = True,\n",
        "                categorical_imputation = 'mode',\n",
        "                fix_imbalance = True,\n",
        "                remove_outliers = True,\n",
        "                outliers_threshold = 0.02) "
      ],
      "metadata": {
        "colab": {
          "base_uri": "https://localhost:8080/",
          "height": 993
        },
        "id": "PI79w-dBVeJw",
        "outputId": "b39421cc-3951-465b-e07e-cdf2b2b84d6e"
      },
      "execution_count": 31,
      "outputs": [
        {
          "output_type": "display_data",
          "data": {
            "text/plain": [
              "<pandas.io.formats.style.Styler at 0x7f1b56e84a30>"
            ],
            "text/html": [
              "<style type=\"text/css\">\n",
              "#T_aceba_row11_col1, #T_aceba_row13_col1, #T_aceba_row18_col1, #T_aceba_row20_col1 {\n",
              "  background-color: lightgreen;\n",
              "}\n",
              "</style>\n",
              "<table id=\"T_aceba_\" class=\"dataframe\">\n",
              "  <thead>\n",
              "    <tr>\n",
              "      <th class=\"blank level0\" >&nbsp;</th>\n",
              "      <th class=\"col_heading level0 col0\" >Description</th>\n",
              "      <th class=\"col_heading level0 col1\" >Value</th>\n",
              "    </tr>\n",
              "  </thead>\n",
              "  <tbody>\n",
              "    <tr>\n",
              "      <th id=\"T_aceba_level0_row0\" class=\"row_heading level0 row0\" >0</th>\n",
              "      <td id=\"T_aceba_row0_col0\" class=\"data row0 col0\" >Session id</td>\n",
              "      <td id=\"T_aceba_row0_col1\" class=\"data row0 col1\" >123</td>\n",
              "    </tr>\n",
              "    <tr>\n",
              "      <th id=\"T_aceba_level0_row1\" class=\"row_heading level0 row1\" >1</th>\n",
              "      <td id=\"T_aceba_row1_col0\" class=\"data row1 col0\" >Target</td>\n",
              "      <td id=\"T_aceba_row1_col1\" class=\"data row1 col1\" >Survived</td>\n",
              "    </tr>\n",
              "    <tr>\n",
              "      <th id=\"T_aceba_level0_row2\" class=\"row_heading level0 row2\" >2</th>\n",
              "      <td id=\"T_aceba_row2_col0\" class=\"data row2 col0\" >Target type</td>\n",
              "      <td id=\"T_aceba_row2_col1\" class=\"data row2 col1\" >Binary</td>\n",
              "    </tr>\n",
              "    <tr>\n",
              "      <th id=\"T_aceba_level0_row3\" class=\"row_heading level0 row3\" >3</th>\n",
              "      <td id=\"T_aceba_row3_col0\" class=\"data row3 col0\" >Original data shape</td>\n",
              "      <td id=\"T_aceba_row3_col1\" class=\"data row3 col1\" >(891, 9)</td>\n",
              "    </tr>\n",
              "    <tr>\n",
              "      <th id=\"T_aceba_level0_row4\" class=\"row_heading level0 row4\" >4</th>\n",
              "      <td id=\"T_aceba_row4_col0\" class=\"data row4 col0\" >Transformed data shape</td>\n",
              "      <td id=\"T_aceba_row4_col1\" class=\"data row4 col1\" >(1027, 13)</td>\n",
              "    </tr>\n",
              "    <tr>\n",
              "      <th id=\"T_aceba_level0_row5\" class=\"row_heading level0 row5\" >5</th>\n",
              "      <td id=\"T_aceba_row5_col0\" class=\"data row5 col0\" >Transformed train set shape</td>\n",
              "      <td id=\"T_aceba_row5_col1\" class=\"data row5 col1\" >(759, 13)</td>\n",
              "    </tr>\n",
              "    <tr>\n",
              "      <th id=\"T_aceba_level0_row6\" class=\"row_heading level0 row6\" >6</th>\n",
              "      <td id=\"T_aceba_row6_col0\" class=\"data row6 col0\" >Transformed test set shape</td>\n",
              "      <td id=\"T_aceba_row6_col1\" class=\"data row6 col1\" >(268, 13)</td>\n",
              "    </tr>\n",
              "    <tr>\n",
              "      <th id=\"T_aceba_level0_row7\" class=\"row_heading level0 row7\" >7</th>\n",
              "      <td id=\"T_aceba_row7_col0\" class=\"data row7 col0\" >Ordinal features</td>\n",
              "      <td id=\"T_aceba_row7_col1\" class=\"data row7 col1\" >1</td>\n",
              "    </tr>\n",
              "    <tr>\n",
              "      <th id=\"T_aceba_level0_row8\" class=\"row_heading level0 row8\" >8</th>\n",
              "      <td id=\"T_aceba_row8_col0\" class=\"data row8 col0\" >Numeric features</td>\n",
              "      <td id=\"T_aceba_row8_col1\" class=\"data row8 col1\" >5</td>\n",
              "    </tr>\n",
              "    <tr>\n",
              "      <th id=\"T_aceba_level0_row9\" class=\"row_heading level0 row9\" >9</th>\n",
              "      <td id=\"T_aceba_row9_col0\" class=\"data row9 col0\" >Categorical features</td>\n",
              "      <td id=\"T_aceba_row9_col1\" class=\"data row9 col1\" >3</td>\n",
              "    </tr>\n",
              "    <tr>\n",
              "      <th id=\"T_aceba_level0_row10\" class=\"row_heading level0 row10\" >10</th>\n",
              "      <td id=\"T_aceba_row10_col0\" class=\"data row10 col0\" >Rows with missing values</td>\n",
              "      <td id=\"T_aceba_row10_col1\" class=\"data row10 col1\" >20.1%</td>\n",
              "    </tr>\n",
              "    <tr>\n",
              "      <th id=\"T_aceba_level0_row11\" class=\"row_heading level0 row11\" >11</th>\n",
              "      <td id=\"T_aceba_row11_col0\" class=\"data row11 col0\" >Preprocess</td>\n",
              "      <td id=\"T_aceba_row11_col1\" class=\"data row11 col1\" >True</td>\n",
              "    </tr>\n",
              "    <tr>\n",
              "      <th id=\"T_aceba_level0_row12\" class=\"row_heading level0 row12\" >12</th>\n",
              "      <td id=\"T_aceba_row12_col0\" class=\"data row12 col0\" >Imputation type</td>\n",
              "      <td id=\"T_aceba_row12_col1\" class=\"data row12 col1\" >simple</td>\n",
              "    </tr>\n",
              "    <tr>\n",
              "      <th id=\"T_aceba_level0_row13\" class=\"row_heading level0 row13\" >13</th>\n",
              "      <td id=\"T_aceba_row13_col0\" class=\"data row13 col0\" >Numeric imputation</td>\n",
              "      <td id=\"T_aceba_row13_col1\" class=\"data row13 col1\" >True</td>\n",
              "    </tr>\n",
              "    <tr>\n",
              "      <th id=\"T_aceba_level0_row14\" class=\"row_heading level0 row14\" >14</th>\n",
              "      <td id=\"T_aceba_row14_col0\" class=\"data row14 col0\" >Categorical imputation</td>\n",
              "      <td id=\"T_aceba_row14_col1\" class=\"data row14 col1\" >mode</td>\n",
              "    </tr>\n",
              "    <tr>\n",
              "      <th id=\"T_aceba_level0_row15\" class=\"row_heading level0 row15\" >15</th>\n",
              "      <td id=\"T_aceba_row15_col0\" class=\"data row15 col0\" >Maximum one-hot encoding</td>\n",
              "      <td id=\"T_aceba_row15_col1\" class=\"data row15 col1\" >5</td>\n",
              "    </tr>\n",
              "    <tr>\n",
              "      <th id=\"T_aceba_level0_row16\" class=\"row_heading level0 row16\" >16</th>\n",
              "      <td id=\"T_aceba_row16_col0\" class=\"data row16 col0\" >Encoding method</td>\n",
              "      <td id=\"T_aceba_row16_col1\" class=\"data row16 col1\" >None</td>\n",
              "    </tr>\n",
              "    <tr>\n",
              "      <th id=\"T_aceba_level0_row17\" class=\"row_heading level0 row17\" >17</th>\n",
              "      <td id=\"T_aceba_row17_col0\" class=\"data row17 col0\" >Low variance threshold</td>\n",
              "      <td id=\"T_aceba_row17_col1\" class=\"data row17 col1\" >0</td>\n",
              "    </tr>\n",
              "    <tr>\n",
              "      <th id=\"T_aceba_level0_row18\" class=\"row_heading level0 row18\" >18</th>\n",
              "      <td id=\"T_aceba_row18_col0\" class=\"data row18 col0\" >Remove outliers</td>\n",
              "      <td id=\"T_aceba_row18_col1\" class=\"data row18 col1\" >True</td>\n",
              "    </tr>\n",
              "    <tr>\n",
              "      <th id=\"T_aceba_level0_row19\" class=\"row_heading level0 row19\" >19</th>\n",
              "      <td id=\"T_aceba_row19_col0\" class=\"data row19 col0\" >Outliers threshold</td>\n",
              "      <td id=\"T_aceba_row19_col1\" class=\"data row19 col1\" >0.020000</td>\n",
              "    </tr>\n",
              "    <tr>\n",
              "      <th id=\"T_aceba_level0_row20\" class=\"row_heading level0 row20\" >20</th>\n",
              "      <td id=\"T_aceba_row20_col0\" class=\"data row20 col0\" >Fix imbalance</td>\n",
              "      <td id=\"T_aceba_row20_col1\" class=\"data row20 col1\" >True</td>\n",
              "    </tr>\n",
              "    <tr>\n",
              "      <th id=\"T_aceba_level0_row21\" class=\"row_heading level0 row21\" >21</th>\n",
              "      <td id=\"T_aceba_row21_col0\" class=\"data row21 col0\" >Fix imbalance method</td>\n",
              "      <td id=\"T_aceba_row21_col1\" class=\"data row21 col1\" >SMOTE</td>\n",
              "    </tr>\n",
              "    <tr>\n",
              "      <th id=\"T_aceba_level0_row22\" class=\"row_heading level0 row22\" >22</th>\n",
              "      <td id=\"T_aceba_row22_col0\" class=\"data row22 col0\" >Fold Generator</td>\n",
              "      <td id=\"T_aceba_row22_col1\" class=\"data row22 col1\" >StratifiedKFold</td>\n",
              "    </tr>\n",
              "    <tr>\n",
              "      <th id=\"T_aceba_level0_row23\" class=\"row_heading level0 row23\" >23</th>\n",
              "      <td id=\"T_aceba_row23_col0\" class=\"data row23 col0\" >Fold Number</td>\n",
              "      <td id=\"T_aceba_row23_col1\" class=\"data row23 col1\" >10</td>\n",
              "    </tr>\n",
              "    <tr>\n",
              "      <th id=\"T_aceba_level0_row24\" class=\"row_heading level0 row24\" >24</th>\n",
              "      <td id=\"T_aceba_row24_col0\" class=\"data row24 col0\" >CPU Jobs</td>\n",
              "      <td id=\"T_aceba_row24_col1\" class=\"data row24 col1\" >-1</td>\n",
              "    </tr>\n",
              "    <tr>\n",
              "      <th id=\"T_aceba_level0_row25\" class=\"row_heading level0 row25\" >25</th>\n",
              "      <td id=\"T_aceba_row25_col0\" class=\"data row25 col0\" >Use GPU</td>\n",
              "      <td id=\"T_aceba_row25_col1\" class=\"data row25 col1\" >False</td>\n",
              "    </tr>\n",
              "    <tr>\n",
              "      <th id=\"T_aceba_level0_row26\" class=\"row_heading level0 row26\" >26</th>\n",
              "      <td id=\"T_aceba_row26_col0\" class=\"data row26 col0\" >Log Experiment</td>\n",
              "      <td id=\"T_aceba_row26_col1\" class=\"data row26 col1\" >False</td>\n",
              "    </tr>\n",
              "    <tr>\n",
              "      <th id=\"T_aceba_level0_row27\" class=\"row_heading level0 row27\" >27</th>\n",
              "      <td id=\"T_aceba_row27_col0\" class=\"data row27 col0\" >Experiment Name</td>\n",
              "      <td id=\"T_aceba_row27_col1\" class=\"data row27 col1\" >clf-default-name</td>\n",
              "    </tr>\n",
              "    <tr>\n",
              "      <th id=\"T_aceba_level0_row28\" class=\"row_heading level0 row28\" >28</th>\n",
              "      <td id=\"T_aceba_row28_col0\" class=\"data row28 col0\" >USI</td>\n",
              "      <td id=\"T_aceba_row28_col1\" class=\"data row28 col1\" >183a</td>\n",
              "    </tr>\n",
              "  </tbody>\n",
              "</table>\n"
            ]
          },
          "metadata": {}
        },
        {
          "output_type": "stream",
          "name": "stdout",
          "text": [
            "CPU times: user 6.44 s, sys: 85.5 ms, total: 6.52 s\n",
            "Wall time: 8.94 s\n"
          ]
        }
      ]
    },
    {
      "cell_type": "markdown",
      "source": [
        "Comparação rápida entre os modelos para decidirmos qual vamos utilizar:"
      ],
      "metadata": {
        "id": "cGVQTYi1dRqq"
      }
    },
    {
      "cell_type": "code",
      "source": [
        "%%time\n",
        "\n",
        "best_model = compare_models(fold=10, sort='Accuracy')"
      ],
      "metadata": {
        "colab": {
          "base_uri": "https://localhost:8080/",
          "height": 523,
          "referenced_widgets": [
            "d6e9b766f6514e58a8c5fd5912347734",
            "56cb6c8bdebd4704be81879db771ecd4",
            "ce8f85335c9145c7ae8d7526e1766ddd",
            "3df57604670c4f35b3f07e1e69f70bf7",
            "bbca9bd8dd994736b034b4a0903a0fae",
            "c2736cc28f024b718a5ba70b4e38eb73",
            "9677fe646798420596b57e0973c9d154",
            "b974e60b57cc4c368f062a2851bd687b",
            "55f6b53268874442a4c87b114a489f93",
            "1a0bf63c95fa498f936e3a8f50d8871f",
            "910fdabd8b494a73a27b1360957a2ff9"
          ]
        },
        "id": "itycd2vAXKha",
        "outputId": "62bd5696-60e2-447d-bcb5-a2d32fe6b80d"
      },
      "execution_count": 32,
      "outputs": [
        {
          "output_type": "display_data",
          "data": {
            "text/plain": [
              "<IPython.core.display.HTML object>"
            ],
            "text/html": []
          },
          "metadata": {}
        },
        {
          "output_type": "display_data",
          "data": {
            "text/plain": [
              "<pandas.io.formats.style.Styler at 0x7f1b627fb280>"
            ],
            "text/html": [
              "<style type=\"text/css\">\n",
              "#T_f386d_ th {\n",
              "  text-align: left;\n",
              "}\n",
              "#T_f386d_row0_col0, #T_f386d_row0_col2, #T_f386d_row0_col3, #T_f386d_row1_col0, #T_f386d_row1_col1, #T_f386d_row1_col2, #T_f386d_row1_col3, #T_f386d_row1_col4, #T_f386d_row1_col5, #T_f386d_row1_col6, #T_f386d_row1_col7, #T_f386d_row2_col0, #T_f386d_row2_col1, #T_f386d_row2_col2, #T_f386d_row2_col3, #T_f386d_row2_col4, #T_f386d_row2_col5, #T_f386d_row2_col6, #T_f386d_row2_col7, #T_f386d_row3_col0, #T_f386d_row3_col1, #T_f386d_row3_col2, #T_f386d_row3_col3, #T_f386d_row3_col4, #T_f386d_row3_col5, #T_f386d_row3_col6, #T_f386d_row3_col7, #T_f386d_row4_col0, #T_f386d_row4_col1, #T_f386d_row4_col3, #T_f386d_row4_col4, #T_f386d_row4_col5, #T_f386d_row4_col6, #T_f386d_row4_col7, #T_f386d_row5_col0, #T_f386d_row5_col1, #T_f386d_row5_col2, #T_f386d_row5_col3, #T_f386d_row5_col4, #T_f386d_row5_col5, #T_f386d_row5_col6, #T_f386d_row5_col7, #T_f386d_row6_col0, #T_f386d_row6_col1, #T_f386d_row6_col2, #T_f386d_row6_col3, #T_f386d_row6_col4, #T_f386d_row6_col5, #T_f386d_row6_col6, #T_f386d_row6_col7, #T_f386d_row7_col0, #T_f386d_row7_col1, #T_f386d_row7_col2, #T_f386d_row7_col4, #T_f386d_row7_col5, #T_f386d_row7_col6, #T_f386d_row7_col7, #T_f386d_row8_col0, #T_f386d_row8_col1, #T_f386d_row8_col2, #T_f386d_row8_col3, #T_f386d_row8_col4, #T_f386d_row8_col5, #T_f386d_row8_col6, #T_f386d_row8_col7, #T_f386d_row9_col0, #T_f386d_row9_col1, #T_f386d_row9_col2, #T_f386d_row9_col3, #T_f386d_row9_col4, #T_f386d_row9_col5, #T_f386d_row9_col6, #T_f386d_row9_col7, #T_f386d_row10_col0, #T_f386d_row10_col1, #T_f386d_row10_col2, #T_f386d_row10_col3, #T_f386d_row10_col4, #T_f386d_row10_col5, #T_f386d_row10_col6, #T_f386d_row10_col7, #T_f386d_row11_col0, #T_f386d_row11_col1, #T_f386d_row11_col2, #T_f386d_row11_col3, #T_f386d_row11_col4, #T_f386d_row11_col5, #T_f386d_row11_col6, #T_f386d_row11_col7, #T_f386d_row12_col0, #T_f386d_row12_col1, #T_f386d_row12_col2, #T_f386d_row12_col3, #T_f386d_row12_col4, #T_f386d_row12_col5, #T_f386d_row12_col6, #T_f386d_row12_col7, #T_f386d_row13_col0, #T_f386d_row13_col1, #T_f386d_row13_col2, #T_f386d_row13_col3, #T_f386d_row13_col4, #T_f386d_row13_col5, #T_f386d_row13_col6, #T_f386d_row13_col7 {\n",
              "  text-align: left;\n",
              "}\n",
              "#T_f386d_row0_col1, #T_f386d_row0_col4, #T_f386d_row0_col5, #T_f386d_row0_col6, #T_f386d_row0_col7, #T_f386d_row4_col2, #T_f386d_row7_col3 {\n",
              "  text-align: left;\n",
              "  background-color: yellow;\n",
              "}\n",
              "#T_f386d_row0_col8, #T_f386d_row1_col8, #T_f386d_row2_col8, #T_f386d_row4_col8, #T_f386d_row5_col8, #T_f386d_row6_col8, #T_f386d_row7_col8, #T_f386d_row8_col8, #T_f386d_row9_col8, #T_f386d_row10_col8, #T_f386d_row11_col8, #T_f386d_row12_col8, #T_f386d_row13_col8 {\n",
              "  text-align: left;\n",
              "  background-color: lightgrey;\n",
              "}\n",
              "#T_f386d_row3_col8 {\n",
              "  text-align: left;\n",
              "  background-color: yellow;\n",
              "  background-color: lightgrey;\n",
              "}\n",
              "</style>\n",
              "<table id=\"T_f386d_\" class=\"dataframe\">\n",
              "  <thead>\n",
              "    <tr>\n",
              "      <th class=\"blank level0\" >&nbsp;</th>\n",
              "      <th class=\"col_heading level0 col0\" >Model</th>\n",
              "      <th class=\"col_heading level0 col1\" >Accuracy</th>\n",
              "      <th class=\"col_heading level0 col2\" >AUC</th>\n",
              "      <th class=\"col_heading level0 col3\" >Recall</th>\n",
              "      <th class=\"col_heading level0 col4\" >Prec.</th>\n",
              "      <th class=\"col_heading level0 col5\" >F1</th>\n",
              "      <th class=\"col_heading level0 col6\" >Kappa</th>\n",
              "      <th class=\"col_heading level0 col7\" >MCC</th>\n",
              "      <th class=\"col_heading level0 col8\" >TT (Sec)</th>\n",
              "    </tr>\n",
              "  </thead>\n",
              "  <tbody>\n",
              "    <tr>\n",
              "      <th id=\"T_f386d_level0_row0\" class=\"row_heading level0 row0\" >gbc</th>\n",
              "      <td id=\"T_f386d_row0_col0\" class=\"data row0 col0\" >Gradient Boosting Classifier</td>\n",
              "      <td id=\"T_f386d_row0_col1\" class=\"data row0 col1\" >0.8234</td>\n",
              "      <td id=\"T_f386d_row0_col2\" class=\"data row0 col2\" >0.8438</td>\n",
              "      <td id=\"T_f386d_row0_col3\" class=\"data row0 col3\" >0.7362</td>\n",
              "      <td id=\"T_f386d_row0_col4\" class=\"data row0 col4\" >0.7935</td>\n",
              "      <td id=\"T_f386d_row0_col5\" class=\"data row0 col5\" >0.7604</td>\n",
              "      <td id=\"T_f386d_row0_col6\" class=\"data row0 col6\" >0.6213</td>\n",
              "      <td id=\"T_f386d_row0_col7\" class=\"data row0 col7\" >0.6256</td>\n",
              "      <td id=\"T_f386d_row0_col8\" class=\"data row0 col8\" >0.1940</td>\n",
              "    </tr>\n",
              "    <tr>\n",
              "      <th id=\"T_f386d_level0_row1\" class=\"row_heading level0 row1\" >lightgbm</th>\n",
              "      <td id=\"T_f386d_row1_col0\" class=\"data row1 col0\" >Light Gradient Boosting Machine</td>\n",
              "      <td id=\"T_f386d_row1_col1\" class=\"data row1 col1\" >0.8074</td>\n",
              "      <td id=\"T_f386d_row1_col2\" class=\"data row1 col2\" >0.8389</td>\n",
              "      <td id=\"T_f386d_row1_col3\" class=\"data row1 col3\" >0.7277</td>\n",
              "      <td id=\"T_f386d_row1_col4\" class=\"data row1 col4\" >0.7619</td>\n",
              "      <td id=\"T_f386d_row1_col5\" class=\"data row1 col5\" >0.7403</td>\n",
              "      <td id=\"T_f386d_row1_col6\" class=\"data row1 col6\" >0.5880</td>\n",
              "      <td id=\"T_f386d_row1_col7\" class=\"data row1 col7\" >0.5919</td>\n",
              "      <td id=\"T_f386d_row1_col8\" class=\"data row1 col8\" >0.2250</td>\n",
              "    </tr>\n",
              "    <tr>\n",
              "      <th id=\"T_f386d_level0_row2\" class=\"row_heading level0 row2\" >rf</th>\n",
              "      <td id=\"T_f386d_row2_col0\" class=\"data row2 col0\" >Random Forest Classifier</td>\n",
              "      <td id=\"T_f386d_row2_col1\" class=\"data row2 col1\" >0.8025</td>\n",
              "      <td id=\"T_f386d_row2_col2\" class=\"data row2 col2\" >0.8450</td>\n",
              "      <td id=\"T_f386d_row2_col3\" class=\"data row2 col3\" >0.6986</td>\n",
              "      <td id=\"T_f386d_row2_col4\" class=\"data row2 col4\" >0.7710</td>\n",
              "      <td id=\"T_f386d_row2_col5\" class=\"data row2 col5\" >0.7317</td>\n",
              "      <td id=\"T_f386d_row2_col6\" class=\"data row2 col6\" >0.5759</td>\n",
              "      <td id=\"T_f386d_row2_col7\" class=\"data row2 col7\" >0.5788</td>\n",
              "      <td id=\"T_f386d_row2_col8\" class=\"data row2 col8\" >0.2730</td>\n",
              "    </tr>\n",
              "    <tr>\n",
              "      <th id=\"T_f386d_level0_row3\" class=\"row_heading level0 row3\" >ridge</th>\n",
              "      <td id=\"T_f386d_row3_col0\" class=\"data row3 col0\" >Ridge Classifier</td>\n",
              "      <td id=\"T_f386d_row3_col1\" class=\"data row3 col1\" >0.7960</td>\n",
              "      <td id=\"T_f386d_row3_col2\" class=\"data row3 col2\" >0.0000</td>\n",
              "      <td id=\"T_f386d_row3_col3\" class=\"data row3 col3\" >0.7322</td>\n",
              "      <td id=\"T_f386d_row3_col4\" class=\"data row3 col4\" >0.7369</td>\n",
              "      <td id=\"T_f386d_row3_col5\" class=\"data row3 col5\" >0.7311</td>\n",
              "      <td id=\"T_f386d_row3_col6\" class=\"data row3 col6\" >0.5672</td>\n",
              "      <td id=\"T_f386d_row3_col7\" class=\"data row3 col7\" >0.5708</td>\n",
              "      <td id=\"T_f386d_row3_col8\" class=\"data row3 col8\" >0.0940</td>\n",
              "    </tr>\n",
              "    <tr>\n",
              "      <th id=\"T_f386d_level0_row4\" class=\"row_heading level0 row4\" >lda</th>\n",
              "      <td id=\"T_f386d_row4_col0\" class=\"data row4 col0\" >Linear Discriminant Analysis</td>\n",
              "      <td id=\"T_f386d_row4_col1\" class=\"data row4 col1\" >0.7960</td>\n",
              "      <td id=\"T_f386d_row4_col2\" class=\"data row4 col2\" >0.8470</td>\n",
              "      <td id=\"T_f386d_row4_col3\" class=\"data row4 col3\" >0.7322</td>\n",
              "      <td id=\"T_f386d_row4_col4\" class=\"data row4 col4\" >0.7369</td>\n",
              "      <td id=\"T_f386d_row4_col5\" class=\"data row4 col5\" >0.7311</td>\n",
              "      <td id=\"T_f386d_row4_col6\" class=\"data row4 col6\" >0.5672</td>\n",
              "      <td id=\"T_f386d_row4_col7\" class=\"data row4 col7\" >0.5708</td>\n",
              "      <td id=\"T_f386d_row4_col8\" class=\"data row4 col8\" >0.1120</td>\n",
              "    </tr>\n",
              "    <tr>\n",
              "      <th id=\"T_f386d_level0_row5\" class=\"row_heading level0 row5\" >et</th>\n",
              "      <td id=\"T_f386d_row5_col0\" class=\"data row5 col0\" >Extra Trees Classifier</td>\n",
              "      <td id=\"T_f386d_row5_col1\" class=\"data row5 col1\" >0.7928</td>\n",
              "      <td id=\"T_f386d_row5_col2\" class=\"data row5 col2\" >0.8323</td>\n",
              "      <td id=\"T_f386d_row5_col3\" class=\"data row5 col3\" >0.6984</td>\n",
              "      <td id=\"T_f386d_row5_col4\" class=\"data row5 col4\" >0.7484</td>\n",
              "      <td id=\"T_f386d_row5_col5\" class=\"data row5 col5\" >0.7208</td>\n",
              "      <td id=\"T_f386d_row5_col6\" class=\"data row5 col6\" >0.5565</td>\n",
              "      <td id=\"T_f386d_row5_col7\" class=\"data row5 col7\" >0.5588</td>\n",
              "      <td id=\"T_f386d_row5_col8\" class=\"data row5 col8\" >0.2500</td>\n",
              "    </tr>\n",
              "    <tr>\n",
              "      <th id=\"T_f386d_level0_row6\" class=\"row_heading level0 row6\" >ada</th>\n",
              "      <td id=\"T_f386d_row6_col0\" class=\"data row6 col0\" >Ada Boost Classifier</td>\n",
              "      <td id=\"T_f386d_row6_col1\" class=\"data row6 col1\" >0.7912</td>\n",
              "      <td id=\"T_f386d_row6_col2\" class=\"data row6 col2\" >0.8413</td>\n",
              "      <td id=\"T_f386d_row6_col3\" class=\"data row6 col3\" >0.7533</td>\n",
              "      <td id=\"T_f386d_row6_col4\" class=\"data row6 col4\" >0.7205</td>\n",
              "      <td id=\"T_f386d_row6_col5\" class=\"data row6 col5\" >0.7334</td>\n",
              "      <td id=\"T_f386d_row6_col6\" class=\"data row6 col6\" >0.5624</td>\n",
              "      <td id=\"T_f386d_row6_col7\" class=\"data row6 col7\" >0.5659</td>\n",
              "      <td id=\"T_f386d_row6_col8\" class=\"data row6 col8\" >0.1880</td>\n",
              "    </tr>\n",
              "    <tr>\n",
              "      <th id=\"T_f386d_level0_row7\" class=\"row_heading level0 row7\" >lr</th>\n",
              "      <td id=\"T_f386d_row7_col0\" class=\"data row7 col0\" >Logistic Regression</td>\n",
              "      <td id=\"T_f386d_row7_col1\" class=\"data row7 col1\" >0.7881</td>\n",
              "      <td id=\"T_f386d_row7_col2\" class=\"data row7 col2\" >0.8454</td>\n",
              "      <td id=\"T_f386d_row7_col3\" class=\"data row7 col3\" >0.7658</td>\n",
              "      <td id=\"T_f386d_row7_col4\" class=\"data row7 col4\" >0.7137</td>\n",
              "      <td id=\"T_f386d_row7_col5\" class=\"data row7 col5\" >0.7339</td>\n",
              "      <td id=\"T_f386d_row7_col6\" class=\"data row7 col6\" >0.5590</td>\n",
              "      <td id=\"T_f386d_row7_col7\" class=\"data row7 col7\" >0.5657</td>\n",
              "      <td id=\"T_f386d_row7_col8\" class=\"data row7 col8\" >2.5440</td>\n",
              "    </tr>\n",
              "    <tr>\n",
              "      <th id=\"T_f386d_level0_row8\" class=\"row_heading level0 row8\" >dt</th>\n",
              "      <td id=\"T_f386d_row8_col0\" class=\"data row8 col0\" >Decision Tree Classifier</td>\n",
              "      <td id=\"T_f386d_row8_col1\" class=\"data row8 col1\" >0.7608</td>\n",
              "      <td id=\"T_f386d_row8_col2\" class=\"data row8 col2\" >0.7421</td>\n",
              "      <td id=\"T_f386d_row8_col3\" class=\"data row8 col3\" >0.6861</td>\n",
              "      <td id=\"T_f386d_row8_col4\" class=\"data row8 col4\" >0.6932</td>\n",
              "      <td id=\"T_f386d_row8_col5\" class=\"data row8 col5\" >0.6873</td>\n",
              "      <td id=\"T_f386d_row8_col6\" class=\"data row8 col6\" >0.4938</td>\n",
              "      <td id=\"T_f386d_row8_col7\" class=\"data row8 col7\" >0.4960</td>\n",
              "      <td id=\"T_f386d_row8_col8\" class=\"data row8 col8\" >0.1130</td>\n",
              "    </tr>\n",
              "    <tr>\n",
              "      <th id=\"T_f386d_level0_row9\" class=\"row_heading level0 row9\" >nb</th>\n",
              "      <td id=\"T_f386d_row9_col0\" class=\"data row9 col0\" >Naive Bayes</td>\n",
              "      <td id=\"T_f386d_row9_col1\" class=\"data row9 col1\" >0.7498</td>\n",
              "      <td id=\"T_f386d_row9_col2\" class=\"data row9 col2\" >0.8015</td>\n",
              "      <td id=\"T_f386d_row9_col3\" class=\"data row9 col3\" >0.7158</td>\n",
              "      <td id=\"T_f386d_row9_col4\" class=\"data row9 col4\" >0.6641</td>\n",
              "      <td id=\"T_f386d_row9_col5\" class=\"data row9 col5\" >0.6815</td>\n",
              "      <td id=\"T_f386d_row9_col6\" class=\"data row9 col6\" >0.4774</td>\n",
              "      <td id=\"T_f386d_row9_col7\" class=\"data row9 col7\" >0.4860</td>\n",
              "      <td id=\"T_f386d_row9_col8\" class=\"data row9 col8\" >0.1120</td>\n",
              "    </tr>\n",
              "    <tr>\n",
              "      <th id=\"T_f386d_level0_row10\" class=\"row_heading level0 row10\" >svm</th>\n",
              "      <td id=\"T_f386d_row10_col0\" class=\"data row10 col0\" >SVM - Linear Kernel</td>\n",
              "      <td id=\"T_f386d_row10_col1\" class=\"data row10 col1\" >0.6801</td>\n",
              "      <td id=\"T_f386d_row10_col2\" class=\"data row10 col2\" >0.0000</td>\n",
              "      <td id=\"T_f386d_row10_col3\" class=\"data row10 col3\" >0.7333</td>\n",
              "      <td id=\"T_f386d_row10_col4\" class=\"data row10 col4\" >0.6214</td>\n",
              "      <td id=\"T_f386d_row10_col5\" class=\"data row10 col5\" >0.6283</td>\n",
              "      <td id=\"T_f386d_row10_col6\" class=\"data row10 col6\" >0.3658</td>\n",
              "      <td id=\"T_f386d_row10_col7\" class=\"data row10 col7\" >0.4114</td>\n",
              "      <td id=\"T_f386d_row10_col8\" class=\"data row10 col8\" >0.1010</td>\n",
              "    </tr>\n",
              "    <tr>\n",
              "      <th id=\"T_f386d_level0_row11\" class=\"row_heading level0 row11\" >knn</th>\n",
              "      <td id=\"T_f386d_row11_col0\" class=\"data row11 col0\" >K Neighbors Classifier</td>\n",
              "      <td id=\"T_f386d_row11_col1\" class=\"data row11 col1\" >0.6615</td>\n",
              "      <td id=\"T_f386d_row11_col2\" class=\"data row11 col2\" >0.6972</td>\n",
              "      <td id=\"T_f386d_row11_col3\" class=\"data row11 col3\" >0.6245</td>\n",
              "      <td id=\"T_f386d_row11_col4\" class=\"data row11 col4\" >0.5522</td>\n",
              "      <td id=\"T_f386d_row11_col5\" class=\"data row11 col5\" >0.5824</td>\n",
              "      <td id=\"T_f386d_row11_col6\" class=\"data row11 col6\" >0.3005</td>\n",
              "      <td id=\"T_f386d_row11_col7\" class=\"data row11 col7\" >0.3063</td>\n",
              "      <td id=\"T_f386d_row11_col8\" class=\"data row11 col8\" >0.1180</td>\n",
              "    </tr>\n",
              "    <tr>\n",
              "      <th id=\"T_f386d_level0_row12\" class=\"row_heading level0 row12\" >dummy</th>\n",
              "      <td id=\"T_f386d_row12_col0\" class=\"data row12 col0\" >Dummy Classifier</td>\n",
              "      <td id=\"T_f386d_row12_col1\" class=\"data row12 col1\" >0.6164</td>\n",
              "      <td id=\"T_f386d_row12_col2\" class=\"data row12 col2\" >0.5000</td>\n",
              "      <td id=\"T_f386d_row12_col3\" class=\"data row12 col3\" >0.0000</td>\n",
              "      <td id=\"T_f386d_row12_col4\" class=\"data row12 col4\" >0.0000</td>\n",
              "      <td id=\"T_f386d_row12_col5\" class=\"data row12 col5\" >0.0000</td>\n",
              "      <td id=\"T_f386d_row12_col6\" class=\"data row12 col6\" >0.0000</td>\n",
              "      <td id=\"T_f386d_row12_col7\" class=\"data row12 col7\" >0.0000</td>\n",
              "      <td id=\"T_f386d_row12_col8\" class=\"data row12 col8\" >0.1580</td>\n",
              "    </tr>\n",
              "    <tr>\n",
              "      <th id=\"T_f386d_level0_row13\" class=\"row_heading level0 row13\" >qda</th>\n",
              "      <td id=\"T_f386d_row13_col0\" class=\"data row13 col0\" >Quadratic Discriminant Analysis</td>\n",
              "      <td id=\"T_f386d_row13_col1\" class=\"data row13 col1\" >0.5813</td>\n",
              "      <td id=\"T_f386d_row13_col2\" class=\"data row13 col2\" >0.5514</td>\n",
              "      <td id=\"T_f386d_row13_col3\" class=\"data row13 col3\" >0.4310</td>\n",
              "      <td id=\"T_f386d_row13_col4\" class=\"data row13 col4\" >0.6196</td>\n",
              "      <td id=\"T_f386d_row13_col5\" class=\"data row13 col5\" >0.3711</td>\n",
              "      <td id=\"T_f386d_row13_col6\" class=\"data row13 col6\" >0.1079</td>\n",
              "      <td id=\"T_f386d_row13_col7\" class=\"data row13 col7\" >0.1604</td>\n",
              "      <td id=\"T_f386d_row13_col8\" class=\"data row13 col8\" >0.1130</td>\n",
              "    </tr>\n",
              "  </tbody>\n",
              "</table>\n"
            ]
          },
          "metadata": {}
        },
        {
          "output_type": "display_data",
          "data": {
            "text/plain": [
              "Processing:   0%|          | 0/61 [00:00<?, ?it/s]"
            ],
            "application/vnd.jupyter.widget-view+json": {
              "version_major": 2,
              "version_minor": 0,
              "model_id": "d6e9b766f6514e58a8c5fd5912347734"
            }
          },
          "metadata": {
            "application/vnd.jupyter.widget-view+json": {
              "colab": {
                "custom_widget_manager": {
                  "url": "https://ssl.gstatic.com/colaboratory-static/widgets/colab-cdn-widget-manager/d2e234f7cc04bf79/manager.min.js"
                }
              }
            }
          }
        },
        {
          "output_type": "display_data",
          "data": {
            "text/plain": [
              "<IPython.core.display.HTML object>"
            ],
            "text/html": []
          },
          "metadata": {}
        },
        {
          "output_type": "stream",
          "name": "stdout",
          "text": [
            "CPU times: user 6.46 s, sys: 274 ms, total: 6.74 s\n",
            "Wall time: 51.3 s\n"
          ]
        }
      ]
    },
    {
      "cell_type": "code",
      "source": [
        "print(best_model)"
      ],
      "metadata": {
        "colab": {
          "base_uri": "https://localhost:8080/"
        },
        "id": "0sTR_eWBXoag",
        "outputId": "9cde95cc-dfee-465e-d17e-0e7cbd208f4b"
      },
      "execution_count": 33,
      "outputs": [
        {
          "output_type": "stream",
          "name": "stdout",
          "text": [
            "GradientBoostingClassifier(ccp_alpha=0.0, criterion='friedman_mse', init=None,\n",
            "                           learning_rate=0.1, loss='deviance', max_depth=3,\n",
            "                           max_features=None, max_leaf_nodes=None,\n",
            "                           min_impurity_decrease=0.0, min_samples_leaf=1,\n",
            "                           min_samples_split=2, min_weight_fraction_leaf=0.0,\n",
            "                           n_estimators=100, n_iter_no_change=None,\n",
            "                           random_state=123, subsample=1.0, tol=0.0001,\n",
            "                           validation_fraction=0.1, verbose=0,\n",
            "                           warm_start=False)\n"
          ]
        }
      ]
    },
    {
      "cell_type": "markdown",
      "source": [
        "Vamos então criar um modelo utilizando o método Gradient Boosting Classifier:"
      ],
      "metadata": {
        "id": "iYVY0ILTdh1D"
      }
    },
    {
      "cell_type": "code",
      "source": [
        "%%time\n",
        "\n",
        "model = create_model('gbc')"
      ],
      "metadata": {
        "colab": {
          "base_uri": "https://localhost:8080/",
          "height": 492,
          "referenced_widgets": [
            "12ef83c76f5f44aea8595898442c5878",
            "f2c61ba075f4406fb1560942d4b20c84",
            "32200ffcea434541b82e56ad7b60ebeb",
            "19c4a89519044a7ab5d4d3ee7ab4a042",
            "6b0bd40c530e41e79fa7a46ed9f6de88",
            "0e1b1ab144724152bdefb60b3d797fe8",
            "b621ae2175014b94a4af2d0db5fd3b13",
            "1996973b2f3248839f7c163c47b00125",
            "40e351087c1d46339a63e77ab84fa37b",
            "8b49f4fff34540bfa30735a7e2f0f7c9",
            "31683f86094c4662abccc4ef8190aea9"
          ]
        },
        "id": "YOqnOChjdsWh",
        "outputId": "7cf44af0-ac73-4041-89ae-2833764f0c45"
      },
      "execution_count": 34,
      "outputs": [
        {
          "output_type": "display_data",
          "data": {
            "text/plain": [
              "<IPython.core.display.HTML object>"
            ],
            "text/html": []
          },
          "metadata": {}
        },
        {
          "output_type": "display_data",
          "data": {
            "text/plain": [
              "<pandas.io.formats.style.Styler at 0x7f1b650b1d60>"
            ],
            "text/html": [
              "<style type=\"text/css\">\n",
              "#T_750f6_row10_col0, #T_750f6_row10_col1, #T_750f6_row10_col2, #T_750f6_row10_col3, #T_750f6_row10_col4, #T_750f6_row10_col5, #T_750f6_row10_col6 {\n",
              "  background: yellow;\n",
              "}\n",
              "</style>\n",
              "<table id=\"T_750f6_\" class=\"dataframe\">\n",
              "  <thead>\n",
              "    <tr>\n",
              "      <th class=\"blank level0\" >&nbsp;</th>\n",
              "      <th class=\"col_heading level0 col0\" >Accuracy</th>\n",
              "      <th class=\"col_heading level0 col1\" >AUC</th>\n",
              "      <th class=\"col_heading level0 col2\" >Recall</th>\n",
              "      <th class=\"col_heading level0 col3\" >Prec.</th>\n",
              "      <th class=\"col_heading level0 col4\" >F1</th>\n",
              "      <th class=\"col_heading level0 col5\" >Kappa</th>\n",
              "      <th class=\"col_heading level0 col6\" >MCC</th>\n",
              "    </tr>\n",
              "    <tr>\n",
              "      <th class=\"index_name level0\" >Fold</th>\n",
              "      <th class=\"blank col0\" >&nbsp;</th>\n",
              "      <th class=\"blank col1\" >&nbsp;</th>\n",
              "      <th class=\"blank col2\" >&nbsp;</th>\n",
              "      <th class=\"blank col3\" >&nbsp;</th>\n",
              "      <th class=\"blank col4\" >&nbsp;</th>\n",
              "      <th class=\"blank col5\" >&nbsp;</th>\n",
              "      <th class=\"blank col6\" >&nbsp;</th>\n",
              "    </tr>\n",
              "  </thead>\n",
              "  <tbody>\n",
              "    <tr>\n",
              "      <th id=\"T_750f6_level0_row0\" class=\"row_heading level0 row0\" >0</th>\n",
              "      <td id=\"T_750f6_row0_col0\" class=\"data row0 col0\" >0.8571</td>\n",
              "      <td id=\"T_750f6_row0_col1\" class=\"data row0 col1\" >0.8910</td>\n",
              "      <td id=\"T_750f6_row0_col2\" class=\"data row0 col2\" >0.8333</td>\n",
              "      <td id=\"T_750f6_row0_col3\" class=\"data row0 col3\" >0.8000</td>\n",
              "      <td id=\"T_750f6_row0_col4\" class=\"data row0 col4\" >0.8163</td>\n",
              "      <td id=\"T_750f6_row0_col5\" class=\"data row0 col5\" >0.6995</td>\n",
              "      <td id=\"T_750f6_row0_col6\" class=\"data row0 col6\" >0.6999</td>\n",
              "    </tr>\n",
              "    <tr>\n",
              "      <th id=\"T_750f6_level0_row1\" class=\"row_heading level0 row1\" >1</th>\n",
              "      <td id=\"T_750f6_row1_col0\" class=\"data row1 col0\" >0.8095</td>\n",
              "      <td id=\"T_750f6_row1_col1\" class=\"data row1 col1\" >0.7687</td>\n",
              "      <td id=\"T_750f6_row1_col2\" class=\"data row1 col2\" >0.7083</td>\n",
              "      <td id=\"T_750f6_row1_col3\" class=\"data row1 col3\" >0.7727</td>\n",
              "      <td id=\"T_750f6_row1_col4\" class=\"data row1 col4\" >0.7391</td>\n",
              "      <td id=\"T_750f6_row1_col5\" class=\"data row1 col5\" >0.5896</td>\n",
              "      <td id=\"T_750f6_row1_col6\" class=\"data row1 col6\" >0.5910</td>\n",
              "    </tr>\n",
              "    <tr>\n",
              "      <th id=\"T_750f6_level0_row2\" class=\"row_heading level0 row2\" >2</th>\n",
              "      <td id=\"T_750f6_row2_col0\" class=\"data row2 col0\" >0.8095</td>\n",
              "      <td id=\"T_750f6_row2_col1\" class=\"data row2 col1\" >0.9530</td>\n",
              "      <td id=\"T_750f6_row2_col2\" class=\"data row2 col2\" >0.6250</td>\n",
              "      <td id=\"T_750f6_row2_col3\" class=\"data row2 col3\" >0.8333</td>\n",
              "      <td id=\"T_750f6_row2_col4\" class=\"data row2 col4\" >0.7143</td>\n",
              "      <td id=\"T_750f6_row2_col5\" class=\"data row2 col5\" >0.5758</td>\n",
              "      <td id=\"T_750f6_row2_col6\" class=\"data row2 col6\" >0.5892</td>\n",
              "    </tr>\n",
              "    <tr>\n",
              "      <th id=\"T_750f6_level0_row3\" class=\"row_heading level0 row3\" >3</th>\n",
              "      <td id=\"T_750f6_row3_col0\" class=\"data row3 col0\" >0.8387</td>\n",
              "      <td id=\"T_750f6_row3_col1\" class=\"data row3 col1\" >0.8484</td>\n",
              "      <td id=\"T_750f6_row3_col2\" class=\"data row3 col2\" >0.6957</td>\n",
              "      <td id=\"T_750f6_row3_col3\" class=\"data row3 col3\" >0.8421</td>\n",
              "      <td id=\"T_750f6_row3_col4\" class=\"data row3 col4\" >0.7619</td>\n",
              "      <td id=\"T_750f6_row3_col5\" class=\"data row3 col5\" >0.6416</td>\n",
              "      <td id=\"T_750f6_row3_col6\" class=\"data row3 col6\" >0.6483</td>\n",
              "    </tr>\n",
              "    <tr>\n",
              "      <th id=\"T_750f6_level0_row4\" class=\"row_heading level0 row4\" >4</th>\n",
              "      <td id=\"T_750f6_row4_col0\" class=\"data row4 col0\" >0.7581</td>\n",
              "      <td id=\"T_750f6_row4_col1\" class=\"data row4 col1\" >0.6875</td>\n",
              "      <td id=\"T_750f6_row4_col2\" class=\"data row4 col2\" >0.5833</td>\n",
              "      <td id=\"T_750f6_row4_col3\" class=\"data row4 col3\" >0.7368</td>\n",
              "      <td id=\"T_750f6_row4_col4\" class=\"data row4 col4\" >0.6512</td>\n",
              "      <td id=\"T_750f6_row4_col5\" class=\"data row4 col5\" >0.4698</td>\n",
              "      <td id=\"T_750f6_row4_col6\" class=\"data row4 col6\" >0.4773</td>\n",
              "    </tr>\n",
              "    <tr>\n",
              "      <th id=\"T_750f6_level0_row5\" class=\"row_heading level0 row5\" >5</th>\n",
              "      <td id=\"T_750f6_row5_col0\" class=\"data row5 col0\" >0.8387</td>\n",
              "      <td id=\"T_750f6_row5_col1\" class=\"data row5 col1\" >0.8295</td>\n",
              "      <td id=\"T_750f6_row5_col2\" class=\"data row5 col2\" >0.7917</td>\n",
              "      <td id=\"T_750f6_row5_col3\" class=\"data row5 col3\" >0.7917</td>\n",
              "      <td id=\"T_750f6_row5_col4\" class=\"data row5 col4\" >0.7917</td>\n",
              "      <td id=\"T_750f6_row5_col5\" class=\"data row5 col5\" >0.6601</td>\n",
              "      <td id=\"T_750f6_row5_col6\" class=\"data row5 col6\" >0.6601</td>\n",
              "    </tr>\n",
              "    <tr>\n",
              "      <th id=\"T_750f6_level0_row6\" class=\"row_heading level0 row6\" >6</th>\n",
              "      <td id=\"T_750f6_row6_col0\" class=\"data row6 col0\" >0.8871</td>\n",
              "      <td id=\"T_750f6_row6_col1\" class=\"data row6 col1\" >0.8640</td>\n",
              "      <td id=\"T_750f6_row6_col2\" class=\"data row6 col2\" >0.7917</td>\n",
              "      <td id=\"T_750f6_row6_col3\" class=\"data row6 col3\" >0.9048</td>\n",
              "      <td id=\"T_750f6_row6_col4\" class=\"data row6 col4\" >0.8444</td>\n",
              "      <td id=\"T_750f6_row6_col5\" class=\"data row6 col5\" >0.7565</td>\n",
              "      <td id=\"T_750f6_row6_col6\" class=\"data row6 col6\" >0.7606</td>\n",
              "    </tr>\n",
              "    <tr>\n",
              "      <th id=\"T_750f6_level0_row7\" class=\"row_heading level0 row7\" >7</th>\n",
              "      <td id=\"T_750f6_row7_col0\" class=\"data row7 col0\" >0.7903</td>\n",
              "      <td id=\"T_750f6_row7_col1\" class=\"data row7 col1\" >0.8432</td>\n",
              "      <td id=\"T_750f6_row7_col2\" class=\"data row7 col2\" >0.8333</td>\n",
              "      <td id=\"T_750f6_row7_col3\" class=\"data row7 col3\" >0.6897</td>\n",
              "      <td id=\"T_750f6_row7_col4\" class=\"data row7 col4\" >0.7547</td>\n",
              "      <td id=\"T_750f6_row7_col5\" class=\"data row7 col5\" >0.5744</td>\n",
              "      <td id=\"T_750f6_row7_col6\" class=\"data row7 col6\" >0.5823</td>\n",
              "    </tr>\n",
              "    <tr>\n",
              "      <th id=\"T_750f6_level0_row8\" class=\"row_heading level0 row8\" >8</th>\n",
              "      <td id=\"T_750f6_row8_col0\" class=\"data row8 col0\" >0.8065</td>\n",
              "      <td id=\"T_750f6_row8_col1\" class=\"data row8 col1\" >0.8662</td>\n",
              "      <td id=\"T_750f6_row8_col2\" class=\"data row8 col2\" >0.7083</td>\n",
              "      <td id=\"T_750f6_row8_col3\" class=\"data row8 col3\" >0.7727</td>\n",
              "      <td id=\"T_750f6_row8_col4\" class=\"data row8 col4\" >0.7391</td>\n",
              "      <td id=\"T_750f6_row8_col5\" class=\"data row8 col5\" >0.5857</td>\n",
              "      <td id=\"T_750f6_row8_col6\" class=\"data row8 col6\" >0.5871</td>\n",
              "    </tr>\n",
              "    <tr>\n",
              "      <th id=\"T_750f6_level0_row9\" class=\"row_heading level0 row9\" >9</th>\n",
              "      <td id=\"T_750f6_row9_col0\" class=\"data row9 col0\" >0.8387</td>\n",
              "      <td id=\"T_750f6_row9_col1\" class=\"data row9 col1\" >0.8860</td>\n",
              "      <td id=\"T_750f6_row9_col2\" class=\"data row9 col2\" >0.7917</td>\n",
              "      <td id=\"T_750f6_row9_col3\" class=\"data row9 col3\" >0.7917</td>\n",
              "      <td id=\"T_750f6_row9_col4\" class=\"data row9 col4\" >0.7917</td>\n",
              "      <td id=\"T_750f6_row9_col5\" class=\"data row9 col5\" >0.6601</td>\n",
              "      <td id=\"T_750f6_row9_col6\" class=\"data row9 col6\" >0.6601</td>\n",
              "    </tr>\n",
              "    <tr>\n",
              "      <th id=\"T_750f6_level0_row10\" class=\"row_heading level0 row10\" >Mean</th>\n",
              "      <td id=\"T_750f6_row10_col0\" class=\"data row10 col0\" >0.8234</td>\n",
              "      <td id=\"T_750f6_row10_col1\" class=\"data row10 col1\" >0.8438</td>\n",
              "      <td id=\"T_750f6_row10_col2\" class=\"data row10 col2\" >0.7362</td>\n",
              "      <td id=\"T_750f6_row10_col3\" class=\"data row10 col3\" >0.7935</td>\n",
              "      <td id=\"T_750f6_row10_col4\" class=\"data row10 col4\" >0.7604</td>\n",
              "      <td id=\"T_750f6_row10_col5\" class=\"data row10 col5\" >0.6213</td>\n",
              "      <td id=\"T_750f6_row10_col6\" class=\"data row10 col6\" >0.6256</td>\n",
              "    </tr>\n",
              "    <tr>\n",
              "      <th id=\"T_750f6_level0_row11\" class=\"row_heading level0 row11\" >Std</th>\n",
              "      <td id=\"T_750f6_row11_col0\" class=\"data row11 col0\" >0.0345</td>\n",
              "      <td id=\"T_750f6_row11_col1\" class=\"data row11 col1\" >0.0687</td>\n",
              "      <td id=\"T_750f6_row11_col2\" class=\"data row11 col2\" >0.0819</td>\n",
              "      <td id=\"T_750f6_row11_col3\" class=\"data row11 col3\" >0.0559</td>\n",
              "      <td id=\"T_750f6_row11_col4\" class=\"data row11 col4\" >0.0521</td>\n",
              "      <td id=\"T_750f6_row11_col5\" class=\"data row11 col5\" >0.0757</td>\n",
              "      <td id=\"T_750f6_row11_col6\" class=\"data row11 col6\" >0.0738</td>\n",
              "    </tr>\n",
              "  </tbody>\n",
              "</table>\n"
            ]
          },
          "metadata": {}
        },
        {
          "output_type": "display_data",
          "data": {
            "text/plain": [
              "Processing:   0%|          | 0/4 [00:00<?, ?it/s]"
            ],
            "application/vnd.jupyter.widget-view+json": {
              "version_major": 2,
              "version_minor": 0,
              "model_id": "12ef83c76f5f44aea8595898442c5878"
            }
          },
          "metadata": {
            "application/vnd.jupyter.widget-view+json": {
              "colab": {
                "custom_widget_manager": {
                  "url": "https://ssl.gstatic.com/colaboratory-static/widgets/colab-cdn-widget-manager/d2e234f7cc04bf79/manager.min.js"
                }
              }
            }
          }
        },
        {
          "output_type": "display_data",
          "data": {
            "text/plain": [
              "<IPython.core.display.HTML object>"
            ],
            "text/html": []
          },
          "metadata": {}
        },
        {
          "output_type": "stream",
          "name": "stdout",
          "text": [
            "CPU times: user 696 ms, sys: 6.02 ms, total: 702 ms\n",
            "Wall time: 4.22 s\n"
          ]
        }
      ]
    },
    {
      "cell_type": "markdown",
      "source": [
        "Melhorar o modelo:"
      ],
      "metadata": {
        "id": "ILFlavzHgmuy"
      }
    },
    {
      "cell_type": "code",
      "source": [
        "%%time\n",
        "\n",
        "tuned_model = tune_model(model)"
      ],
      "metadata": {
        "colab": {
          "base_uri": "https://localhost:8080/",
          "height": 546,
          "referenced_widgets": [
            "818c640c7509401a803db5e7fee8fbf5",
            "1f30b6d1baa645a1b5b0b73d203f5b7d",
            "993832f002ca4e2aa592da3ef1d0aeee",
            "9314a664ba8e4e3d8347e8874fc8b62a",
            "0ade3cbb49b24941829a04fcdb319a62",
            "17415c9557bf43c993c3269be95a1c95",
            "2854ca7b4a604f84943376b0c5772139",
            "2fbced9d905e4dc4ad3049899048cd9f",
            "443611f97a4c4a9591474777e0250247",
            "9bda8b4a87d1403db460a02333638d74",
            "1c7013d08bba468f8aa8b573b989f26a"
          ]
        },
        "id": "LNapW0yRZaDP",
        "outputId": "78a992cb-d951-460e-9f40-f4bbfc1d15f7"
      },
      "execution_count": 35,
      "outputs": [
        {
          "output_type": "display_data",
          "data": {
            "text/plain": [
              "<IPython.core.display.HTML object>"
            ],
            "text/html": []
          },
          "metadata": {}
        },
        {
          "output_type": "display_data",
          "data": {
            "text/plain": [
              "<pandas.io.formats.style.Styler at 0x7f1b6228c5b0>"
            ],
            "text/html": [
              "<style type=\"text/css\">\n",
              "#T_f5421_row10_col0, #T_f5421_row10_col1, #T_f5421_row10_col2, #T_f5421_row10_col3, #T_f5421_row10_col4, #T_f5421_row10_col5, #T_f5421_row10_col6 {\n",
              "  background: yellow;\n",
              "}\n",
              "</style>\n",
              "<table id=\"T_f5421_\" class=\"dataframe\">\n",
              "  <thead>\n",
              "    <tr>\n",
              "      <th class=\"blank level0\" >&nbsp;</th>\n",
              "      <th class=\"col_heading level0 col0\" >Accuracy</th>\n",
              "      <th class=\"col_heading level0 col1\" >AUC</th>\n",
              "      <th class=\"col_heading level0 col2\" >Recall</th>\n",
              "      <th class=\"col_heading level0 col3\" >Prec.</th>\n",
              "      <th class=\"col_heading level0 col4\" >F1</th>\n",
              "      <th class=\"col_heading level0 col5\" >Kappa</th>\n",
              "      <th class=\"col_heading level0 col6\" >MCC</th>\n",
              "    </tr>\n",
              "    <tr>\n",
              "      <th class=\"index_name level0\" >Fold</th>\n",
              "      <th class=\"blank col0\" >&nbsp;</th>\n",
              "      <th class=\"blank col1\" >&nbsp;</th>\n",
              "      <th class=\"blank col2\" >&nbsp;</th>\n",
              "      <th class=\"blank col3\" >&nbsp;</th>\n",
              "      <th class=\"blank col4\" >&nbsp;</th>\n",
              "      <th class=\"blank col5\" >&nbsp;</th>\n",
              "      <th class=\"blank col6\" >&nbsp;</th>\n",
              "    </tr>\n",
              "  </thead>\n",
              "  <tbody>\n",
              "    <tr>\n",
              "      <th id=\"T_f5421_level0_row0\" class=\"row_heading level0 row0\" >0</th>\n",
              "      <td id=\"T_f5421_row0_col0\" class=\"data row0 col0\" >0.8254</td>\n",
              "      <td id=\"T_f5421_row0_col1\" class=\"data row0 col1\" >0.8702</td>\n",
              "      <td id=\"T_f5421_row0_col2\" class=\"data row0 col2\" >0.7500</td>\n",
              "      <td id=\"T_f5421_row0_col3\" class=\"data row0 col3\" >0.7826</td>\n",
              "      <td id=\"T_f5421_row0_col4\" class=\"data row0 col4\" >0.7660</td>\n",
              "      <td id=\"T_f5421_row0_col5\" class=\"data row0 col5\" >0.6268</td>\n",
              "      <td id=\"T_f5421_row0_col6\" class=\"data row0 col6\" >0.6272</td>\n",
              "    </tr>\n",
              "    <tr>\n",
              "      <th id=\"T_f5421_level0_row1\" class=\"row_heading level0 row1\" >1</th>\n",
              "      <td id=\"T_f5421_row1_col0\" class=\"data row1 col0\" >0.8254</td>\n",
              "      <td id=\"T_f5421_row1_col1\" class=\"data row1 col1\" >0.7767</td>\n",
              "      <td id=\"T_f5421_row1_col2\" class=\"data row1 col2\" >0.7083</td>\n",
              "      <td id=\"T_f5421_row1_col3\" class=\"data row1 col3\" >0.8095</td>\n",
              "      <td id=\"T_f5421_row1_col4\" class=\"data row1 col4\" >0.7556</td>\n",
              "      <td id=\"T_f5421_row1_col5\" class=\"data row1 col5\" >0.6207</td>\n",
              "      <td id=\"T_f5421_row1_col6\" class=\"data row1 col6\" >0.6240</td>\n",
              "    </tr>\n",
              "    <tr>\n",
              "      <th id=\"T_f5421_level0_row2\" class=\"row_heading level0 row2\" >2</th>\n",
              "      <td id=\"T_f5421_row2_col0\" class=\"data row2 col0\" >0.8413</td>\n",
              "      <td id=\"T_f5421_row2_col1\" class=\"data row2 col1\" >0.9274</td>\n",
              "      <td id=\"T_f5421_row2_col2\" class=\"data row2 col2\" >0.6667</td>\n",
              "      <td id=\"T_f5421_row2_col3\" class=\"data row2 col3\" >0.8889</td>\n",
              "      <td id=\"T_f5421_row2_col4\" class=\"data row2 col4\" >0.7619</td>\n",
              "      <td id=\"T_f5421_row2_col5\" class=\"data row2 col5\" >0.6465</td>\n",
              "      <td id=\"T_f5421_row2_col6\" class=\"data row2 col6\" >0.6615</td>\n",
              "    </tr>\n",
              "    <tr>\n",
              "      <th id=\"T_f5421_level0_row3\" class=\"row_heading level0 row3\" >3</th>\n",
              "      <td id=\"T_f5421_row3_col0\" class=\"data row3 col0\" >0.8226</td>\n",
              "      <td id=\"T_f5421_row3_col1\" class=\"data row3 col1\" >0.8595</td>\n",
              "      <td id=\"T_f5421_row3_col2\" class=\"data row3 col2\" >0.6522</td>\n",
              "      <td id=\"T_f5421_row3_col3\" class=\"data row3 col3\" >0.8333</td>\n",
              "      <td id=\"T_f5421_row3_col4\" class=\"data row3 col4\" >0.7317</td>\n",
              "      <td id=\"T_f5421_row3_col5\" class=\"data row3 col5\" >0.6021</td>\n",
              "      <td id=\"T_f5421_row3_col6\" class=\"data row3 col6\" >0.6122</td>\n",
              "    </tr>\n",
              "    <tr>\n",
              "      <th id=\"T_f5421_level0_row4\" class=\"row_heading level0 row4\" >4</th>\n",
              "      <td id=\"T_f5421_row4_col0\" class=\"data row4 col0\" >0.7258</td>\n",
              "      <td id=\"T_f5421_row4_col1\" class=\"data row4 col1\" >0.7105</td>\n",
              "      <td id=\"T_f5421_row4_col2\" class=\"data row4 col2\" >0.5000</td>\n",
              "      <td id=\"T_f5421_row4_col3\" class=\"data row4 col3\" >0.7059</td>\n",
              "      <td id=\"T_f5421_row4_col4\" class=\"data row4 col4\" >0.5854</td>\n",
              "      <td id=\"T_f5421_row4_col5\" class=\"data row4 col5\" >0.3893</td>\n",
              "      <td id=\"T_f5421_row4_col6\" class=\"data row4 col6\" >0.4023</td>\n",
              "    </tr>\n",
              "    <tr>\n",
              "      <th id=\"T_f5421_level0_row5\" class=\"row_heading level0 row5\" >5</th>\n",
              "      <td id=\"T_f5421_row5_col0\" class=\"data row5 col0\" >0.7742</td>\n",
              "      <td id=\"T_f5421_row5_col1\" class=\"data row5 col1\" >0.8322</td>\n",
              "      <td id=\"T_f5421_row5_col2\" class=\"data row5 col2\" >0.5833</td>\n",
              "      <td id=\"T_f5421_row5_col3\" class=\"data row5 col3\" >0.7778</td>\n",
              "      <td id=\"T_f5421_row5_col4\" class=\"data row5 col4\" >0.6667</td>\n",
              "      <td id=\"T_f5421_row5_col5\" class=\"data row5 col5\" >0.5011</td>\n",
              "      <td id=\"T_f5421_row5_col6\" class=\"data row5 col6\" >0.5130</td>\n",
              "    </tr>\n",
              "    <tr>\n",
              "      <th id=\"T_f5421_level0_row6\" class=\"row_heading level0 row6\" >6</th>\n",
              "      <td id=\"T_f5421_row6_col0\" class=\"data row6 col0\" >0.8871</td>\n",
              "      <td id=\"T_f5421_row6_col1\" class=\"data row6 col1\" >0.8673</td>\n",
              "      <td id=\"T_f5421_row6_col2\" class=\"data row6 col2\" >0.7917</td>\n",
              "      <td id=\"T_f5421_row6_col3\" class=\"data row6 col3\" >0.9048</td>\n",
              "      <td id=\"T_f5421_row6_col4\" class=\"data row6 col4\" >0.8444</td>\n",
              "      <td id=\"T_f5421_row6_col5\" class=\"data row6 col5\" >0.7565</td>\n",
              "      <td id=\"T_f5421_row6_col6\" class=\"data row6 col6\" >0.7606</td>\n",
              "    </tr>\n",
              "    <tr>\n",
              "      <th id=\"T_f5421_level0_row7\" class=\"row_heading level0 row7\" >7</th>\n",
              "      <td id=\"T_f5421_row7_col0\" class=\"data row7 col0\" >0.8226</td>\n",
              "      <td id=\"T_f5421_row7_col1\" class=\"data row7 col1\" >0.8673</td>\n",
              "      <td id=\"T_f5421_row7_col2\" class=\"data row7 col2\" >0.8333</td>\n",
              "      <td id=\"T_f5421_row7_col3\" class=\"data row7 col3\" >0.7407</td>\n",
              "      <td id=\"T_f5421_row7_col4\" class=\"data row7 col4\" >0.7843</td>\n",
              "      <td id=\"T_f5421_row7_col5\" class=\"data row7 col5\" >0.6345</td>\n",
              "      <td id=\"T_f5421_row7_col6\" class=\"data row7 col6\" >0.6377</td>\n",
              "    </tr>\n",
              "    <tr>\n",
              "      <th id=\"T_f5421_level0_row8\" class=\"row_heading level0 row8\" >8</th>\n",
              "      <td id=\"T_f5421_row8_col0\" class=\"data row8 col0\" >0.7419</td>\n",
              "      <td id=\"T_f5421_row8_col1\" class=\"data row8 col1\" >0.8706</td>\n",
              "      <td id=\"T_f5421_row8_col2\" class=\"data row8 col2\" >0.5833</td>\n",
              "      <td id=\"T_f5421_row8_col3\" class=\"data row8 col3\" >0.7000</td>\n",
              "      <td id=\"T_f5421_row8_col4\" class=\"data row8 col4\" >0.6364</td>\n",
              "      <td id=\"T_f5421_row8_col5\" class=\"data row8 col5\" >0.4389</td>\n",
              "      <td id=\"T_f5421_row8_col6\" class=\"data row8 col6\" >0.4433</td>\n",
              "    </tr>\n",
              "    <tr>\n",
              "      <th id=\"T_f5421_level0_row9\" class=\"row_heading level0 row9\" >9</th>\n",
              "      <td id=\"T_f5421_row9_col0\" class=\"data row9 col0\" >0.8226</td>\n",
              "      <td id=\"T_f5421_row9_col1\" class=\"data row9 col1\" >0.8947</td>\n",
              "      <td id=\"T_f5421_row9_col2\" class=\"data row9 col2\" >0.7917</td>\n",
              "      <td id=\"T_f5421_row9_col3\" class=\"data row9 col3\" >0.7600</td>\n",
              "      <td id=\"T_f5421_row9_col4\" class=\"data row9 col4\" >0.7755</td>\n",
              "      <td id=\"T_f5421_row9_col5\" class=\"data row9 col5\" >0.6289</td>\n",
              "      <td id=\"T_f5421_row9_col6\" class=\"data row9 col6\" >0.6293</td>\n",
              "    </tr>\n",
              "    <tr>\n",
              "      <th id=\"T_f5421_level0_row10\" class=\"row_heading level0 row10\" >Mean</th>\n",
              "      <td id=\"T_f5421_row10_col0\" class=\"data row10 col0\" >0.8089</td>\n",
              "      <td id=\"T_f5421_row10_col1\" class=\"data row10 col1\" >0.8477</td>\n",
              "      <td id=\"T_f5421_row10_col2\" class=\"data row10 col2\" >0.6861</td>\n",
              "      <td id=\"T_f5421_row10_col3\" class=\"data row10 col3\" >0.7904</td>\n",
              "      <td id=\"T_f5421_row10_col4\" class=\"data row10 col4\" >0.7308</td>\n",
              "      <td id=\"T_f5421_row10_col5\" class=\"data row10 col5\" >0.5845</td>\n",
              "      <td id=\"T_f5421_row10_col6\" class=\"data row10 col6\" >0.5911</td>\n",
              "    </tr>\n",
              "    <tr>\n",
              "      <th id=\"T_f5421_level0_row11\" class=\"row_heading level0 row11\" >Std</th>\n",
              "      <td id=\"T_f5421_row11_col0\" class=\"data row11 col0\" >0.0457</td>\n",
              "      <td id=\"T_f5421_row11_col1\" class=\"data row11 col1\" >0.0588</td>\n",
              "      <td id=\"T_f5421_row11_col2\" class=\"data row11 col2\" >0.1029</td>\n",
              "      <td id=\"T_f5421_row11_col3\" class=\"data row11 col3\" >0.0663</td>\n",
              "      <td id=\"T_f5421_row11_col4\" class=\"data row11 col4\" >0.0740</td>\n",
              "      <td id=\"T_f5421_row11_col5\" class=\"data row11 col5\" >0.1037</td>\n",
              "      <td id=\"T_f5421_row11_col6\" class=\"data row11 col6\" >0.1019</td>\n",
              "    </tr>\n",
              "  </tbody>\n",
              "</table>\n"
            ]
          },
          "metadata": {}
        },
        {
          "output_type": "display_data",
          "data": {
            "text/plain": [
              "Processing:   0%|          | 0/7 [00:00<?, ?it/s]"
            ],
            "application/vnd.jupyter.widget-view+json": {
              "version_major": 2,
              "version_minor": 0,
              "model_id": "818c640c7509401a803db5e7fee8fbf5"
            }
          },
          "metadata": {
            "application/vnd.jupyter.widget-view+json": {
              "colab": {
                "custom_widget_manager": {
                  "url": "https://ssl.gstatic.com/colaboratory-static/widgets/colab-cdn-widget-manager/d2e234f7cc04bf79/manager.min.js"
                }
              }
            }
          }
        },
        {
          "output_type": "stream",
          "name": "stdout",
          "text": [
            "Fitting 10 folds for each of 10 candidates, totalling 100 fits\n"
          ]
        },
        {
          "output_type": "display_data",
          "data": {
            "text/plain": [
              "<IPython.core.display.HTML object>"
            ],
            "text/html": []
          },
          "metadata": {}
        },
        {
          "output_type": "stream",
          "name": "stdout",
          "text": [
            "Original model was better than the tuned model, hence it will be returned. NOTE: The display metrics are for the tuned model (not the original one).\n",
            "CPU times: user 2.98 s, sys: 76.5 ms, total: 3.05 s\n",
            "Wall time: 32 s\n"
          ]
        }
      ]
    },
    {
      "cell_type": "code",
      "source": [
        "plot_model(tuned_model, plot = 'auc')"
      ],
      "metadata": {
        "colab": {
          "base_uri": "https://localhost:8080/",
          "height": 294
        },
        "id": "GRjhqD1cZz9H",
        "outputId": "51986884-d0ba-41f8-dd8d-c445dca15482"
      },
      "execution_count": 36,
      "outputs": [
        {
          "output_type": "display_data",
          "data": {
            "text/plain": [
              "<IPython.core.display.HTML object>"
            ],
            "text/html": []
          },
          "metadata": {}
        },
        {
          "output_type": "display_data",
          "data": {
            "text/plain": [
              "<Figure size 432x288 with 1 Axes>"
            ],
            "image/png": "[encoded data removed]"
          },
          "metadata": {
            "needs_background": "light"
          }
        }
      ]
    },
    {
      "cell_type": "code",
      "source": [
        "plot_model(tuned_model, plot = 'pr')"
      ],
      "metadata": {
        "colab": {
          "base_uri": "https://localhost:8080/",
          "height": 294
        },
        "id": "sw9kOP3QaXT2",
        "outputId": "18915618-6d54-490f-a67d-0c6d33396a1c"
      },
      "execution_count": 37,
      "outputs": [
        {
          "output_type": "display_data",
          "data": {
            "text/plain": [
              "<IPython.core.display.HTML object>"
            ],
            "text/html": []
          },
          "metadata": {}
        },
        {
          "output_type": "display_data",
          "data": {
            "text/plain": [
              "<Figure size 432x288 with 1 Axes>"
            ],
            "image/png": "[encoded data removed]"
          },
          "metadata": {
            "needs_background": "light"
          }
        }
      ]
    },
    {
      "cell_type": "code",
      "source": [
        "plot_model(tuned_model, plot = 'feature')"
      ],
      "metadata": {
        "colab": {
          "base_uri": "https://localhost:8080/",
          "height": 478
        },
        "id": "XfMR9E0QafbX",
        "outputId": "557e3fa4-8f14-4fe2-8837-7cf42c9e0945"
      },
      "execution_count": 38,
      "outputs": [
        {
          "output_type": "display_data",
          "data": {
            "text/plain": [
              "<IPython.core.display.HTML object>"
            ],
            "text/html": []
          },
          "metadata": {}
        },
        {
          "output_type": "display_data",
          "data": {
            "text/plain": [
              "<Figure size 800x500 with 1 Axes>"
            ],
            "image/png": "[encoded data removed]"
          },
          "metadata": {
            "needs_background": "light"
          }
        }
      ]
    },
    {
      "cell_type": "code",
      "source": [
        "plot_model(tuned_model, plot = 'confusion_matrix')"
      ],
      "metadata": {
        "colab": {
          "base_uri": "https://localhost:8080/",
          "height": 297
        },
        "id": "2uA8o4DbahwK",
        "outputId": "e628edca-6a04-477d-d659-aa1cc454c730"
      },
      "execution_count": 39,
      "outputs": [
        {
          "output_type": "display_data",
          "data": {
            "text/plain": [
              "<IPython.core.display.HTML object>"
            ],
            "text/html": []
          },
          "metadata": {}
        },
        {
          "output_type": "display_data",
          "data": {
            "text/plain": [
              "<Figure size 432x288 with 1 Axes>"
            ],
            "image/png": "[encoded data removed]"
          },
          "metadata": {
            "needs_background": "light"
          }
        }
      ]
    },
    {
      "cell_type": "markdown",
      "source": [
        "Nos gráficos e na matrix de confusão concluímos que o modelo está relativamente conseguindo prever bem a variável resposta, AUC e precisão elevadas, temos que a variável que mais influenciou o modelo foi *Sex*, o que nos faz concluir que as mulheres realmente sobreviveram em maior porcentagem que os homens."
      ],
      "metadata": {
        "id": "aXA1yAwfhQOj"
      }
    },
    {
      "cell_type": "code",
      "source": [
        "final_model = finalize_model(tuned_model)"
      ],
      "metadata": {
        "id": "GkxDPe6uapAw"
      },
      "execution_count": 40,
      "outputs": []
    },
    {
      "cell_type": "code",
      "source": [
        "print(final_model)"
      ],
      "metadata": {
        "colab": {
          "base_uri": "https://localhost:8080/"
        },
        "id": "ZkmAKauha_dX",
        "outputId": "fc6418d5-d2ef-4c9b-c67c-16cd130ab398"
      },
      "execution_count": 41,
      "outputs": [
        {
          "output_type": "stream",
          "name": "stdout",
          "text": [
            "Pipeline(memory=Memory(location=/tmp/joblib),\n",
            "         steps=[('numerical_imputer',\n",
            "                 TransformerWrapper(exclude=None,\n",
            "                                    include=['Age', 'SibSp', 'Parch', 'Fare',\n",
            "                                             'CabinYN'],\n",
            "                                    transformer=SimpleImputer(add_indicator=False,\n",
            "                                                              copy=True,\n",
            "                                                              fill_value=True,\n",
            "                                                              missing_values=nan,\n",
            "                                                              strategy='constant',\n",
            "                                                              verbose=0))),\n",
            "                ('categorical_imputer',\n",
            "                 TransformerWrapper(exclude=None,\n",
            "                                    include=['Pclass'...\n",
            "                                            criterion='friedman_mse', init=None,\n",
            "                                            learning_rate=0.1, loss='deviance',\n",
            "                                            max_depth=3, max_features=None,\n",
            "                                            max_leaf_nodes=None,\n",
            "                                            min_impurity_decrease=0.0,\n",
            "                                            min_samples_leaf=1,\n",
            "                                            min_samples_split=2,\n",
            "                                            min_weight_fraction_leaf=0.0,\n",
            "                                            n_estimators=100,\n",
            "                                            n_iter_no_change=None,\n",
            "                                            random_state=123, subsample=1.0,\n",
            "                                            tol=0.0001, validation_fraction=0.1,\n",
            "                                            verbose=0, warm_start=False))],\n",
            "         verbose=False)\n"
          ]
        }
      ]
    },
    {
      "cell_type": "markdown",
      "source": [
        "Teste com dados não utilizados no modelo:"
      ],
      "metadata": {
        "id": "YQmDzgkNik8J"
      }
    },
    {
      "cell_type": "code",
      "source": [
        "unseen_predictions = predict_model(final_model, data=data_unseen)\n",
        "unseen_predictions.head()"
      ],
      "metadata": {
        "colab": {
          "base_uri": "https://localhost:8080/",
          "height": 334
        },
        "id": "axcOCe-pbI-I",
        "outputId": "50bb1d3c-4999-4e47-884b-1db0e6285849"
      },
      "execution_count": 42,
      "outputs": [
        {
          "output_type": "display_data",
          "data": {
            "text/plain": [
              "<pandas.io.formats.style.Styler at 0x7f1b5702cac0>"
            ],
            "text/html": [
              "<style type=\"text/css\">\n",
              "</style>\n",
              "<table id=\"T_0c46d_\" class=\"dataframe\">\n",
              "  <thead>\n",
              "    <tr>\n",
              "      <th class=\"blank level0\" >&nbsp;</th>\n",
              "      <th class=\"col_heading level0 col0\" >Model</th>\n",
              "      <th class=\"col_heading level0 col1\" >Accuracy</th>\n",
              "      <th class=\"col_heading level0 col2\" >AUC</th>\n",
              "      <th class=\"col_heading level0 col3\" >Recall</th>\n",
              "      <th class=\"col_heading level0 col4\" >Prec.</th>\n",
              "      <th class=\"col_heading level0 col5\" >F1</th>\n",
              "      <th class=\"col_heading level0 col6\" >Kappa</th>\n",
              "      <th class=\"col_heading level0 col7\" >MCC</th>\n",
              "    </tr>\n",
              "  </thead>\n",
              "  <tbody>\n",
              "    <tr>\n",
              "      <th id=\"T_0c46d_level0_row0\" class=\"row_heading level0 row0\" >0</th>\n",
              "      <td id=\"T_0c46d_row0_col0\" class=\"data row0 col0\" >Gradient Boosting Classifier</td>\n",
              "      <td id=\"T_0c46d_row0_col1\" class=\"data row0 col1\" >0.9019</td>\n",
              "      <td id=\"T_0c46d_row0_col2\" class=\"data row0 col2\" >0.9551</td>\n",
              "      <td id=\"T_0c46d_row0_col3\" class=\"data row0 col3\" >0.8618</td>\n",
              "      <td id=\"T_0c46d_row0_col4\" class=\"data row0 col4\" >0.8675</td>\n",
              "      <td id=\"T_0c46d_row0_col5\" class=\"data row0 col5\" >0.8647</td>\n",
              "      <td id=\"T_0c46d_row0_col6\" class=\"data row0 col6\" >0.7878</td>\n",
              "      <td id=\"T_0c46d_row0_col7\" class=\"data row0 col7\" >0.7878</td>\n",
              "    </tr>\n",
              "  </tbody>\n",
              "</table>\n"
            ]
          },
          "metadata": {}
        },
        {
          "output_type": "execute_result",
          "data": {
            "text/plain": [
              "   Pclass_2.0  Pclass_3.0  Pclass_1.0  Sex   Age  SibSp  Parch     Fare  \\\n",
              "0         0.0         1.0         0.0  1.0  34.5    0.0    0.0   7.8292   \n",
              "1         0.0         1.0         0.0  0.0  47.0    1.0    0.0   7.0000   \n",
              "2         1.0         0.0         0.0  1.0  62.0    0.0    0.0   9.6875   \n",
              "3         0.0         1.0         0.0  1.0  27.0    0.0    0.0   8.6625   \n",
              "4         0.0         1.0         0.0  0.0  22.0    1.0    1.0  12.2875   \n",
              "\n",
              "   Embarked_S  Embarked_Q  Embarked_C  CabinYN  Survived  prediction_label  \\\n",
              "0         0.0         1.0         0.0      0.0         0                 0   \n",
              "1         1.0         0.0         0.0      0.0         1                 0   \n",
              "2         0.0         1.0         0.0      0.0         0                 0   \n",
              "3         1.0         0.0         0.0      0.0         0                 0   \n",
              "4         1.0         0.0         0.0      0.0         1                 1   \n",
              "\n",
              "   prediction_score  \n",
              "0            0.9298  \n",
              "1            0.8687  \n",
              "2            0.9214  \n",
              "3            0.7727  \n",
              "4            0.5558  "
            ],
            "text/html": [
              "\n",
              "  <div id=\"df-ec09baea-898d-40db-afff-7da1512ea865\">\n",
              "    <div class=\"colab-df-container\">\n",
              "      <div>\n",
              "<style scoped>\n",
              "    .dataframe tbody tr th:only-of-type {\n",
              "        vertical-align: middle;\n",
              "    }\n",
              "\n",
              "    .dataframe tbody tr th {\n",
              "        vertical-align: top;\n",
              "    }\n",
              "\n",
              "    .dataframe thead th {\n",
              "        text-align: right;\n",
              "    }\n",
              "</style>\n",
              "<table border=\"1\" class=\"dataframe\">\n",
              "  <thead>\n",
              "    <tr style=\"text-align: right;\">\n",
              "      <th></th>\n",
              "      <th>Pclass_2.0</th>\n",
              "      <th>Pclass_3.0</th>\n",
              "      <th>Pclass_1.0</th>\n",
              "      <th>Sex</th>\n",
              "      <th>Age</th>\n",
              "      <th>SibSp</th>\n",
              "      <th>Parch</th>\n",
              "      <th>Fare</th>\n",
              "      <th>Embarked_S</th>\n",
              "      <th>Embarked_Q</th>\n",
              "      <th>Embarked_C</th>\n",
              "      <th>CabinYN</th>\n",
              "      <th>Survived</th>\n",
              "      <th>prediction_label</th>\n",
              "      <th>prediction_score</th>\n",
              "    </tr>\n",
              "  </thead>\n",
              "  <tbody>\n",
              "    <tr>\n",
              "      <th>0</th>\n",
              "      <td>0.0</td>\n",
              "      <td>1.0</td>\n",
              "      <td>0.0</td>\n",
              "      <td>1.0</td>\n",
              "      <td>34.5</td>\n",
              "      <td>0.0</td>\n",
              "      <td>0.0</td>\n",
              "      <td>7.8292</td>\n",
              "      <td>0.0</td>\n",
              "      <td>1.0</td>\n",
              "      <td>0.0</td>\n",
              "      <td>0.0</td>\n",
              "      <td>0</td>\n",
              "      <td>0</td>\n",
              "      <td>0.9298</td>\n",
              "    </tr>\n",
              "    <tr>\n",
              "      <th>1</th>\n",
              "      <td>0.0</td>\n",
              "      <td>1.0</td>\n",
              "      <td>0.0</td>\n",
              "      <td>0.0</td>\n",
              "      <td>47.0</td>\n",
              "      <td>1.0</td>\n",
              "      <td>0.0</td>\n",
              "      <td>7.0000</td>\n",
              "      <td>1.0</td>\n",
              "      <td>0.0</td>\n",
              "      <td>0.0</td>\n",
              "      <td>0.0</td>\n",
              "      <td>1</td>\n",
              "      <td>0</td>\n",
              "      <td>0.8687</td>\n",
              "    </tr>\n",
              "    <tr>\n",
              "      <th>2</th>\n",
              "      <td>1.0</td>\n",
              "      <td>0.0</td>\n",
              "      <td>0.0</td>\n",
              "      <td>1.0</td>\n",
              "      <td>62.0</td>\n",
              "      <td>0.0</td>\n",
              "      <td>0.0</td>\n",
              "      <td>9.6875</td>\n",
              "      <td>0.0</td>\n",
              "      <td>1.0</td>\n",
              "      <td>0.0</td>\n",
              "      <td>0.0</td>\n",
              "      <td>0</td>\n",
              "      <td>0</td>\n",
              "      <td>0.9214</td>\n",
              "    </tr>\n",
              "    <tr>\n",
              "      <th>3</th>\n",
              "      <td>0.0</td>\n",
              "      <td>1.0</td>\n",
              "      <td>0.0</td>\n",
              "      <td>1.0</td>\n",
              "      <td>27.0</td>\n",
              "      <td>0.0</td>\n",
              "      <td>0.0</td>\n",
              "      <td>8.6625</td>\n",
              "      <td>1.0</td>\n",
              "      <td>0.0</td>\n",
              "      <td>0.0</td>\n",
              "      <td>0.0</td>\n",
              "      <td>0</td>\n",
              "      <td>0</td>\n",
              "      <td>0.7727</td>\n",
              "    </tr>\n",
              "    <tr>\n",
              "      <th>4</th>\n",
              "      <td>0.0</td>\n",
              "      <td>1.0</td>\n",
              "      <td>0.0</td>\n",
              "      <td>0.0</td>\n",
              "      <td>22.0</td>\n",
              "      <td>1.0</td>\n",
              "      <td>1.0</td>\n",
              "      <td>12.2875</td>\n",
              "      <td>1.0</td>\n",
              "      <td>0.0</td>\n",
              "      <td>0.0</td>\n",
              "      <td>0.0</td>\n",
              "      <td>1</td>\n",
              "      <td>1</td>\n",
              "      <td>0.5558</td>\n",
              "    </tr>\n",
              "  </tbody>\n",
              "</table>\n",
              "</div>\n",
              "      <button class=\"colab-df-convert\" onclick=\"convertToInteractive('df-ec09baea-898d-40db-afff-7da1512ea865')\"\n",
              "              title=\"Convert this dataframe to an interactive table.\"\n",
              "              style=\"display:none;\">\n",
              "        \n",
              "  <svg xmlns=\"http://www.w3.org/2000/svg\" height=\"24px\"viewBox=\"0 0 24 24\"\n",
              "       width=\"24px\">\n",
              "    <path d=\"M0 0h24v24H0V0z\" fill=\"none\"/>\n",
              "    <path d=\"M18.56 5.44l.94 2.06.94-2.06 2.06-.94-2.06-.94-.94-2.06-.94 2.06-2.06.94zm-11 1L8.5 8.5l.94-2.06 2.06-.94-2.06-.94L8.5 2.5l-.94 2.06-2.06.94zm10 10l.94 2.06.94-2.06 2.06-.94-2.06-.94-.94-2.06-.94 2.06-2.06.94z\"/><path d=\"M17.41 7.96l-1.37-1.37c-.4-.4-.92-.59-1.43-.59-.52 0-1.04.2-1.43.59L10.3 9.45l-7.72 7.72c-.78.78-.78 2.05 0 2.83L4 21.41c.39.39.9.59 1.41.59.51 0 1.02-.2 1.41-.59l7.78-7.78 2.81-2.81c.8-.78.8-2.07 0-2.86zM5.41 20L4 18.59l7.72-7.72 1.47 1.35L5.41 20z\"/>\n",
              "  </svg>\n",
              "      </button>\n",
              "      \n",
              "  <style>\n",
              "    .colab-df-container {\n",
              "      display:flex;\n",
              "      flex-wrap:wrap;\n",
              "      gap: 12px;\n",
              "    }\n",
              "\n",
              "    .colab-df-convert {\n",
              "      background-color: #E8F0FE;\n",
              "      border: none;\n",
              "      border-radius: 50%;\n",
              "      cursor: pointer;\n",
              "      display: none;\n",
              "      fill: #1967D2;\n",
              "      height: 32px;\n",
              "      padding: 0 0 0 0;\n",
              "      width: 32px;\n",
              "    }\n",
              "\n",
              "    .colab-df-convert:hover {\n",
              "      background-color: #E2EBFA;\n",
              "      box-shadow: 0px 1px 2px rgba(60, 64, 67, 0.3), 0px 1px 3px 1px rgba(60, 64, 67, 0.15);\n",
              "      fill: #174EA6;\n",
              "    }\n",
              "\n",
              "    [theme=dark] .colab-df-convert {\n",
              "      background-color: #3B4455;\n",
              "      fill: #D2E3FC;\n",
              "    }\n",
              "\n",
              "    [theme=dark] .colab-df-convert:hover {\n",
              "      background-color: #434B5C;\n",
              "      box-shadow: 0px 1px 3px 1px rgba(0, 0, 0, 0.15);\n",
              "      filter: drop-shadow(0px 1px 2px rgba(0, 0, 0, 0.3));\n",
              "      fill: #FFFFFF;\n",
              "    }\n",
              "  </style>\n",
              "\n",
              "      <script>\n",
              "        const buttonEl =\n",
              "          document.querySelector('#df-ec09baea-898d-40db-afff-7da1512ea865 button.colab-df-convert');\n",
              "        buttonEl.style.display =\n",
              "          google.colab.kernel.accessAllowed ? 'block' : 'none';\n",
              "\n",
              "        async function convertToInteractive(key) {\n",
              "          const element = document.querySelector('#df-ec09baea-898d-40db-afff-7da1512ea865');\n",
              "          const dataTable =\n",
              "            await google.colab.kernel.invokeFunction('convertToInteractive',\n",
              "                                                     [key], {});\n",
              "          if (!dataTable) return;\n",
              "\n",
              "          const docLinkHtml = 'Like what you see? Visit the ' +\n",
              "            '<a target=\"_blank\" href=https://colab.research.google.com/notebooks/data_table.ipynb>data table notebook</a>'\n",
              "            + ' to learn more about interactive tables.';\n",
              "          element.innerHTML = '';\n",
              "          dataTable['output_type'] = 'display_data';\n",
              "          await google.colab.output.renderOutput(dataTable, element);\n",
              "          const docLink = document.createElement('div');\n",
              "          docLink.innerHTML = docLinkHtml;\n",
              "          element.appendChild(docLink);\n",
              "        }\n",
              "      </script>\n",
              "    </div>\n",
              "  </div>\n",
              "  "
            ]
          },
          "metadata": {},
          "execution_count": 42
        }
      ]
    },
    {
      "cell_type": "markdown",
      "source": [
        "E aqui concluimos que até na base de testes fornecida conseguimos umas acurácia de 0.9019 e um AUC de 0.9551, números grandes em uma modelagem de dados."
      ],
      "metadata": {
        "id": "9hLIUSFYiUn9"
      }
    },
    {
      "cell_type": "code",
      "source": [],
      "metadata": {
        "id": "JFqxBEZGH7B9"
      },
      "execution_count": null,
      "outputs": []
    }
  ]
}